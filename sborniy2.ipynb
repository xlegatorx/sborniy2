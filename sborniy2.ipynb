{
 "cells": [
  {
   "cell_type": "markdown",
   "metadata": {},
   "source": [
    "### Откройте файл с данными и изучите общую информацию"
   ]
  },
  {
   "cell_type": "code",
   "execution_count": 1,
   "metadata": {},
   "outputs": [],
   "source": [
    "import pandas as pd\n",
    "import datetime as dt\n",
    "import numpy as np\n",
    "import matplotlib.pyplot as plt\n",
    "from pandas.plotting import register_matplotlib_converters\n",
    "import scipy.stats as st\n",
    "import warnings\n",
    "import seaborn as sns\n",
    "from scipy.stats import mannwhitneyu\n",
    "import math as mth"
   ]
  },
  {
   "cell_type": "code",
   "execution_count": 2,
   "metadata": {},
   "outputs": [],
   "source": [
    "df = pd.read_csv('/datasets/logs_exp.csv', sep = '\\t')"
   ]
  },
  {
   "cell_type": "code",
   "execution_count": 3,
   "metadata": {
    "scrolled": true
   },
   "outputs": [
    {
     "name": "stdout",
     "output_type": "stream",
     "text": [
      "Ознакомление с датафреймом\n",
      "\n"
     ]
    },
    {
     "data": {
      "text/html": [
       "<div>\n",
       "<style scoped>\n",
       "    .dataframe tbody tr th:only-of-type {\n",
       "        vertical-align: middle;\n",
       "    }\n",
       "\n",
       "    .dataframe tbody tr th {\n",
       "        vertical-align: top;\n",
       "    }\n",
       "\n",
       "    .dataframe thead th {\n",
       "        text-align: right;\n",
       "    }\n",
       "</style>\n",
       "<table border=\"1\" class=\"dataframe\">\n",
       "  <thead>\n",
       "    <tr style=\"text-align: right;\">\n",
       "      <th></th>\n",
       "      <th>EventName</th>\n",
       "      <th>DeviceIDHash</th>\n",
       "      <th>EventTimestamp</th>\n",
       "      <th>ExpId</th>\n",
       "    </tr>\n",
       "  </thead>\n",
       "  <tbody>\n",
       "    <tr>\n",
       "      <th>0</th>\n",
       "      <td>MainScreenAppear</td>\n",
       "      <td>4575588528974610257</td>\n",
       "      <td>1564029816</td>\n",
       "      <td>246</td>\n",
       "    </tr>\n",
       "    <tr>\n",
       "      <th>1</th>\n",
       "      <td>MainScreenAppear</td>\n",
       "      <td>7416695313311560658</td>\n",
       "      <td>1564053102</td>\n",
       "      <td>246</td>\n",
       "    </tr>\n",
       "    <tr>\n",
       "      <th>2</th>\n",
       "      <td>PaymentScreenSuccessful</td>\n",
       "      <td>3518123091307005509</td>\n",
       "      <td>1564054127</td>\n",
       "      <td>248</td>\n",
       "    </tr>\n",
       "    <tr>\n",
       "      <th>3</th>\n",
       "      <td>CartScreenAppear</td>\n",
       "      <td>3518123091307005509</td>\n",
       "      <td>1564054127</td>\n",
       "      <td>248</td>\n",
       "    </tr>\n",
       "    <tr>\n",
       "      <th>4</th>\n",
       "      <td>PaymentScreenSuccessful</td>\n",
       "      <td>6217807653094995999</td>\n",
       "      <td>1564055322</td>\n",
       "      <td>248</td>\n",
       "    </tr>\n",
       "  </tbody>\n",
       "</table>\n",
       "</div>"
      ],
      "text/plain": [
       "                 EventName         DeviceIDHash  EventTimestamp  ExpId\n",
       "0         MainScreenAppear  4575588528974610257      1564029816    246\n",
       "1         MainScreenAppear  7416695313311560658      1564053102    246\n",
       "2  PaymentScreenSuccessful  3518123091307005509      1564054127    248\n",
       "3         CartScreenAppear  3518123091307005509      1564054127    248\n",
       "4  PaymentScreenSuccessful  6217807653094995999      1564055322    248"
      ]
     },
     "metadata": {},
     "output_type": "display_data"
    },
    {
     "name": "stdout",
     "output_type": "stream",
     "text": [
      "Получены первые 5 строк датафрейма\n",
      "\n",
      "Общее количество столбцов в датафрейме: 4 Количество строк в датафрейме 244126\n",
      "\n",
      "<class 'pandas.core.frame.DataFrame'>\n",
      "RangeIndex: 244126 entries, 0 to 244125\n",
      "Data columns (total 4 columns):\n",
      " #   Column          Non-Null Count   Dtype \n",
      "---  ------          --------------   ----- \n",
      " 0   EventName       244126 non-null  object\n",
      " 1   DeviceIDHash    244126 non-null  int64 \n",
      " 2   EventTimestamp  244126 non-null  int64 \n",
      " 3   ExpId           244126 non-null  int64 \n",
      "dtypes: int64(3), object(1)\n",
      "memory usage: 7.5+ MB\n",
      "None\n",
      "Получена основная информация о датафрейме\n",
      "\n",
      "Количество пропущенных в каждом столбце:\n",
      "EventName         0\n",
      "DeviceIDHash      0\n",
      "EventTimestamp    0\n",
      "ExpId             0\n",
      "dtype: int64\n",
      "\n",
      "Количество полностью дублирующихся строк: 413. В процентах 0.169%\n"
     ]
    }
   ],
   "source": [
    "def total_info(data):\n",
    "    print('Ознакомление с датафреймом')\n",
    "    print('')\n",
    "    \n",
    "    \n",
    "    display(data.head())\n",
    "    print('Получены первые 5 строк датафрейма')\n",
    "    print('')\n",
    "    \n",
    "    size = 'Общее количество столбцов в датафрейме: {cols} Количество строк в датафрейме {rows}'\n",
    "    size = size.format(cols = data.shape[1], rows = data.shape[0])\n",
    "    print(size)\n",
    "    print('')\n",
    "    \n",
    "    print(data.info())\n",
    "    print('Получена основная информация о датафрейме')\n",
    "    print('')\n",
    "    \n",
    "    print('Количество пропущенных в каждом столбце:')\n",
    "    print(data.isna().sum())\n",
    "    print('')\n",
    "    \n",
    "    duplicated = 'Количество полностью дублирующихся строк: {duplicate}. В процентах {percent}%'\n",
    "    duplicated = duplicated.format(duplicate =data.duplicated().sum(), percent = round(data.duplicated().sum() / data.shape[0] * 100,3))\n",
    "    print(duplicated)\n",
    "\n",
    "total_info(df)"
   ]
  },
  {
   "cell_type": "markdown",
   "metadata": {},
   "source": [
    "**После ознакомления с датафреймом выявлено:**\n",
    "    \n",
    "- Названия столбцов не соответствуют змеиному регистру, на этапе предобработки необходимо привести их в соответствие с PEP8\n",
    "- Размер датафрейма 244126 строк и 4 столбца\n",
    "- В столбце EventTimestamp несоответсвие типу данных (представляет собой количество секунд с начала эпохи Unix (1 января 1970 года 00:00:00 UTC))\n",
    "- Обнаружено 413 полностью дублирующмхся строк, что составляет 0.169% от полного объема данных)\n",
    "- Пропущенных значений нету ни в одном из столбцов"
   ]
  },
  {
   "cell_type": "markdown",
   "metadata": {},
   "source": [
    "### Подготовьте данные"
   ]
  },
  {
   "cell_type": "markdown",
   "metadata": {},
   "source": [
    "#### Замените названия столбцов на удобные для вас;"
   ]
  },
  {
   "cell_type": "code",
   "execution_count": 4,
   "metadata": {},
   "outputs": [
    {
     "data": {
      "text/plain": [
       "Index(['event_name', 'user_id', 'event_time', 'group'], dtype='object')"
      ]
     },
     "execution_count": 4,
     "metadata": {},
     "output_type": "execute_result"
    }
   ],
   "source": [
    "df.columns = ['event_name','user_id','event_time','group'] # user_id заменил DeviceIDHash, ExpId - на group\n",
    "df.columns"
   ]
  },
  {
   "cell_type": "markdown",
   "metadata": {},
   "source": [
    "Названия столбцов переведены в змеиный регистр"
   ]
  },
  {
   "cell_type": "markdown",
   "metadata": {},
   "source": [
    "#### Проверьте пропуски и типы данных. Откорректируйте, если нужно;"
   ]
  },
  {
   "cell_type": "code",
   "execution_count": 5,
   "metadata": {},
   "outputs": [],
   "source": [
    "df = df.drop_duplicates().reset_index(drop=True)"
   ]
  },
  {
   "cell_type": "code",
   "execution_count": 6,
   "metadata": {
    "scrolled": true
   },
   "outputs": [
    {
     "data": {
      "text/plain": [
       "0"
      ]
     },
     "execution_count": 6,
     "metadata": {},
     "output_type": "execute_result"
    }
   ],
   "source": [
    "df.duplicated().sum()"
   ]
  },
  {
   "cell_type": "code",
   "execution_count": 7,
   "metadata": {},
   "outputs": [
    {
     "data": {
      "text/plain": [
       "event_name    0\n",
       "user_id       0\n",
       "event_time    0\n",
       "group         0\n",
       "dtype: int64"
      ]
     },
     "execution_count": 7,
     "metadata": {},
     "output_type": "execute_result"
    }
   ],
   "source": [
    "df.isna().sum()"
   ]
  },
  {
   "cell_type": "markdown",
   "metadata": {},
   "source": [
    "- Удалены 413 дублирующиеся строки\n",
    "- Пропущенных значений на этапе ознакомления выявлено не было "
   ]
  },
  {
   "cell_type": "markdown",
   "metadata": {},
   "source": [
    "#### Добавьте столбец даты и времени, а также отдельный столбец дат;"
   ]
  },
  {
   "cell_type": "code",
   "execution_count": 8,
   "metadata": {},
   "outputs": [],
   "source": [
    "df['event_time'] = pd.to_datetime(df['event_time'], unit = 's')\n",
    "df['date'] = df['event_time'].dt.date\n",
    "df['date'] = pd.to_datetime(df['date'], format='%Y-%m-%d')"
   ]
  },
  {
   "cell_type": "code",
   "execution_count": 9,
   "metadata": {
    "scrolled": true
   },
   "outputs": [
    {
     "data": {
      "text/html": [
       "<div>\n",
       "<style scoped>\n",
       "    .dataframe tbody tr th:only-of-type {\n",
       "        vertical-align: middle;\n",
       "    }\n",
       "\n",
       "    .dataframe tbody tr th {\n",
       "        vertical-align: top;\n",
       "    }\n",
       "\n",
       "    .dataframe thead th {\n",
       "        text-align: right;\n",
       "    }\n",
       "</style>\n",
       "<table border=\"1\" class=\"dataframe\">\n",
       "  <thead>\n",
       "    <tr style=\"text-align: right;\">\n",
       "      <th></th>\n",
       "      <th>event_name</th>\n",
       "      <th>user_id</th>\n",
       "      <th>event_time</th>\n",
       "      <th>group</th>\n",
       "      <th>date</th>\n",
       "    </tr>\n",
       "  </thead>\n",
       "  <tbody>\n",
       "    <tr>\n",
       "      <th>0</th>\n",
       "      <td>MainScreenAppear</td>\n",
       "      <td>4575588528974610257</td>\n",
       "      <td>2019-07-25 04:43:36</td>\n",
       "      <td>246</td>\n",
       "      <td>2019-07-25</td>\n",
       "    </tr>\n",
       "    <tr>\n",
       "      <th>1</th>\n",
       "      <td>MainScreenAppear</td>\n",
       "      <td>7416695313311560658</td>\n",
       "      <td>2019-07-25 11:11:42</td>\n",
       "      <td>246</td>\n",
       "      <td>2019-07-25</td>\n",
       "    </tr>\n",
       "    <tr>\n",
       "      <th>2</th>\n",
       "      <td>PaymentScreenSuccessful</td>\n",
       "      <td>3518123091307005509</td>\n",
       "      <td>2019-07-25 11:28:47</td>\n",
       "      <td>248</td>\n",
       "      <td>2019-07-25</td>\n",
       "    </tr>\n",
       "    <tr>\n",
       "      <th>3</th>\n",
       "      <td>CartScreenAppear</td>\n",
       "      <td>3518123091307005509</td>\n",
       "      <td>2019-07-25 11:28:47</td>\n",
       "      <td>248</td>\n",
       "      <td>2019-07-25</td>\n",
       "    </tr>\n",
       "    <tr>\n",
       "      <th>4</th>\n",
       "      <td>PaymentScreenSuccessful</td>\n",
       "      <td>6217807653094995999</td>\n",
       "      <td>2019-07-25 11:48:42</td>\n",
       "      <td>248</td>\n",
       "      <td>2019-07-25</td>\n",
       "    </tr>\n",
       "  </tbody>\n",
       "</table>\n",
       "</div>"
      ],
      "text/plain": [
       "                event_name              user_id          event_time  group  \\\n",
       "0         MainScreenAppear  4575588528974610257 2019-07-25 04:43:36    246   \n",
       "1         MainScreenAppear  7416695313311560658 2019-07-25 11:11:42    246   \n",
       "2  PaymentScreenSuccessful  3518123091307005509 2019-07-25 11:28:47    248   \n",
       "3         CartScreenAppear  3518123091307005509 2019-07-25 11:28:47    248   \n",
       "4  PaymentScreenSuccessful  6217807653094995999 2019-07-25 11:48:42    248   \n",
       "\n",
       "        date  \n",
       "0 2019-07-25  \n",
       "1 2019-07-25  \n",
       "2 2019-07-25  \n",
       "3 2019-07-25  \n",
       "4 2019-07-25  "
      ]
     },
     "metadata": {},
     "output_type": "display_data"
    }
   ],
   "source": [
    "display(df.head())"
   ]
  },
  {
   "cell_type": "code",
   "execution_count": 10,
   "metadata": {
    "scrolled": true
   },
   "outputs": [
    {
     "name": "stdout",
     "output_type": "stream",
     "text": [
      "<class 'pandas.core.frame.DataFrame'>\n",
      "RangeIndex: 243713 entries, 0 to 243712\n",
      "Data columns (total 5 columns):\n",
      " #   Column      Non-Null Count   Dtype         \n",
      "---  ------      --------------   -----         \n",
      " 0   event_name  243713 non-null  object        \n",
      " 1   user_id     243713 non-null  int64         \n",
      " 2   event_time  243713 non-null  datetime64[ns]\n",
      " 3   group       243713 non-null  int64         \n",
      " 4   date        243713 non-null  datetime64[ns]\n",
      "dtypes: datetime64[ns](2), int64(2), object(1)\n",
      "memory usage: 9.3+ MB\n"
     ]
    }
   ],
   "source": [
    "df.info()"
   ]
  },
  {
   "cell_type": "markdown",
   "metadata": {},
   "source": [
    "- Столбец event_time приведен к типу datetime\n",
    "- Добавлен столбец с датой date в формате date"
   ]
  },
  {
   "cell_type": "markdown",
   "metadata": {},
   "source": [
    "**Выполнена предобработка данных**\n",
    "\n",
    "- Добавлены столбец с датой, event_time переведен в формат дата и время\n",
    "- Удалены пропуски\n",
    "- Явных дубликатов не обнаружено\n",
    "- Столбцы приведены к змеиному регистру\n"
   ]
  },
  {
   "cell_type": "markdown",
   "metadata": {},
   "source": [
    "### Изучите и проверьте данные"
   ]
  },
  {
   "cell_type": "markdown",
   "metadata": {},
   "source": [
    "#### Сколько всего событий в логе?"
   ]
  },
  {
   "cell_type": "code",
   "execution_count": 11,
   "metadata": {
    "scrolled": true
   },
   "outputs": [
    {
     "data": {
      "text/plain": [
       "243713"
      ]
     },
     "execution_count": 11,
     "metadata": {},
     "output_type": "execute_result"
    }
   ],
   "source": [
    "df.shape[0]"
   ]
  },
  {
   "cell_type": "markdown",
   "metadata": {},
   "source": [
    "Общее количетсво событий 243713"
   ]
  },
  {
   "cell_type": "code",
   "execution_count": 12,
   "metadata": {
    "scrolled": true
   },
   "outputs": [
    {
     "data": {
      "text/plain": [
       "MainScreenAppear           119101\n",
       "OffersScreenAppear          46808\n",
       "CartScreenAppear            42668\n",
       "PaymentScreenSuccessful     34118\n",
       "Tutorial                     1018\n",
       "Name: event_name, dtype: int64"
      ]
     },
     "execution_count": 12,
     "metadata": {},
     "output_type": "execute_result"
    }
   ],
   "source": [
    "df['event_name'].value_counts()"
   ]
  },
  {
   "cell_type": "markdown",
   "metadata": {},
   "source": [
    " <a id=\"my_anchor\"></a> <a id=\"my_anchor2\"></a>"
   ]
  },
  {
   "cell_type": "markdown",
   "metadata": {},
   "source": [
    "- MainScreenAppear - появление главного экрана 119101\n",
    "- OffersScreenAppear - появление экрана предложений 46808\n",
    "- CartScreenAppear - экран корзины 42668\n",
    "- PaymentScreenSuccessful - экран успешной оплаты 34118\n",
    "- Tutorial - руководство 1018 \n"
   ]
  },
  {
   "cell_type": "markdown",
   "metadata": {},
   "source": [
    "#### Сколько всего пользователей в логе?"
   ]
  },
  {
   "cell_type": "code",
   "execution_count": 13,
   "metadata": {
    "scrolled": true
   },
   "outputs": [
    {
     "data": {
      "text/plain": [
       "7551"
      ]
     },
     "execution_count": 13,
     "metadata": {},
     "output_type": "execute_result"
    }
   ],
   "source": [
    "df['user_id'].nunique()"
   ]
  },
  {
   "cell_type": "markdown",
   "metadata": {},
   "source": [
    "Количество уникальных пользователей 7551"
   ]
  },
  {
   "cell_type": "markdown",
   "metadata": {},
   "source": [
    "#### Сколько в среднем событий приходится на пользователя?"
   ]
  },
  {
   "cell_type": "code",
   "execution_count": 14,
   "metadata": {
    "scrolled": true
   },
   "outputs": [
    {
     "data": {
      "text/html": [
       "<div>\n",
       "<style scoped>\n",
       "    .dataframe tbody tr th:only-of-type {\n",
       "        vertical-align: middle;\n",
       "    }\n",
       "\n",
       "    .dataframe tbody tr th {\n",
       "        vertical-align: top;\n",
       "    }\n",
       "\n",
       "    .dataframe thead th {\n",
       "        text-align: right;\n",
       "    }\n",
       "</style>\n",
       "<table border=\"1\" class=\"dataframe\">\n",
       "  <thead>\n",
       "    <tr style=\"text-align: right;\">\n",
       "      <th></th>\n",
       "      <th>event_name</th>\n",
       "    </tr>\n",
       "  </thead>\n",
       "  <tbody>\n",
       "    <tr>\n",
       "      <th>count</th>\n",
       "      <td>7551.000000</td>\n",
       "    </tr>\n",
       "    <tr>\n",
       "      <th>mean</th>\n",
       "      <td>32.275593</td>\n",
       "    </tr>\n",
       "    <tr>\n",
       "      <th>std</th>\n",
       "      <td>65.154219</td>\n",
       "    </tr>\n",
       "    <tr>\n",
       "      <th>min</th>\n",
       "      <td>1.000000</td>\n",
       "    </tr>\n",
       "    <tr>\n",
       "      <th>25%</th>\n",
       "      <td>9.000000</td>\n",
       "    </tr>\n",
       "    <tr>\n",
       "      <th>50%</th>\n",
       "      <td>20.000000</td>\n",
       "    </tr>\n",
       "    <tr>\n",
       "      <th>75%</th>\n",
       "      <td>37.000000</td>\n",
       "    </tr>\n",
       "    <tr>\n",
       "      <th>max</th>\n",
       "      <td>2307.000000</td>\n",
       "    </tr>\n",
       "  </tbody>\n",
       "</table>\n",
       "</div>"
      ],
      "text/plain": [
       "        event_name\n",
       "count  7551.000000\n",
       "mean     32.275593\n",
       "std      65.154219\n",
       "min       1.000000\n",
       "25%       9.000000\n",
       "50%      20.000000\n",
       "75%      37.000000\n",
       "max    2307.000000"
      ]
     },
     "execution_count": 14,
     "metadata": {},
     "output_type": "execute_result"
    }
   ],
   "source": [
    "df.groupby('user_id').agg({'event_name':'count'}).describe()"
   ]
  },
  {
   "cell_type": "markdown",
   "metadata": {},
   "source": [
    "- Медианное значение: 20\n",
    "- Среднее значение: 32"
   ]
  },
  {
   "cell_type": "markdown",
   "metadata": {},
   "source": [
    "#### Данными за какой период вы располагаете? Найдите максимальную и минимальную дату. Изучите, как меняется количество данных: постройте столбчатую диаграмму, которая отобразит количество событий в зависимости от времени в разрезе групп. Можно ли быть уверенным, что у вас одинаково полные данные за весь период? Технически в логи новых дней по некоторым пользователям могут «доезжать» события из прошлого  — это может «перекашивать данные». Определите, с какого момента данные полные и отбросьте более старые. Данными за какой период времени вы располагаете на самом деле?"
   ]
  },
  {
   "cell_type": "code",
   "execution_count": 15,
   "metadata": {
    "scrolled": true
   },
   "outputs": [
    {
     "name": "stdout",
     "output_type": "stream",
     "text": [
      "2019-07-25 04:43:36\n",
      "2019-08-07 21:15:17\n",
      "13 days 16:31:41\n"
     ]
    }
   ],
   "source": [
    "print(df['event_time'].min())\n",
    "print(df['event_time'].max())\n",
    "print(df['event_time'].max() - df['event_time'].min())"
   ]
  },
  {
   "cell_type": "markdown",
   "metadata": {},
   "source": [
    "**Начало периода:** 2019-07-25 04:43:36\n",
    "            \n",
    "**Конец периода:** 2019-08-07 21:15:17\n",
    "            \n",
    "**Продолжительность периода:** 13 days 16:31:41"
   ]
  },
  {
   "cell_type": "code",
   "execution_count": 16,
   "metadata": {},
   "outputs": [
    {
     "data": {
      "image/png": "[encoded data removed]",
      "text/plain": [
       "<Figure size 864x576 with 1 Axes>"
      ]
     },
     "metadata": {
      "needs_background": "light"
     },
     "output_type": "display_data"
    }
   ],
   "source": [
    "group_246 = df[df['group'] == 246]\n",
    "group_247 = df[df['group'] == 247]\n",
    "group_248 = df[df['group'] == 248]\n",
    "\n",
    "events_246 = group_246['date'].value_counts().sort_index()\n",
    "events_247 = group_247['date'].value_counts().sort_index()\n",
    "events_248 = group_248['date'].value_counts().sort_index()\n",
    "\n",
    "plt.figure(figsize=(12, 8))\n",
    "plt.bar(events_246.index, events_246.values, width=0.2, align='center', label='Group 246',alpha=0.7)\n",
    "plt.bar(events_247.index + pd.Timedelta(days=0.2), events_247.values, width=0.2, align='center', label='Group 247',alpha=0.7)\n",
    "plt.bar(events_248.index + pd.Timedelta(days=0.4), events_248.values, width=0.2, align='center', label='Group 248',alpha=0.7)\n",
    "\n",
    "plt.xlabel('Дата')\n",
    "plt.ylabel('Количество событий')\n",
    "plt.title('Столбчатая диаграмма с количеством событий в зависимости от времени в разрезе групп')\n",
    "plt.legend()\n",
    "plt.xticks(rotation=45)\n",
    "plt.tight_layout()\n",
    "plt.show()"
   ]
  },
  {
   "cell_type": "code",
   "execution_count": 17,
   "metadata": {},
   "outputs": [
    {
     "data": {
      "text/plain": [
       "2826"
      ]
     },
     "execution_count": 17,
     "metadata": {},
     "output_type": "execute_result"
    }
   ],
   "source": [
    "df_modified = df.query('date >= \"2019-08-01\"') # данные до 1 августа некорректны по причине их неполноты \n",
    "df.shape[0] - df_modified.shape[0]"
   ]
  },
  {
   "cell_type": "markdown",
   "metadata": {},
   "source": [
    "#### Много ли событий и пользователей вы потеряли, отбросив старые данные?"
   ]
  },
  {
   "cell_type": "code",
   "execution_count": 18,
   "metadata": {},
   "outputs": [],
   "source": [
    "loss_percent_events = round((df.shape[0] - df_modified.shape[0]) / (df.shape[0]) * 100,2)\n",
    "loss_amount_events = df.shape[0] - df_modified.shape[0]"
   ]
  },
  {
   "cell_type": "code",
   "execution_count": 19,
   "metadata": {},
   "outputs": [],
   "source": [
    "loss_percent_users = round((df['user_id'].nunique() - df_modified['user_id'].nunique()) / df['user_id'].nunique() * 100,2)\n",
    "loss_amount_users = df['user_id'].nunique() - df_modified['user_id'].nunique()"
   ]
  },
  {
   "cell_type": "code",
   "execution_count": 20,
   "metadata": {
    "scrolled": true
   },
   "outputs": [
    {
     "name": "stdout",
     "output_type": "stream",
     "text": [
      "Количество потерянных событий: 2826,в процентах это составляет: 1.16%\n",
      "Количество потерянных пользователей: 17,в процентах это составляет: 0.23%\n"
     ]
    }
   ],
   "source": [
    "loss_events = 'Количество потерянных событий: {loss_amount_events},в процентах это составляет: {loss_percent_events}%'\n",
    "loss_events = loss_events.format(loss_amount_events = loss_amount_events,loss_percent_events=loss_percent_events)\n",
    "loss_users = 'Количество потерянных пользователей: {loss_amount_users},в процентах это составляет: {loss_percent_users}%'\n",
    "loss_users = loss_users.format(loss_amount_users=loss_amount_users,loss_percent_users=loss_percent_users)\n",
    "print(loss_events)\n",
    "print(loss_users)"
   ]
  },
  {
   "cell_type": "markdown",
   "metadata": {},
   "source": [
    "#### Проверьте, что у вас есть пользователи из всех трёх экспериментальных групп."
   ]
  },
  {
   "cell_type": "code",
   "execution_count": 21,
   "metadata": {
    "scrolled": true
   },
   "outputs": [
    {
     "data": {
      "text/plain": [
       "248    84563\n",
       "246    79302\n",
       "247    77022\n",
       "Name: group, dtype: int64"
      ]
     },
     "execution_count": 21,
     "metadata": {},
     "output_type": "execute_result"
    }
   ],
   "source": [
    "df_modified['group'].value_counts()"
   ]
  },
  {
   "cell_type": "markdown",
   "metadata": {},
   "source": [
    "Количетство событий в каждой группе"
   ]
  },
  {
   "cell_type": "code",
   "execution_count": 22,
   "metadata": {},
   "outputs": [
    {
     "data": {
      "text/html": [
       "<div>\n",
       "<style scoped>\n",
       "    .dataframe tbody tr th:only-of-type {\n",
       "        vertical-align: middle;\n",
       "    }\n",
       "\n",
       "    .dataframe tbody tr th {\n",
       "        vertical-align: top;\n",
       "    }\n",
       "\n",
       "    .dataframe thead th {\n",
       "        text-align: right;\n",
       "    }\n",
       "</style>\n",
       "<table border=\"1\" class=\"dataframe\">\n",
       "  <thead>\n",
       "    <tr style=\"text-align: right;\">\n",
       "      <th></th>\n",
       "      <th>group</th>\n",
       "      <th>user_id</th>\n",
       "    </tr>\n",
       "  </thead>\n",
       "  <tbody>\n",
       "    <tr>\n",
       "      <th>0</th>\n",
       "      <td>246</td>\n",
       "      <td>2484</td>\n",
       "    </tr>\n",
       "    <tr>\n",
       "      <th>1</th>\n",
       "      <td>247</td>\n",
       "      <td>2513</td>\n",
       "    </tr>\n",
       "    <tr>\n",
       "      <th>2</th>\n",
       "      <td>248</td>\n",
       "      <td>2537</td>\n",
       "    </tr>\n",
       "  </tbody>\n",
       "</table>\n",
       "</div>"
      ],
      "text/plain": [
       "   group  user_id\n",
       "0    246     2484\n",
       "1    247     2513\n",
       "2    248     2537"
      ]
     },
     "execution_count": 22,
     "metadata": {},
     "output_type": "execute_result"
    }
   ],
   "source": [
    "df_modified.groupby('group', as_index = False).agg({'user_id':'nunique'})"
   ]
  },
  {
   "cell_type": "markdown",
   "metadata": {},
   "source": [
    "В датасете присутствуют пользователи всех 3-х экспериментальных групп"
   ]
  },
  {
   "cell_type": "markdown",
   "metadata": {},
   "source": [
    "### Изучите воронку событий"
   ]
  },
  {
   "cell_type": "markdown",
   "metadata": {},
   "source": [
    "#### Посмотрите, какие события есть в логах, как часто они встречаются. Отсортируйте события по частоте."
   ]
  },
  {
   "cell_type": "code",
   "execution_count": 23,
   "metadata": {},
   "outputs": [
    {
     "data": {
      "text/plain": [
       "MainScreenAppear           117328\n",
       "OffersScreenAppear          46333\n",
       "CartScreenAppear            42303\n",
       "PaymentScreenSuccessful     33918\n",
       "Tutorial                     1005\n",
       "Name: event_name, dtype: int64"
      ]
     },
     "execution_count": 23,
     "metadata": {},
     "output_type": "execute_result"
    }
   ],
   "source": [
    "df_modified['event_name'].value_counts()"
   ]
  },
  {
   "cell_type": "markdown",
   "metadata": {},
   "source": [
    "Описание каждого события было оформлено <a href=\"#my_anchor\">ранее</a>\n"
   ]
  },
  {
   "cell_type": "markdown",
   "metadata": {},
   "source": [
    "#### Посчитайте, сколько пользователей совершали каждое из этих событий. Отсортируйте события по числу пользователей. Посчитайте долю пользователей, которые хоть раз совершали событие."
   ]
  },
  {
   "cell_type": "code",
   "execution_count": 24,
   "metadata": {
    "scrolled": true
   },
   "outputs": [
    {
     "data": {
      "text/html": [
       "<div>\n",
       "<style scoped>\n",
       "    .dataframe tbody tr th:only-of-type {\n",
       "        vertical-align: middle;\n",
       "    }\n",
       "\n",
       "    .dataframe tbody tr th {\n",
       "        vertical-align: top;\n",
       "    }\n",
       "\n",
       "    .dataframe thead th {\n",
       "        text-align: right;\n",
       "    }\n",
       "</style>\n",
       "<table border=\"1\" class=\"dataframe\">\n",
       "  <thead>\n",
       "    <tr style=\"text-align: right;\">\n",
       "      <th></th>\n",
       "      <th>event_name</th>\n",
       "      <th>event_count</th>\n",
       "      <th>unique_user_amount</th>\n",
       "    </tr>\n",
       "  </thead>\n",
       "  <tbody>\n",
       "    <tr>\n",
       "      <th>1</th>\n",
       "      <td>MainScreenAppear</td>\n",
       "      <td>117328</td>\n",
       "      <td>7419</td>\n",
       "    </tr>\n",
       "    <tr>\n",
       "      <th>2</th>\n",
       "      <td>OffersScreenAppear</td>\n",
       "      <td>46333</td>\n",
       "      <td>4593</td>\n",
       "    </tr>\n",
       "    <tr>\n",
       "      <th>0</th>\n",
       "      <td>CartScreenAppear</td>\n",
       "      <td>42303</td>\n",
       "      <td>3734</td>\n",
       "    </tr>\n",
       "    <tr>\n",
       "      <th>3</th>\n",
       "      <td>PaymentScreenSuccessful</td>\n",
       "      <td>33918</td>\n",
       "      <td>3539</td>\n",
       "    </tr>\n",
       "    <tr>\n",
       "      <th>4</th>\n",
       "      <td>Tutorial</td>\n",
       "      <td>1005</td>\n",
       "      <td>840</td>\n",
       "    </tr>\n",
       "  </tbody>\n",
       "</table>\n",
       "</div>"
      ],
      "text/plain": [
       "                event_name  event_count  unique_user_amount\n",
       "1         MainScreenAppear       117328                7419\n",
       "2       OffersScreenAppear        46333                4593\n",
       "0         CartScreenAppear        42303                3734\n",
       "3  PaymentScreenSuccessful        33918                3539\n",
       "4                 Tutorial         1005                 840"
      ]
     },
     "execution_count": 24,
     "metadata": {},
     "output_type": "execute_result"
    }
   ],
   "source": [
    "user_amount = df_modified.pivot_table(index = ['event_name'],\n",
    "                                      values = 'user_id',\n",
    "                                      aggfunc = {'nunique','count'}) \\\n",
    "                        .reset_index() \\\n",
    "                        .sort_values(by = 'nunique',ascending = False) \\\n",
    "                        .rename(columns = {'count':'event_count','nunique':'unique_user_amount'})\n",
    "user_amount"
   ]
  },
  {
   "cell_type": "code",
   "execution_count": 25,
   "metadata": {
    "scrolled": false
   },
   "outputs": [
    {
     "data": {
      "text/html": [
       "<div>\n",
       "<style scoped>\n",
       "    .dataframe tbody tr th:only-of-type {\n",
       "        vertical-align: middle;\n",
       "    }\n",
       "\n",
       "    .dataframe tbody tr th {\n",
       "        vertical-align: top;\n",
       "    }\n",
       "\n",
       "    .dataframe thead th {\n",
       "        text-align: right;\n",
       "    }\n",
       "</style>\n",
       "<table border=\"1\" class=\"dataframe\">\n",
       "  <thead>\n",
       "    <tr style=\"text-align: right;\">\n",
       "      <th></th>\n",
       "      <th>event_name</th>\n",
       "      <th>event_count</th>\n",
       "      <th>unique_user_amount</th>\n",
       "      <th>percent_from_all_unique_users</th>\n",
       "    </tr>\n",
       "  </thead>\n",
       "  <tbody>\n",
       "    <tr>\n",
       "      <th>1</th>\n",
       "      <td>MainScreenAppear</td>\n",
       "      <td>117328</td>\n",
       "      <td>7419</td>\n",
       "      <td>98</td>\n",
       "    </tr>\n",
       "    <tr>\n",
       "      <th>2</th>\n",
       "      <td>OffersScreenAppear</td>\n",
       "      <td>46333</td>\n",
       "      <td>4593</td>\n",
       "      <td>60</td>\n",
       "    </tr>\n",
       "    <tr>\n",
       "      <th>0</th>\n",
       "      <td>CartScreenAppear</td>\n",
       "      <td>42303</td>\n",
       "      <td>3734</td>\n",
       "      <td>49</td>\n",
       "    </tr>\n",
       "    <tr>\n",
       "      <th>3</th>\n",
       "      <td>PaymentScreenSuccessful</td>\n",
       "      <td>33918</td>\n",
       "      <td>3539</td>\n",
       "      <td>46</td>\n",
       "    </tr>\n",
       "    <tr>\n",
       "      <th>4</th>\n",
       "      <td>Tutorial</td>\n",
       "      <td>1005</td>\n",
       "      <td>840</td>\n",
       "      <td>11</td>\n",
       "    </tr>\n",
       "  </tbody>\n",
       "</table>\n",
       "</div>"
      ],
      "text/plain": [
       "                event_name  event_count  unique_user_amount  \\\n",
       "1         MainScreenAppear       117328                7419   \n",
       "2       OffersScreenAppear        46333                4593   \n",
       "0         CartScreenAppear        42303                3734   \n",
       "3  PaymentScreenSuccessful        33918                3539   \n",
       "4                 Tutorial         1005                 840   \n",
       "\n",
       "   percent_from_all_unique_users  \n",
       "1                             98  \n",
       "2                             60  \n",
       "0                             49  \n",
       "3                             46  \n",
       "4                             11  "
      ]
     },
     "execution_count": 25,
     "metadata": {},
     "output_type": "execute_result"
    }
   ],
   "source": [
    "user_amount['percent_from_all_unique_users'] = user_amount['unique_user_amount'].apply(lambda x: int(x / df['user_id'].nunique() * 100))\n",
    "#user_amount.loc[1,'unique_user_amount']\n",
    "user_amount"
   ]
  },
  {
   "cell_type": "markdown",
   "metadata": {},
   "source": [
    "- MainScreenAppear посещаяет 98% юзеров\n",
    "- OffersScreenAppear 60%\n",
    "- CartScreenAppear 49%\n",
    "- PaymentScreenSuccessful 46%\n",
    "- Tutorial 11%"
   ]
  },
  {
   "cell_type": "markdown",
   "metadata": {},
   "source": [
    "#### Предположите, в каком порядке происходят события. Все ли они выстраиваются в последовательную цепочку? Их не нужно учитывать при расчёте воронки."
   ]
  },
  {
   "cell_type": "markdown",
   "metadata": {},
   "source": [
    "События должны быть расположены в такой последовательности\n",
    "1. MainScreenAppear - появление главного экрана\n",
    "2. Tutorial - руководство\n",
    "3. OffersScreenAppear - появление экрана предложений\n",
    "4. CartScreenAppear - экран заполнения реквизитор карты \n",
    "5. PaymentScreenSuccessful - экран успешной оплаты\n",
    "\n",
    "- Судя по тому, что Tutorial фигурирует в событиях всего около <a href=\"#my_anchor2\">1018 раз</a>,а пропускается в 89% случаев, можно предположить, что этот этап не обязателен\n",
    "\n",
    "\n"
   ]
  },
  {
   "cell_type": "code",
   "execution_count": 26,
   "metadata": {
    "scrolled": true
   },
   "outputs": [
    {
     "data": {
      "text/html": [
       "<div>\n",
       "<style scoped>\n",
       "    .dataframe tbody tr th:only-of-type {\n",
       "        vertical-align: middle;\n",
       "    }\n",
       "\n",
       "    .dataframe tbody tr th {\n",
       "        vertical-align: top;\n",
       "    }\n",
       "\n",
       "    .dataframe thead th {\n",
       "        text-align: right;\n",
       "    }\n",
       "</style>\n",
       "<table border=\"1\" class=\"dataframe\">\n",
       "  <thead>\n",
       "    <tr style=\"text-align: right;\">\n",
       "      <th></th>\n",
       "      <th>event_name</th>\n",
       "      <th>event_count</th>\n",
       "      <th>unique_user_amount</th>\n",
       "      <th>percent_from_all_unique_users</th>\n",
       "    </tr>\n",
       "  </thead>\n",
       "  <tbody>\n",
       "    <tr>\n",
       "      <th>1</th>\n",
       "      <td>MainScreenAppear</td>\n",
       "      <td>117328</td>\n",
       "      <td>7419</td>\n",
       "      <td>98</td>\n",
       "    </tr>\n",
       "    <tr>\n",
       "      <th>2</th>\n",
       "      <td>OffersScreenAppear</td>\n",
       "      <td>46333</td>\n",
       "      <td>4593</td>\n",
       "      <td>60</td>\n",
       "    </tr>\n",
       "    <tr>\n",
       "      <th>0</th>\n",
       "      <td>CartScreenAppear</td>\n",
       "      <td>42303</td>\n",
       "      <td>3734</td>\n",
       "      <td>49</td>\n",
       "    </tr>\n",
       "    <tr>\n",
       "      <th>3</th>\n",
       "      <td>PaymentScreenSuccessful</td>\n",
       "      <td>33918</td>\n",
       "      <td>3539</td>\n",
       "      <td>46</td>\n",
       "    </tr>\n",
       "  </tbody>\n",
       "</table>\n",
       "</div>"
      ],
      "text/plain": [
       "                event_name  event_count  unique_user_amount  \\\n",
       "1         MainScreenAppear       117328                7419   \n",
       "2       OffersScreenAppear        46333                4593   \n",
       "0         CartScreenAppear        42303                3734   \n",
       "3  PaymentScreenSuccessful        33918                3539   \n",
       "\n",
       "   percent_from_all_unique_users  \n",
       "1                             98  \n",
       "2                             60  \n",
       "0                             49  \n",
       "3                             46  "
      ]
     },
     "execution_count": 26,
     "metadata": {},
     "output_type": "execute_result"
    }
   ],
   "source": [
    "main_events = user_amount.query('event_name != \"Tutorial\"')\n",
    "main_events"
   ]
  },
  {
   "cell_type": "markdown",
   "metadata": {},
   "source": [
    "- Получен датафрейм без события Tutorial"
   ]
  },
  {
   "cell_type": "markdown",
   "metadata": {},
   "source": [
    "#### По воронке событий посчитайте, какая доля пользователей проходит на следующий шаг воронки (от числа пользователей на предыдущем). То есть для последовательности событий A → B → C посчитайте отношение числа пользователей с событием B к количеству пользователей с событием A, а также отношение числа пользователей с событием C к количеству пользователей с событием B."
   ]
  },
  {
   "cell_type": "code",
   "execution_count": 27,
   "metadata": {},
   "outputs": [
    {
     "data": {
      "text/plain": [
       "['MainScreenAppear',\n",
       " 'OffersScreenAppear',\n",
       " 'CartScreenAppear',\n",
       " 'PaymentScreenSuccessful']"
      ]
     },
     "execution_count": 27,
     "metadata": {},
     "output_type": "execute_result"
    }
   ],
   "source": [
    "main_events.event_name.tolist()"
   ]
  },
  {
   "cell_type": "code",
   "execution_count": 28,
   "metadata": {},
   "outputs": [
    {
     "data": {
      "text/plain": [
       "[7419, 4593, 3734, 3539]"
      ]
     },
     "execution_count": 28,
     "metadata": {},
     "output_type": "execute_result"
    }
   ],
   "source": [
    "main_events['unique_user_amount'].tolist()"
   ]
  },
  {
   "cell_type": "code",
   "execution_count": 29,
   "metadata": {
    "scrolled": true
   },
   "outputs": [
    {
     "data": {
      "image/png": "[encoded data removed]",
      "text/plain": [
       "<Figure size 504x504 with 1 Axes>"
      ]
     },
     "metadata": {
      "needs_background": "light"
     },
     "output_type": "display_data"
    }
   ],
   "source": [
    "steps = main_events.event_name.tolist()\n",
    "users = main_events['unique_user_amount'].tolist()\n",
    "plt.figure(figsize=(7, 7))\n",
    "plt.plot(steps, users, marker='o', linestyle='--',color='#FF5733')\n",
    "plt.xticks(rotation=70)\n",
    "plt.title('Воронка, показывающая сколько пользователей оставалось от шага к шагу')\n",
    "plt.xlabel('Шаг')\n",
    "plt.ylabel('Количество пользователей')\n",
    "plt.grid(True)\n",
    "\n",
    "for i in range(len(users) - 1):\n",
    "    conversion_rate = users[i+1] / users[i] * 100\n",
    "    plt.annotate(f'{conversion_rate:.2f}%', (steps[i+1], users[i+1]), textcoords=\"offset points\", xytext=(22,10), ha='center')\n",
    "\n",
    "plt.show()"
   ]
  },
  {
   "cell_type": "markdown",
   "metadata": {},
   "source": [
    "- 1 Шаг - 100% пользователей\n",
    "- До 2 из 100% дошли 62%\n",
    "- На шаге 3 из них осталось 81%\n",
    "- и почти все (94%) дошли до последнего шага (экрана успешной оплаты)"
   ]
  },
  {
   "cell_type": "markdown",
   "metadata": {},
   "source": [
    "#### На каком шаге теряете больше всего пользователей?"
   ]
  },
  {
   "cell_type": "markdown",
   "metadata": {},
   "source": [
    "- От первого до второго шага теряется 38% юзеров \n",
    "- От второго к третьему - 19%\n",
    "- От третьего к последнему - 14%"
   ]
  },
  {
   "cell_type": "markdown",
   "metadata": {},
   "source": [
    "#### Какая доля пользователей доходит от первого события до оплаты?"
   ]
  },
  {
   "cell_type": "code",
   "execution_count": 30,
   "metadata": {},
   "outputs": [],
   "source": [
    "final_payment = '{}% пользователей проходят от главного экрана до экрана об успешной оплате'\n",
    "final_payment = final_payment.format(round(main_events.loc[3,'unique_user_amount'] / main_events.loc[1,'unique_user_amount'] * 100,2))"
   ]
  },
  {
   "cell_type": "code",
   "execution_count": 31,
   "metadata": {},
   "outputs": [
    {
     "name": "stdout",
     "output_type": "stream",
     "text": [
      "47.7% пользователей проходят от главного экрана до экрана об успешной оплате\n"
     ]
    }
   ],
   "source": [
    "print(final_payment)"
   ]
  },
  {
   "cell_type": "markdown",
   "metadata": {},
   "source": [
    "### Изучите результаты эксперимента"
   ]
  },
  {
   "cell_type": "markdown",
   "metadata": {},
   "source": [
    "#### Сколько пользователей в каждой экспериментальной группе?"
   ]
  },
  {
   "cell_type": "code",
   "execution_count": 32,
   "metadata": {
    "scrolled": false
   },
   "outputs": [
    {
     "data": {
      "text/html": [
       "<div>\n",
       "<style scoped>\n",
       "    .dataframe tbody tr th:only-of-type {\n",
       "        vertical-align: middle;\n",
       "    }\n",
       "\n",
       "    .dataframe tbody tr th {\n",
       "        vertical-align: top;\n",
       "    }\n",
       "\n",
       "    .dataframe thead th {\n",
       "        text-align: right;\n",
       "    }\n",
       "</style>\n",
       "<table border=\"1\" class=\"dataframe\">\n",
       "  <thead>\n",
       "    <tr style=\"text-align: right;\">\n",
       "      <th></th>\n",
       "      <th>group</th>\n",
       "      <th>user_amount</th>\n",
       "    </tr>\n",
       "  </thead>\n",
       "  <tbody>\n",
       "    <tr>\n",
       "      <th>0</th>\n",
       "      <td>246</td>\n",
       "      <td>2484</td>\n",
       "    </tr>\n",
       "    <tr>\n",
       "      <th>1</th>\n",
       "      <td>247</td>\n",
       "      <td>2513</td>\n",
       "    </tr>\n",
       "    <tr>\n",
       "      <th>2</th>\n",
       "      <td>248</td>\n",
       "      <td>2537</td>\n",
       "    </tr>\n",
       "  </tbody>\n",
       "</table>\n",
       "</div>"
      ],
      "text/plain": [
       "   group  user_amount\n",
       "0    246         2484\n",
       "1    247         2513\n",
       "2    248         2537"
      ]
     },
     "execution_count": 32,
     "metadata": {},
     "output_type": "execute_result"
    }
   ],
   "source": [
    "df_modified.groupby('group', as_index = False).agg({'user_id':'nunique'}).rename(columns={'user_id':'user_amount'})"
   ]
  },
  {
   "cell_type": "markdown",
   "metadata": {},
   "source": [
    "246 и 247 — контрольные группы, а 248 — экспериментальная."
   ]
  },
  {
   "cell_type": "markdown",
   "metadata": {},
   "source": [
    "#### Есть 2 контрольные группы для А/А-эксперимента, чтобы проверить корректность всех механизмов и расчётов. Проверьте, находят ли статистические критерии разницу между выборками 246 и 247."
   ]
  },
  {
   "cell_type": "code",
   "execution_count": 33,
   "metadata": {},
   "outputs": [],
   "source": [
    "df_no_tutorial = df_modified.query('event_name != \"Tutorial\"')\n",
    "group_246 = df_no_tutorial[df_no_tutorial['group'] == 246].groupby('user_id', as_index=False).agg({'date': 'count'})['date']\n",
    "group_247 = df_no_tutorial[df_no_tutorial['group'] == 247].groupby('user_id', as_index=False).agg({'date': 'count'})['date']\n",
    "group_248 = df_no_tutorial[df_no_tutorial['group'] == 248].groupby('user_id', as_index=False).agg({'date': 'count'})['date']"
   ]
  },
  {
   "cell_type": "markdown",
   "metadata": {},
   "source": [
    "Разделяем датафрейм на 3 группы"
   ]
  },
  {
   "cell_type": "code",
   "execution_count": 34,
   "metadata": {
    "scrolled": true
   },
   "outputs": [
    {
     "name": "stdout",
     "output_type": "stream",
     "text": [
      "2483\n",
      "2512\n",
      "2535\n"
     ]
    }
   ],
   "source": [
    "print(group_246.shape[0]) # Количество участников в 246 группе\n",
    "print(group_247.shape[0]) # Количество участников в 247 группе\n",
    "print(group_248.shape[0]) # Количество участников в 248 группе"
   ]
  },
  {
   "cell_type": "code",
   "execution_count": 35,
   "metadata": {},
   "outputs": [
    {
     "name": "stdout",
     "output_type": "stream",
     "text": [
      "Количество пользователей вошедших группу и 246, и 247 - 0\n"
     ]
    }
   ],
   "source": [
    "double_group_users = np.intersect1d(df_modified[df_modified['group'] == 246]['user_id'].unique(), \\\n",
    "                                    df_modified[df_modified['group'] == 247]['user_id'].unique())\n",
    "print('Количество пользователей вошедших группу и 246, и 247 -', len(double_group_users))"
   ]
  },
  {
   "cell_type": "code",
   "execution_count": 36,
   "metadata": {},
   "outputs": [
    {
     "name": "stdout",
     "output_type": "stream",
     "text": [
      "Количество пользователей вошедших группу и 246, и 248 - 0\n"
     ]
    }
   ],
   "source": [
    "double_group_users = np.intersect1d(df_modified[df_modified['group'] == 246]['user_id'].unique(), \\\n",
    "                                    df_modified[df_modified['group'] == 248]['user_id'].unique())\n",
    "print('Количество пользователей вошедших группу и 246, и 248 -', len(double_group_users))"
   ]
  },
  {
   "cell_type": "code",
   "execution_count": 37,
   "metadata": {},
   "outputs": [
    {
     "name": "stdout",
     "output_type": "stream",
     "text": [
      "Количество пользователей вошедших в группу и 247, и 248 - 0\n"
     ]
    }
   ],
   "source": [
    "double_group_users = np.intersect1d(df_modified[df_modified['group'] == 247]['user_id'].unique(), \\\n",
    "                                    df_modified[df_modified['group'] == 248]['user_id'].unique())\n",
    "print('Количество пользователей вошедших в группу и 247, и 248 -', len(double_group_users))"
   ]
  },
  {
   "cell_type": "markdown",
   "metadata": {},
   "source": [
    "Пользователи, которые одновременно попали в несколько разных групп отсутствуют."
   ]
  },
  {
   "cell_type": "code",
   "execution_count": 38,
   "metadata": {},
   "outputs": [
    {
     "name": "stdout",
     "output_type": "stream",
     "text": [
      "Группа 246 и 247 различаются по количеству участников на 1.17%\n"
     ]
    }
   ],
   "source": [
    "diff = 'Группа 246 и 247 различаются по количеству участников на {:.2f}%'\n",
    "diff = diff.format((group_247.shape[0] / group_246.shape[0] * 100)- 100)\n",
    "print(diff)"
   ]
  },
  {
   "cell_type": "code",
   "execution_count": 39,
   "metadata": {},
   "outputs": [
    {
     "name": "stdout",
     "output_type": "stream",
     "text": [
      "Группа 246 и 248 различаются по количеству участников на -0.91%\n"
     ]
    }
   ],
   "source": [
    "diff = 'Группа 246 и 248 различаются по количеству участников на {:.2f}%'\n",
    "diff = diff.format((group_247.shape[0] / group_248.shape[0] * 100)- 100)\n",
    "print(diff)"
   ]
  },
  {
   "cell_type": "code",
   "execution_count": 40,
   "metadata": {},
   "outputs": [
    {
     "name": "stdout",
     "output_type": "stream",
     "text": [
      "Группа 246 и 248 различаются по количеству участников на -2.05%\n"
     ]
    }
   ],
   "source": [
    "diff = 'Группа 246 и 248 различаются по количеству участников на {:.2f}%'\n",
    "diff = diff.format((group_246.shape[0] / group_248.shape[0] * 100)- 100)\n",
    "print(diff)"
   ]
  },
  {
   "cell_type": "markdown",
   "metadata": {},
   "source": [
    "Разбиение на группы по количеству пользователей - корректно"
   ]
  },
  {
   "cell_type": "code",
   "execution_count": 41,
   "metadata": {},
   "outputs": [
    {
     "name": "stdout",
     "output_type": "stream",
     "text": [
      "p-уровень значимости = 0.84\n",
      "Не получилось отвергнуть нулевую гипотезу, статистически значимых различий нет\n"
     ]
    }
   ],
   "source": [
    "#проводим тест Манна-Уитни и получаем p-значение на выходе\n",
    "stat, p = st.mannwhitneyu(group_246, group_247)\n",
    "\n",
    "#задаем критический уровень статистической значимости \n",
    "alpha = 0.05\n",
    "\n",
    "print('p-уровень значимости = {:.2f}'.format(p))\n",
    "\n",
    "if p < alpha:\n",
    "    print('Отвергаем нулевую гипотезу, группы имееют статистически значимые различия ')\n",
    "else:\n",
    "    print('Не получилось отвергнуть нулевую гипотезу, статистически значимых различий нет')"
   ]
  },
  {
   "cell_type": "markdown",
   "metadata": {},
   "source": [
    "- после использования критерия Манна-Уитни p-value 0.84 (статистически значимых различий нет, не получилось отвергнуть нулевую гипотезу)\n",
    "- группа 246 и 247 статистически не различаются\n",
    "- А/A тест говорит о возможности использования данных групп для проведения дальнейшего эксперимента\n",
    "- А так же размер выборок в ранных группах имеет незначительные различия (1.17%)"
   ]
  },
  {
   "cell_type": "code",
   "execution_count": 42,
   "metadata": {
    "scrolled": true
   },
   "outputs": [
    {
     "name": "stdout",
     "output_type": "stream",
     "text": [
      "p-уровень значимости = 0.42\n",
      "Не получилось отвергнуть нулевую гипотезу, статистически значимых различий нет\n"
     ]
    }
   ],
   "source": [
    "#проводим тест Манна-Уитни и получаем p-значение на выходе\n",
    "stat, p = st.mannwhitneyu(group_246, group_248)\n",
    "\n",
    "#задаем критический уровень статистической значимости \n",
    "alpha = 0.05\n",
    "\n",
    "print('p-уровень значимости = {:.2f}'.format(p))\n",
    "\n",
    "if p < alpha:\n",
    "    print('Отвергаем нулевую гипотезу, группы имееют статистически значимые различия ')\n",
    "else:\n",
    "    print('Не получилось отвергнуть нулевую гипотезу, статистически значимых различий нет')"
   ]
  },
  {
   "cell_type": "markdown",
   "metadata": {},
   "source": [
    "Группы 246 и 248 так же, статистически не различаются"
   ]
  },
  {
   "cell_type": "markdown",
   "metadata": {},
   "source": [
    "#### Выберите самое популярное событие. Посчитайте число пользователей, совершивших это событие в каждой из контрольных групп. Посчитайте долю пользователей, совершивших это событие. Проверьте, будет ли отличие между группами статистически достоверным. Проделайте то же самое для всех других событий (удобно обернуть проверку в отдельную функцию). Можно ли сказать, что разбиение на группы работает корректно?"
   ]
  },
  {
   "cell_type": "code",
   "execution_count": 43,
   "metadata": {
    "scrolled": false
   },
   "outputs": [
    {
     "data": {
      "text/html": [
       "<div>\n",
       "<style scoped>\n",
       "    .dataframe tbody tr th:only-of-type {\n",
       "        vertical-align: middle;\n",
       "    }\n",
       "\n",
       "    .dataframe tbody tr th {\n",
       "        vertical-align: top;\n",
       "    }\n",
       "\n",
       "    .dataframe thead th {\n",
       "        text-align: right;\n",
       "    }\n",
       "</style>\n",
       "<table border=\"1\" class=\"dataframe\">\n",
       "  <thead>\n",
       "    <tr style=\"text-align: right;\">\n",
       "      <th>group</th>\n",
       "      <th>group_246</th>\n",
       "      <th>group_247</th>\n",
       "      <th>group_248</th>\n",
       "      <th>sum_246_247</th>\n",
       "    </tr>\n",
       "    <tr>\n",
       "      <th>event_name</th>\n",
       "      <th></th>\n",
       "      <th></th>\n",
       "      <th></th>\n",
       "      <th></th>\n",
       "    </tr>\n",
       "  </thead>\n",
       "  <tbody>\n",
       "    <tr>\n",
       "      <th>MainScreenAppear</th>\n",
       "      <td>2450</td>\n",
       "      <td>2476</td>\n",
       "      <td>2493</td>\n",
       "      <td>4926</td>\n",
       "    </tr>\n",
       "    <tr>\n",
       "      <th>OffersScreenAppear</th>\n",
       "      <td>1542</td>\n",
       "      <td>1520</td>\n",
       "      <td>1531</td>\n",
       "      <td>3062</td>\n",
       "    </tr>\n",
       "    <tr>\n",
       "      <th>CartScreenAppear</th>\n",
       "      <td>1266</td>\n",
       "      <td>1238</td>\n",
       "      <td>1230</td>\n",
       "      <td>2504</td>\n",
       "    </tr>\n",
       "    <tr>\n",
       "      <th>PaymentScreenSuccessful</th>\n",
       "      <td>1200</td>\n",
       "      <td>1158</td>\n",
       "      <td>1181</td>\n",
       "      <td>2358</td>\n",
       "    </tr>\n",
       "  </tbody>\n",
       "</table>\n",
       "</div>"
      ],
      "text/plain": [
       "group                    group_246  group_247  group_248  sum_246_247\n",
       "event_name                                                           \n",
       "MainScreenAppear              2450       2476       2493         4926\n",
       "OffersScreenAppear            1542       1520       1531         3062\n",
       "CartScreenAppear              1266       1238       1230         2504\n",
       "PaymentScreenSuccessful       1200       1158       1181         2358"
      ]
     },
     "metadata": {},
     "output_type": "display_data"
    }
   ],
   "source": [
    "events_users = df_no_tutorial.pivot_table(index='event_name', columns='group', values='user_id', aggfunc='nunique'\n",
    "                ).sort_values(by=246, ascending=False).rename(columns = {246:'group_246',247:'group_247',248:'group_248'}) #.reset_index()\n",
    "events_users['sum_246_247'] = events_users[['group_246','group_247']].sum(axis=1)\n",
    "display(events_users)\n"
   ]
  },
  {
   "cell_type": "markdown",
   "metadata": {},
   "source": [
    "- Датафрейм содержить количество событий, сгруппированным по каждой группе\n",
    "- Добавлен столбец с суммарным количеством событий контрольных групп('group_246' & 'group_247')"
   ]
  },
  {
   "cell_type": "code",
   "execution_count": 44,
   "metadata": {
    "scrolled": true
   },
   "outputs": [
    {
     "data": {
      "text/html": [
       "<div>\n",
       "<style scoped>\n",
       "    .dataframe tbody tr th:only-of-type {\n",
       "        vertical-align: middle;\n",
       "    }\n",
       "\n",
       "    .dataframe tbody tr th {\n",
       "        vertical-align: top;\n",
       "    }\n",
       "\n",
       "    .dataframe thead th {\n",
       "        text-align: right;\n",
       "    }\n",
       "</style>\n",
       "<table border=\"1\" class=\"dataframe\">\n",
       "  <thead>\n",
       "    <tr style=\"text-align: right;\">\n",
       "      <th></th>\n",
       "      <th>user_id</th>\n",
       "    </tr>\n",
       "    <tr>\n",
       "      <th>group</th>\n",
       "      <th></th>\n",
       "    </tr>\n",
       "  </thead>\n",
       "  <tbody>\n",
       "    <tr>\n",
       "      <th>group_246</th>\n",
       "      <td>2483</td>\n",
       "    </tr>\n",
       "    <tr>\n",
       "      <th>group_247</th>\n",
       "      <td>2512</td>\n",
       "    </tr>\n",
       "    <tr>\n",
       "      <th>group_248</th>\n",
       "      <td>2535</td>\n",
       "    </tr>\n",
       "    <tr>\n",
       "      <th>sum_246_247</th>\n",
       "      <td>4995</td>\n",
       "    </tr>\n",
       "  </tbody>\n",
       "</table>\n",
       "</div>"
      ],
      "text/plain": [
       "             user_id\n",
       "group               \n",
       "group_246       2483\n",
       "group_247       2512\n",
       "group_248       2535\n",
       "sum_246_247     4995"
      ]
     },
     "execution_count": 44,
     "metadata": {},
     "output_type": "execute_result"
    }
   ],
   "source": [
    "users = df_no_tutorial.groupby('group')['user_id'].nunique().to_frame().reset_index()\n",
    "users.loc[3] = users[:2].sum() # сумма групп 246 и 247\n",
    "users['group'] = users['group'].replace({246: 'group_246', 247: 'group_247', 248: 'group_248',493:'sum_246_247'}) #.reset_index()\n",
    "users = users.set_index(users.columns[0])\n",
    "users"
   ]
  },
  {
   "cell_type": "code",
   "execution_count": 45,
   "metadata": {},
   "outputs": [
    {
     "data": {
      "text/plain": [
       "user_id    4995\n",
       "dtype: int64"
      ]
     },
     "execution_count": 45,
     "metadata": {},
     "output_type": "execute_result"
    }
   ],
   "source": [
    "sum_246_and_247 = users[:2].sum()\n",
    "sum_246_and_247"
   ]
  },
  {
   "cell_type": "markdown",
   "metadata": {},
   "source": [
    "Датафрейм, содержащий количество пользователей для всех групп и сумму пользователей 2х контрольных групп"
   ]
  },
  {
   "cell_type": "code",
   "execution_count": 46,
   "metadata": {},
   "outputs": [],
   "source": [
    "def z_test(group1, group2, event, alpha): \n",
    "    p1_event = events_users.loc[event, group1]\n",
    "    p2_event = events_users.loc[event, group2] \n",
    "    p1_users = users.loc[group1, 'user_id'] \n",
    "    p2_users = users.loc[group2, 'user_id'] \n",
    "    p1 = p1_event / p1_users \n",
    "    p2 = p2_event / p2_users \n",
    "    difference = p1 - p2\n",
    "    p_combined = (p1_event + p2_event) / (p1_users + p2_users) \n",
    "    z_value = difference / mth.sqrt(p_combined * (1 - p_combined) * (1 / p1_users + 1 / p2_users))\n",
    "    distr = st.norm(0, 1)\n",
    "    p_value = (1 - distr.cdf(abs(z_value))) * 2\n",
    "    \n",
    "    tests_amount = 16 # количество проведенных АА и АБ тестов в сумме\n",
    "    \n",
    "    bonferroni_alpha = alpha / tests_amount # коррекция уровня значимости при множественном сравнении\n",
    "    \n",
    "    print('Проверка для групп {} и {}, событие: {}, p-значение: {p_value:.2f}'.format(group1, group2, event, p_value=p_value))\n",
    "    if (p_value < bonferroni_alpha):  \n",
    "        print(\"Отвергаем нулевую гипотезу, есть статистически значимые различия\")\n",
    "    else:\n",
    "        print(\"Не получилось отвергнуть нулевую гипотезу,нет статистически значимых различий в конверсии между группами\")"
   ]
  },
  {
   "cell_type": "markdown",
   "metadata": {},
   "source": [
    "**Общее количество проведенных тестов (АА и АБ) 16, необходимо добавить в функцию применения поправки Бонферрони,чтобы уменьшить вероятность ложноположительных результатов при множественном сравнении гипотез**"
   ]
  },
  {
   "cell_type": "markdown",
   "metadata": {},
   "source": [
    "Функция для применения z-критерия к контрольной и экспериментальным группам"
   ]
  },
  {
   "cell_type": "markdown",
   "metadata": {},
   "source": [
    "- **H0** - Статистически значимых различий в конверсии group_246 и group_247 нет\n",
    "- **H1** - Есть статистически значимые различия в конверсии между контрольными группами\n",
    "\n"
   ]
  },
  {
   "cell_type": "code",
   "execution_count": 47,
   "metadata": {
    "scrolled": true
   },
   "outputs": [
    {
     "name": "stdout",
     "output_type": "stream",
     "text": [
      "Проверка для групп group_246 и group_247, событие: MainScreenAppear, p-значение: 0.75\n",
      "Не получилось отвергнуть нулевую гипотезу,нет статистически значимых различий в конверсии между группами\n",
      "\n",
      "Проверка для групп group_246 и group_247, событие: OffersScreenAppear, p-значение: 0.25\n",
      "Не получилось отвергнуть нулевую гипотезу,нет статистически значимых различий в конверсии между группами\n",
      "\n",
      "Проверка для групп group_246 и group_247, событие: CartScreenAppear, p-значение: 0.23\n",
      "Не получилось отвергнуть нулевую гипотезу,нет статистически значимых различий в конверсии между группами\n",
      "\n",
      "Проверка для групп group_246 и group_247, событие: PaymentScreenSuccessful, p-значение: 0.11\n",
      "Не получилось отвергнуть нулевую гипотезу,нет статистически значимых различий в конверсии между группами\n",
      "\n"
     ]
    }
   ],
   "source": [
    "for event in events_users.index:\n",
    "    z_test('group_246', 'group_247', event, 0.05)\n",
    "    print()"
   ]
  },
  {
   "cell_type": "markdown",
   "metadata": {},
   "source": [
    "- После проведенного  АА теста везде p-value больше 0.5, а значит статистических значимых различий между данными группами по конверсии нет\n",
    "- Не получилось отвергнуть нулевую гипотезу о статистическом равенстве конверсий между группами group_246 и group_247\n",
    "- По конверсии контрольные группы не статистически не различаются"
   ]
  },
  {
   "cell_type": "markdown",
   "metadata": {},
   "source": [
    "#### Аналогично поступите с группой с изменённым шрифтом. Сравните результаты с каждой из контрольных групп в отдельности по каждому событию. Сравните результаты с объединённой контрольной группой. Какие выводы из эксперимента можно сделать?"
   ]
  },
  {
   "cell_type": "markdown",
   "metadata": {},
   "source": [
    "- **H0** - Статистически значимых различий в конверсии group_246 и group_248 нет\n",
    "- **H1** - Есть статистически значимые различия в конверсии между группами\n"
   ]
  },
  {
   "cell_type": "code",
   "execution_count": 48,
   "metadata": {
    "scrolled": false
   },
   "outputs": [
    {
     "name": "stdout",
     "output_type": "stream",
     "text": [
      "Проверка для групп group_246 и group_248, событие: MainScreenAppear, p-значение: 0.34\n",
      "Не получилось отвергнуть нулевую гипотезу,нет статистически значимых различий в конверсии между группами\n",
      "\n",
      "Проверка для групп group_246 и group_248, событие: OffersScreenAppear, p-значение: 0.21\n",
      "Не получилось отвергнуть нулевую гипотезу,нет статистически значимых различий в конверсии между группами\n",
      "\n",
      "Проверка для групп group_246 и group_248, событие: CartScreenAppear, p-значение: 0.08\n",
      "Не получилось отвергнуть нулевую гипотезу,нет статистически значимых различий в конверсии между группами\n",
      "\n",
      "Проверка для групп group_246 и group_248, событие: PaymentScreenSuccessful, p-значение: 0.22\n",
      "Не получилось отвергнуть нулевую гипотезу,нет статистически значимых различий в конверсии между группами\n",
      "\n"
     ]
    }
   ],
   "source": [
    "for event in events_users.index:\n",
    "    z_test('group_246', 'group_248', event, 0.05)\n",
    "    print()"
   ]
  },
  {
   "cell_type": "markdown",
   "metadata": {},
   "source": [
    "- **H0** - Статистически значимых различий в конверсии group_247 и group_248 нет\n",
    "- **H1** - Есть статистически значимые различия в конверсии между группами\n"
   ]
  },
  {
   "cell_type": "code",
   "execution_count": 49,
   "metadata": {
    "scrolled": false
   },
   "outputs": [
    {
     "name": "stdout",
     "output_type": "stream",
     "text": [
      "Проверка для групп group_247 и group_248, событие: MainScreenAppear, p-значение: 0.52\n",
      "Не получилось отвергнуть нулевую гипотезу,нет статистически значимых различий в конверсии между группами\n",
      "\n",
      "Проверка для групп group_247 и group_248, событие: OffersScreenAppear, p-значение: 0.93\n",
      "Не получилось отвергнуть нулевую гипотезу,нет статистически значимых различий в конверсии между группами\n",
      "\n",
      "Проверка для групп group_247 и group_248, событие: CartScreenAppear, p-значение: 0.59\n",
      "Не получилось отвергнуть нулевую гипотезу,нет статистически значимых различий в конверсии между группами\n",
      "\n",
      "Проверка для групп group_247 и group_248, событие: PaymentScreenSuccessful, p-значение: 0.73\n",
      "Не получилось отвергнуть нулевую гипотезу,нет статистически значимых различий в конверсии между группами\n",
      "\n"
     ]
    }
   ],
   "source": [
    "for event in events_users.index:\n",
    "    z_test('group_247', 'group_248', event, 0.05)\n",
    "    print()"
   ]
  },
  {
   "cell_type": "markdown",
   "metadata": {},
   "source": [
    "- **H0** - Статистически значимых различий в конверсии sum_246_247  и group_248 нет\n",
    "- **H1** - Есть статистически значимые различия в конверсии между группами\n"
   ]
  },
  {
   "cell_type": "code",
   "execution_count": 50,
   "metadata": {},
   "outputs": [
    {
     "name": "stdout",
     "output_type": "stream",
     "text": [
      "Проверка для групп sum_246_247 и group_248, событие: MainScreenAppear, p-значение: 0.35\n",
      "Не получилось отвергнуть нулевую гипотезу,нет статистически значимых различий в конверсии между группами\n",
      "\n",
      "Проверка для групп sum_246_247 и group_248, событие: OffersScreenAppear, p-значение: 0.45\n",
      "Не получилось отвергнуть нулевую гипотезу,нет статистически значимых различий в конверсии между группами\n",
      "\n",
      "Проверка для групп sum_246_247 и group_248, событие: CartScreenAppear, p-значение: 0.19\n",
      "Не получилось отвергнуть нулевую гипотезу,нет статистически значимых различий в конверсии между группами\n",
      "\n",
      "Проверка для групп sum_246_247 и group_248, событие: PaymentScreenSuccessful, p-значение: 0.61\n",
      "Не получилось отвергнуть нулевую гипотезу,нет статистически значимых различий в конверсии между группами\n",
      "\n"
     ]
    }
   ],
   "source": [
    "for event in events_users.index:\n",
    "    z_test('sum_246_247', 'group_248', event, 0.05)\n",
    "    print()"
   ]
  },
  {
   "cell_type": "markdown",
   "metadata": {},
   "source": [
    "- При проведении АБ теста, в котором сравнивалась конверсия каждой из контрольных групп (group_247 и group_246,а так же с выборкой, состоящей из их суммы) с экспериментальной группой group_248 выявлено\n",
    "отсутсвие нет статистически значимых различий в конверсии между группами\n",
    "- Статистически группы не различаются по конверсии, не получилось отвергнуть нулевую гипотезу о равенстве."
   ]
  },
  {
   "cell_type": "markdown",
   "metadata": {},
   "source": [
    "#### Какой уровень значимости вы выбрали при проверке статистических гипотез выше? Посчитайте, сколько проверок статистических гипотез вы сделали. При уровне значимости 0.1 в 10% случаев можно ошибочно отклонить нулевую гипотезу при условии, что она верна. Какой уровень значимости стоит применить? Если вы хотите изменить его, проделайте предыдущие пункты и проверьте свои выводы."
   ]
  },
  {
   "cell_type": "markdown",
   "metadata": {},
   "source": [
    "- При проведении AB тестов с установлением уровня значимости alpha 0.05 получены данные, свидетельствующие об отсутствии статистически значимых различий в конверсии между группами. Тоесть вероятность в ошибочном отклонении нулевой гипотезы, при условии, что она верна менее 5%.\n",
    "- Было проведено 4 A/A 12 A/B тестов"
   ]
  },
  {
   "cell_type": "markdown",
   "metadata": {},
   "source": [
    "### Финальный вывод"
   ]
  },
  {
   "cell_type": "markdown",
   "metadata": {},
   "source": [
    "**Синопсис:**\n",
    "    \n",
    "- Общее количество событий за исследуемый период(с 25 июня до 7 августа 2019г,13дн) составляет 243712. После коррекции данных (при исключении временного периода до 1 августа по причине неполноты данных) было потеряно 1.16% и 0.23% пользователей\n",
    "- Данные содержут информацию о 7551 уникальном пользователе. Медианное количество событий на 1 пользователя 20, среднее - 32\n",
    "- Воронка событий и процент пользователей, остававшихся от шага к шагу: Главный экран(100%)→Экран предложения(62%)→Корзина(81%)→Оплата(94%). Этап с руководством был пропущен в 89% процентов случаев, так как не является обязательным, поэтому в дальнешей аналитике он был исключен.\n",
    "- 47.7% пользователей проходят от главного экрана до экрана об успешной оплате\n",
    "- От первого до второго шага теряется наибольшее количество юзеров(38%).\n",
    "- До проведения А/В тестов проведены А/А тесты и выяснением коректности использования контрольных групп. При использовании критерия Манна-Уитни определено отсутсвие статистически значимых различий между группами, разница в выборке составила  от - 0.91% до 2.05%, что непротиворечит к дальнейшему применению контрольных групп к участию в АБ тестировании.\n",
    "- Были проведены 12 АБ тестов, результом всех из которых явилось отсутсвие статистически значимых различий в конверсии между контрольными группами,суммой их выборок и экспериментальной группой с измененным шрифтом (при уровне статистической значимости 5% с применением поправки Бонферрони)\n",
    "\n",
    "**Выводы и рекомендации:**\n",
    "    \n",
    "- Проведенные тесты говорят об отсутсвии увеличения показателья конверсии  добавлении изменененного шрифта. Изменение шрифта не повлияет на изменение поведения пользователей\n",
    "- 38% пользователей теряется после прохождение на главный экран. Возможно, это связано с отталкивающим всплывающим руководством, дизайном главного экзана или его функционированием.\n",
    "- Из всех пользователей перешедших в корзину 94% проводит успешную оплату, что является высоким показателем."
   ]
  },
  {
   "cell_type": "code",
   "execution_count": null,
   "metadata": {},
   "outputs": [],
   "source": []
  }
 ],
 "metadata": {
  "ExecuteTimeLog": [
   {
    "duration": 467,
    "start_time": "2024-04-15T10:46:15.697Z"
   },
   {
    "duration": 68,
    "start_time": "2024-04-15T10:47:08.226Z"
   },
   {
    "duration": 439,
    "start_time": "2024-04-15T10:47:11.144Z"
   },
   {
    "duration": 333,
    "start_time": "2024-04-15T10:47:11.802Z"
   },
   {
    "duration": 56,
    "start_time": "2024-04-15T10:47:40.303Z"
   },
   {
    "duration": 394,
    "start_time": "2024-04-15T10:47:40.361Z"
   },
   {
    "duration": 215,
    "start_time": "2024-04-15T10:47:46.101Z"
   },
   {
    "duration": 237,
    "start_time": "2024-04-15T10:48:05.347Z"
   },
   {
    "duration": 179,
    "start_time": "2024-04-15T10:48:07.201Z"
   },
   {
    "duration": 3,
    "start_time": "2024-04-15T10:50:28.184Z"
   },
   {
    "duration": 11,
    "start_time": "2024-04-15T10:50:31.488Z"
   },
   {
    "duration": 28,
    "start_time": "2024-04-15T10:51:06.056Z"
   },
   {
    "duration": 401,
    "start_time": "2024-04-15T10:59:12.156Z"
   },
   {
    "duration": 200,
    "start_time": "2024-04-15T10:59:12.559Z"
   },
   {
    "duration": 236,
    "start_time": "2024-04-15T10:59:12.761Z"
   },
   {
    "duration": 3,
    "start_time": "2024-04-15T10:59:12.999Z"
   },
   {
    "duration": 5,
    "start_time": "2024-04-15T10:59:13.005Z"
   },
   {
    "duration": 39,
    "start_time": "2024-04-15T10:59:13.011Z"
   },
   {
    "duration": 24,
    "start_time": "2024-04-15T10:59:13.052Z"
   },
   {
    "duration": 8,
    "start_time": "2024-04-15T10:59:13.078Z"
   },
   {
    "duration": 17,
    "start_time": "2024-04-15T10:59:13.088Z"
   },
   {
    "duration": 25,
    "start_time": "2024-04-15T10:59:13.107Z"
   },
   {
    "duration": 28,
    "start_time": "2024-04-15T10:59:13.134Z"
   },
   {
    "duration": 7,
    "start_time": "2024-04-15T10:59:13.164Z"
   },
   {
    "duration": 21,
    "start_time": "2024-04-15T10:59:13.173Z"
   },
   {
    "duration": 19,
    "start_time": "2024-04-15T10:59:13.197Z"
   },
   {
    "duration": 7,
    "start_time": "2024-04-15T10:59:13.218Z"
   },
   {
    "duration": 10,
    "start_time": "2024-04-15T10:59:13.227Z"
   },
   {
    "duration": 27,
    "start_time": "2024-04-15T10:59:13.239Z"
   },
   {
    "duration": 13,
    "start_time": "2024-04-15T10:59:13.268Z"
   },
   {
    "duration": 25,
    "start_time": "2024-04-15T10:59:13.282Z"
   },
   {
    "duration": 41,
    "start_time": "2024-04-15T10:59:13.308Z"
   },
   {
    "duration": 44,
    "start_time": "2024-04-15T10:59:13.351Z"
   },
   {
    "duration": 10,
    "start_time": "2024-04-15T10:59:13.397Z"
   },
   {
    "duration": 43,
    "start_time": "2024-04-15T10:59:13.409Z"
   },
   {
    "duration": 26,
    "start_time": "2024-04-15T10:59:13.454Z"
   },
   {
    "duration": 26,
    "start_time": "2024-04-15T10:59:13.482Z"
   },
   {
    "duration": 8,
    "start_time": "2024-04-15T10:59:13.510Z"
   },
   {
    "duration": 28,
    "start_time": "2024-04-15T10:59:13.519Z"
   },
   {
    "duration": 16,
    "start_time": "2024-04-15T10:59:13.549Z"
   },
   {
    "duration": 383,
    "start_time": "2024-04-15T10:59:47.068Z"
   },
   {
    "duration": 200,
    "start_time": "2024-04-15T10:59:47.453Z"
   },
   {
    "duration": 196,
    "start_time": "2024-04-15T10:59:47.655Z"
   },
   {
    "duration": 3,
    "start_time": "2024-04-15T10:59:47.853Z"
   },
   {
    "duration": 42,
    "start_time": "2024-04-15T10:59:47.857Z"
   },
   {
    "duration": 216,
    "start_time": "2024-04-15T11:01:16.283Z"
   },
   {
    "duration": 180,
    "start_time": "2024-04-15T11:01:18.733Z"
   },
   {
    "duration": 371,
    "start_time": "2024-04-15T11:01:27.938Z"
   },
   {
    "duration": 163,
    "start_time": "2024-04-15T11:01:28.373Z"
   },
   {
    "duration": 182,
    "start_time": "2024-04-15T11:01:56.628Z"
   },
   {
    "duration": 134,
    "start_time": "2024-04-15T11:01:58.041Z"
   },
   {
    "duration": 177,
    "start_time": "2024-04-15T11:02:11.209Z"
   },
   {
    "duration": 153,
    "start_time": "2024-04-15T11:02:11.752Z"
   },
   {
    "duration": 5,
    "start_time": "2024-04-15T14:11:23.871Z"
   },
   {
    "duration": 5,
    "start_time": "2024-04-15T14:11:39.181Z"
   },
   {
    "duration": 1062,
    "start_time": "2024-04-15T14:14:09.116Z"
   },
   {
    "duration": 73,
    "start_time": "2024-04-15T14:14:10.497Z"
   },
   {
    "duration": 4,
    "start_time": "2024-04-15T14:14:24.626Z"
   },
   {
    "duration": 92,
    "start_time": "2024-04-15T14:14:39.443Z"
   },
   {
    "duration": 77,
    "start_time": "2024-04-15T14:14:41.167Z"
   },
   {
    "duration": 12,
    "start_time": "2024-04-15T14:14:46.374Z"
   },
   {
    "duration": 327,
    "start_time": "2024-04-15T14:15:08.004Z"
   },
   {
    "duration": 31,
    "start_time": "2024-04-15T14:15:08.435Z"
   },
   {
    "duration": 286,
    "start_time": "2024-04-15T14:15:12.299Z"
   },
   {
    "duration": 35,
    "start_time": "2024-04-15T14:15:20.846Z"
   },
   {
    "duration": 25,
    "start_time": "2024-04-15T14:15:21.602Z"
   },
   {
    "duration": 14,
    "start_time": "2024-04-15T14:15:22.004Z"
   },
   {
    "duration": 16,
    "start_time": "2024-04-15T14:15:45.814Z"
   },
   {
    "duration": 441,
    "start_time": "2024-04-15T14:16:43.313Z"
   },
   {
    "duration": 18,
    "start_time": "2024-04-15T14:16:53.289Z"
   },
   {
    "duration": 46,
    "start_time": "2024-04-15T14:16:59.862Z"
   },
   {
    "duration": 23,
    "start_time": "2024-04-15T14:17:00.435Z"
   },
   {
    "duration": 18,
    "start_time": "2024-04-15T14:17:00.962Z"
   },
   {
    "duration": 33,
    "start_time": "2024-04-15T14:18:29.778Z"
   },
   {
    "duration": 27,
    "start_time": "2024-04-15T14:18:30.724Z"
   },
   {
    "duration": 13,
    "start_time": "2024-04-15T14:18:31.341Z"
   },
   {
    "duration": 8,
    "start_time": "2024-04-15T14:18:47.607Z"
   },
   {
    "duration": 33,
    "start_time": "2024-04-15T14:20:26.000Z"
   },
   {
    "duration": 976,
    "start_time": "2024-04-15T14:20:57.966Z"
   },
   {
    "duration": 972,
    "start_time": "2024-04-15T14:21:08.177Z"
   },
   {
    "duration": 23,
    "start_time": "2024-04-15T14:21:09.332Z"
   },
   {
    "duration": 15,
    "start_time": "2024-04-15T14:21:09.985Z"
   },
   {
    "duration": 226,
    "start_time": "2024-04-15T14:21:27.830Z"
   },
   {
    "duration": 609,
    "start_time": "2024-04-15T14:21:49.388Z"
   },
   {
    "duration": 194,
    "start_time": "2024-04-15T14:21:49.999Z"
   },
   {
    "duration": 202,
    "start_time": "2024-04-15T14:21:50.194Z"
   },
   {
    "duration": 5,
    "start_time": "2024-04-15T14:21:50.398Z"
   },
   {
    "duration": 145,
    "start_time": "2024-04-15T14:21:50.405Z"
   },
   {
    "duration": 0,
    "start_time": "2024-04-15T14:21:50.551Z"
   },
   {
    "duration": 0,
    "start_time": "2024-04-15T14:21:50.553Z"
   },
   {
    "duration": 3,
    "start_time": "2024-04-15T14:22:30.981Z"
   },
   {
    "duration": 345,
    "start_time": "2024-04-15T14:22:30.987Z"
   },
   {
    "duration": 159,
    "start_time": "2024-04-15T14:22:31.334Z"
   },
   {
    "duration": 26,
    "start_time": "2024-04-15T14:22:31.495Z"
   },
   {
    "duration": 91,
    "start_time": "2024-04-15T14:22:31.524Z"
   },
   {
    "duration": 0,
    "start_time": "2024-04-15T14:22:31.617Z"
   },
   {
    "duration": 0,
    "start_time": "2024-04-15T14:22:31.618Z"
   },
   {
    "duration": 247,
    "start_time": "2024-04-15T14:22:40.530Z"
   },
   {
    "duration": 187,
    "start_time": "2024-04-15T14:22:43.874Z"
   },
   {
    "duration": 256,
    "start_time": "2024-04-15T14:22:48.117Z"
   },
   {
    "duration": 257,
    "start_time": "2024-04-15T14:23:02.862Z"
   },
   {
    "duration": 12,
    "start_time": "2024-04-15T14:23:14.244Z"
   },
   {
    "duration": 201,
    "start_time": "2024-04-15T14:23:27.410Z"
   },
   {
    "duration": 152,
    "start_time": "2024-04-15T14:23:27.969Z"
   },
   {
    "duration": 5,
    "start_time": "2024-04-15T14:23:39.407Z"
   },
   {
    "duration": 55,
    "start_time": "2024-04-15T14:23:46.440Z"
   },
   {
    "duration": 114,
    "start_time": "2024-04-15T14:24:02.532Z"
   },
   {
    "duration": 149,
    "start_time": "2024-04-15T14:24:03.946Z"
   },
   {
    "duration": 17,
    "start_time": "2024-04-15T14:24:04.437Z"
   },
   {
    "duration": 90,
    "start_time": "2024-04-15T14:28:16.283Z"
   },
   {
    "duration": 147,
    "start_time": "2024-04-15T14:29:07.652Z"
   },
   {
    "duration": 84,
    "start_time": "2024-04-15T14:29:24.825Z"
   },
   {
    "duration": 3,
    "start_time": "2024-04-15T14:29:49.153Z"
   },
   {
    "duration": 183,
    "start_time": "2024-04-15T14:29:49.682Z"
   },
   {
    "duration": 93,
    "start_time": "2024-04-15T14:29:50.115Z"
   },
   {
    "duration": 4,
    "start_time": "2024-04-15T14:29:52.429Z"
   },
   {
    "duration": 57,
    "start_time": "2024-04-15T14:29:53.711Z"
   },
   {
    "duration": 53,
    "start_time": "2024-04-15T14:29:54.037Z"
   },
   {
    "duration": 11,
    "start_time": "2024-04-15T14:30:21.547Z"
   },
   {
    "duration": 113,
    "start_time": "2024-04-15T14:30:24.739Z"
   },
   {
    "duration": 9,
    "start_time": "2024-04-15T14:30:25.442Z"
   },
   {
    "duration": 82,
    "start_time": "2024-04-15T14:30:46.607Z"
   },
   {
    "duration": 9,
    "start_time": "2024-04-15T14:30:47.637Z"
   },
   {
    "duration": 176,
    "start_time": "2024-04-15T14:30:56.105Z"
   },
   {
    "duration": 91,
    "start_time": "2024-04-15T14:30:56.481Z"
   },
   {
    "duration": 6,
    "start_time": "2024-04-15T14:30:58.301Z"
   },
   {
    "duration": 58,
    "start_time": "2024-04-15T14:31:00.546Z"
   },
   {
    "duration": 647,
    "start_time": "2024-04-15T14:31:01.078Z"
   },
   {
    "duration": 42,
    "start_time": "2024-04-15T14:31:03.014Z"
   },
   {
    "duration": 9,
    "start_time": "2024-04-15T14:31:03.722Z"
   },
   {
    "duration": 41,
    "start_time": "2024-04-15T14:31:22.475Z"
   },
   {
    "duration": 919,
    "start_time": "2024-04-15T14:32:07.548Z"
   },
   {
    "duration": 60,
    "start_time": "2024-04-15T14:32:22.436Z"
   },
   {
    "duration": 14,
    "start_time": "2024-04-15T14:32:33.425Z"
   },
   {
    "duration": 14,
    "start_time": "2024-04-15T14:32:49.071Z"
   },
   {
    "duration": 98,
    "start_time": "2024-04-15T14:33:20.839Z"
   },
   {
    "duration": 103,
    "start_time": "2024-04-15T14:33:22.378Z"
   },
   {
    "duration": 212,
    "start_time": "2024-04-15T14:33:23.472Z"
   },
   {
    "duration": 177,
    "start_time": "2024-04-15T14:33:30.698Z"
   },
   {
    "duration": 94,
    "start_time": "2024-04-15T14:33:31.084Z"
   },
   {
    "duration": 5,
    "start_time": "2024-04-15T14:33:34.792Z"
   },
   {
    "duration": 57,
    "start_time": "2024-04-15T14:33:38.603Z"
   },
   {
    "duration": 51,
    "start_time": "2024-04-15T14:33:40.475Z"
   },
   {
    "duration": 9,
    "start_time": "2024-04-15T14:34:15.166Z"
   },
   {
    "duration": 168,
    "start_time": "2024-04-15T14:34:23.332Z"
   },
   {
    "duration": 91,
    "start_time": "2024-04-15T14:34:23.757Z"
   },
   {
    "duration": 4,
    "start_time": "2024-04-15T14:34:27.940Z"
   },
   {
    "duration": 76,
    "start_time": "2024-04-15T14:34:31.253Z"
   },
   {
    "duration": 9,
    "start_time": "2024-04-15T14:34:32.938Z"
   },
   {
    "duration": 8,
    "start_time": "2024-04-15T14:35:07.831Z"
   },
   {
    "duration": 87,
    "start_time": "2024-04-15T14:35:33.314Z"
   },
   {
    "duration": 10,
    "start_time": "2024-04-15T14:35:34.398Z"
   },
   {
    "duration": 136,
    "start_time": "2024-04-15T14:35:43.442Z"
   },
   {
    "duration": 9,
    "start_time": "2024-04-15T14:35:44.603Z"
   },
   {
    "duration": 2,
    "start_time": "2024-04-15T14:35:51.630Z"
   },
   {
    "duration": 163,
    "start_time": "2024-04-15T14:35:51.886Z"
   },
   {
    "duration": 91,
    "start_time": "2024-04-15T14:35:52.113Z"
   },
   {
    "duration": 5,
    "start_time": "2024-04-15T14:35:53.293Z"
   },
   {
    "duration": 55,
    "start_time": "2024-04-15T14:35:54.729Z"
   },
   {
    "duration": 51,
    "start_time": "2024-04-15T14:35:55.094Z"
   },
   {
    "duration": 100,
    "start_time": "2024-04-15T14:35:56.183Z"
   },
   {
    "duration": 8,
    "start_time": "2024-04-15T14:35:56.619Z"
   },
   {
    "duration": 86,
    "start_time": "2024-04-15T14:36:06.041Z"
   },
   {
    "duration": 9,
    "start_time": "2024-04-15T14:36:06.994Z"
   },
   {
    "duration": 9,
    "start_time": "2024-04-15T14:36:09.942Z"
   },
   {
    "duration": 82,
    "start_time": "2024-04-15T14:36:12.248Z"
   },
   {
    "duration": 11,
    "start_time": "2024-04-15T14:36:12.900Z"
   },
   {
    "duration": 3,
    "start_time": "2024-04-15T14:36:17.569Z"
   },
   {
    "duration": 162,
    "start_time": "2024-04-15T14:36:17.741Z"
   },
   {
    "duration": 89,
    "start_time": "2024-04-15T14:36:17.937Z"
   },
   {
    "duration": 5,
    "start_time": "2024-04-15T14:36:18.681Z"
   },
   {
    "duration": 56,
    "start_time": "2024-04-15T14:36:19.265Z"
   },
   {
    "duration": 53,
    "start_time": "2024-04-15T14:36:19.659Z"
   },
   {
    "duration": 72,
    "start_time": "2024-04-15T14:36:20.582Z"
   },
   {
    "duration": 9,
    "start_time": "2024-04-15T14:36:21.016Z"
   },
   {
    "duration": 88,
    "start_time": "2024-04-15T14:37:05.394Z"
   },
   {
    "duration": 11,
    "start_time": "2024-04-15T14:37:05.896Z"
   },
   {
    "duration": 33,
    "start_time": "2024-04-15T14:37:21.325Z"
   },
   {
    "duration": 83,
    "start_time": "2024-04-15T14:37:29.725Z"
   },
   {
    "duration": 9,
    "start_time": "2024-04-15T14:37:30.460Z"
   },
   {
    "duration": 44,
    "start_time": "2024-04-15T14:37:31.123Z"
   },
   {
    "duration": 4,
    "start_time": "2024-04-15T14:38:02.543Z"
   },
   {
    "duration": 170,
    "start_time": "2024-04-15T14:38:02.958Z"
   },
   {
    "duration": 94,
    "start_time": "2024-04-15T14:38:03.338Z"
   },
   {
    "duration": 6,
    "start_time": "2024-04-15T14:38:04.235Z"
   },
   {
    "duration": 59,
    "start_time": "2024-04-15T14:38:05.467Z"
   },
   {
    "duration": 52,
    "start_time": "2024-04-15T14:38:05.880Z"
   },
   {
    "duration": 74,
    "start_time": "2024-04-15T14:38:07.325Z"
   },
   {
    "duration": 8,
    "start_time": "2024-04-15T14:38:07.747Z"
   },
   {
    "duration": 32,
    "start_time": "2024-04-15T14:38:10.938Z"
   },
   {
    "duration": 22,
    "start_time": "2024-04-15T14:39:01.794Z"
   },
   {
    "duration": 10,
    "start_time": "2024-04-15T14:39:02.567Z"
   },
   {
    "duration": 16,
    "start_time": "2024-04-15T14:39:09.639Z"
   },
   {
    "duration": 19,
    "start_time": "2024-04-15T14:39:15.955Z"
   },
   {
    "duration": 71,
    "start_time": "2024-04-15T14:39:20.711Z"
   },
   {
    "duration": 9,
    "start_time": "2024-04-15T14:39:21.236Z"
   },
   {
    "duration": 85,
    "start_time": "2024-04-15T14:39:26.471Z"
   },
   {
    "duration": 9,
    "start_time": "2024-04-15T14:39:27.417Z"
   },
   {
    "duration": 33,
    "start_time": "2024-04-15T14:39:29.002Z"
   },
   {
    "duration": 1021,
    "start_time": "2024-04-15T14:41:23.564Z"
   },
   {
    "duration": 0,
    "start_time": "2024-04-15T14:41:24.587Z"
   },
   {
    "duration": 3,
    "start_time": "2024-04-15T14:41:41.102Z"
   },
   {
    "duration": 171,
    "start_time": "2024-04-15T14:41:41.248Z"
   },
   {
    "duration": 109,
    "start_time": "2024-04-15T14:41:41.421Z"
   },
   {
    "duration": 4,
    "start_time": "2024-04-15T14:41:42.059Z"
   },
   {
    "duration": 60,
    "start_time": "2024-04-15T14:41:42.585Z"
   },
   {
    "duration": 50,
    "start_time": "2024-04-15T14:41:42.755Z"
   },
   {
    "duration": 1028,
    "start_time": "2024-04-15T14:41:43.298Z"
   },
   {
    "duration": 8,
    "start_time": "2024-04-15T14:41:44.640Z"
   },
   {
    "duration": 460,
    "start_time": "2024-04-15T14:42:23.972Z"
   },
   {
    "duration": 178,
    "start_time": "2024-04-15T14:42:24.433Z"
   },
   {
    "duration": 95,
    "start_time": "2024-04-15T14:42:24.613Z"
   },
   {
    "duration": 6,
    "start_time": "2024-04-15T14:42:25.059Z"
   },
   {
    "duration": 56,
    "start_time": "2024-04-15T14:42:25.611Z"
   },
   {
    "duration": 51,
    "start_time": "2024-04-15T14:42:25.781Z"
   },
   {
    "duration": 1094,
    "start_time": "2024-04-15T14:42:26.340Z"
   },
   {
    "duration": 0,
    "start_time": "2024-04-15T14:42:27.436Z"
   },
   {
    "duration": 0,
    "start_time": "2024-04-15T14:42:27.437Z"
   },
   {
    "duration": 1007,
    "start_time": "2024-04-15T14:49:45.191Z"
   },
   {
    "duration": 8,
    "start_time": "2024-04-15T14:49:46.407Z"
   },
   {
    "duration": 3,
    "start_time": "2024-04-15T14:49:55.051Z"
   },
   {
    "duration": 182,
    "start_time": "2024-04-15T14:49:55.447Z"
   },
   {
    "duration": 98,
    "start_time": "2024-04-15T14:49:55.850Z"
   },
   {
    "duration": 4,
    "start_time": "2024-04-15T14:49:57.637Z"
   },
   {
    "duration": 54,
    "start_time": "2024-04-15T14:49:58.875Z"
   },
   {
    "duration": 48,
    "start_time": "2024-04-15T14:49:59.255Z"
   },
   {
    "duration": 982,
    "start_time": "2024-04-15T14:50:00.470Z"
   },
   {
    "duration": 0,
    "start_time": "2024-04-15T14:50:01.454Z"
   },
   {
    "duration": 22,
    "start_time": "2024-04-15T14:50:01.466Z"
   },
   {
    "duration": 1005,
    "start_time": "2024-04-15T14:50:54.423Z"
   },
   {
    "duration": 88,
    "start_time": "2024-04-15T14:51:21.532Z"
   },
   {
    "duration": 10,
    "start_time": "2024-04-15T14:51:23.413Z"
   },
   {
    "duration": 33,
    "start_time": "2024-04-15T14:51:24.675Z"
   },
   {
    "duration": 84,
    "start_time": "2024-04-15T14:55:17.888Z"
   },
   {
    "duration": 9,
    "start_time": "2024-04-15T14:55:18.291Z"
   },
   {
    "duration": 84,
    "start_time": "2024-04-15T14:56:32.788Z"
   },
   {
    "duration": 8,
    "start_time": "2024-04-15T14:56:33.984Z"
   },
   {
    "duration": 320,
    "start_time": "2024-04-15T14:57:02.634Z"
   },
   {
    "duration": 8,
    "start_time": "2024-04-15T14:57:03.075Z"
   },
   {
    "duration": 1084,
    "start_time": "2024-04-15T14:57:25.490Z"
   },
   {
    "duration": 9,
    "start_time": "2024-04-15T14:57:26.882Z"
   },
   {
    "duration": 20,
    "start_time": "2024-04-15T14:57:50.396Z"
   },
   {
    "duration": 21,
    "start_time": "2024-04-15T14:58:06.452Z"
   },
   {
    "duration": 301,
    "start_time": "2024-04-15T14:58:26.029Z"
   },
   {
    "duration": 280,
    "start_time": "2024-04-15T14:58:37.814Z"
   },
   {
    "duration": 97,
    "start_time": "2024-04-15T14:59:12.688Z"
   },
   {
    "duration": 88,
    "start_time": "2024-04-15T14:59:21.408Z"
   },
   {
    "duration": 110,
    "start_time": "2024-04-15T14:59:26.649Z"
   },
   {
    "duration": 80,
    "start_time": "2024-04-15T14:59:33.160Z"
   },
   {
    "duration": 8,
    "start_time": "2024-04-15T14:59:34.326Z"
   },
   {
    "duration": 63,
    "start_time": "2024-04-15T15:00:04.721Z"
   },
   {
    "duration": 21,
    "start_time": "2024-04-15T15:01:26.948Z"
   },
   {
    "duration": 9,
    "start_time": "2024-04-15T15:01:27.970Z"
   },
   {
    "duration": 22,
    "start_time": "2024-04-15T15:01:29.117Z"
   },
   {
    "duration": 87,
    "start_time": "2024-04-15T15:02:02.100Z"
   },
   {
    "duration": 9,
    "start_time": "2024-04-15T15:02:02.746Z"
   },
   {
    "duration": 31,
    "start_time": "2024-04-15T15:02:05.058Z"
   },
   {
    "duration": 20,
    "start_time": "2024-04-15T15:02:15.474Z"
   },
   {
    "duration": 17,
    "start_time": "2024-04-15T15:02:22.652Z"
   },
   {
    "duration": 126,
    "start_time": "2024-04-15T15:02:28.542Z"
   },
   {
    "duration": 20,
    "start_time": "2024-04-15T15:02:31.828Z"
   },
   {
    "duration": 12,
    "start_time": "2024-04-15T15:02:32.523Z"
   },
   {
    "duration": 21,
    "start_time": "2024-04-15T15:02:36.273Z"
   },
   {
    "duration": 17,
    "start_time": "2024-04-15T15:04:06.549Z"
   },
   {
    "duration": 19,
    "start_time": "2024-04-15T15:04:10.484Z"
   },
   {
    "duration": 971,
    "start_time": "2024-04-15T15:05:01.628Z"
   },
   {
    "duration": 102,
    "start_time": "2024-04-15T15:05:15.820Z"
   },
   {
    "duration": 12,
    "start_time": "2024-04-15T15:05:16.703Z"
   },
   {
    "duration": 23,
    "start_time": "2024-04-15T15:05:58.009Z"
   },
   {
    "duration": 83,
    "start_time": "2024-04-15T15:06:30.975Z"
   },
   {
    "duration": 211,
    "start_time": "2024-04-15T15:06:31.270Z"
   },
   {
    "duration": 32,
    "start_time": "2024-04-15T15:06:35.123Z"
   },
   {
    "duration": 70,
    "start_time": "2024-04-15T15:11:02.887Z"
   },
   {
    "duration": 23,
    "start_time": "2024-04-15T15:11:16.210Z"
   },
   {
    "duration": 12,
    "start_time": "2024-04-15T15:11:17.444Z"
   },
   {
    "duration": 24,
    "start_time": "2024-04-15T15:11:18.533Z"
   },
   {
    "duration": 85,
    "start_time": "2024-04-15T15:11:59.764Z"
   },
   {
    "duration": 9,
    "start_time": "2024-04-15T15:12:01.375Z"
   },
   {
    "duration": 30,
    "start_time": "2024-04-15T15:12:02.859Z"
   },
   {
    "duration": 99,
    "start_time": "2024-04-15T15:12:42.580Z"
   },
   {
    "duration": 124,
    "start_time": "2024-04-15T15:13:00.908Z"
   },
   {
    "duration": 9,
    "start_time": "2024-04-15T15:13:03.333Z"
   },
   {
    "duration": 23,
    "start_time": "2024-04-15T15:13:04.217Z"
   },
   {
    "duration": 115,
    "start_time": "2024-04-15T15:13:19.094Z"
   },
   {
    "duration": 3,
    "start_time": "2024-04-15T15:13:22.829Z"
   },
   {
    "duration": 170,
    "start_time": "2024-04-15T15:13:22.998Z"
   },
   {
    "duration": 89,
    "start_time": "2024-04-15T15:13:23.204Z"
   },
   {
    "duration": 5,
    "start_time": "2024-04-15T15:13:24.946Z"
   },
   {
    "duration": 57,
    "start_time": "2024-04-15T15:13:26.246Z"
   },
   {
    "duration": 62,
    "start_time": "2024-04-15T15:13:26.757Z"
   },
   {
    "duration": 120,
    "start_time": "2024-04-15T15:13:28.114Z"
   },
   {
    "duration": 8,
    "start_time": "2024-04-15T15:13:28.953Z"
   },
   {
    "duration": 22,
    "start_time": "2024-04-15T15:13:31.708Z"
   },
   {
    "duration": 66,
    "start_time": "2024-04-15T15:13:53.926Z"
   },
   {
    "duration": 115,
    "start_time": "2024-04-15T15:14:20.031Z"
   },
   {
    "duration": 9,
    "start_time": "2024-04-15T15:14:20.503Z"
   },
   {
    "duration": 22,
    "start_time": "2024-04-15T15:14:21.076Z"
   },
   {
    "duration": 142,
    "start_time": "2024-04-15T15:20:35.036Z"
   },
   {
    "duration": 27,
    "start_time": "2024-04-15T15:20:50.369Z"
   },
   {
    "duration": 26,
    "start_time": "2024-04-15T15:21:08.373Z"
   },
   {
    "duration": 4,
    "start_time": "2024-04-15T15:24:08.704Z"
   },
   {
    "duration": 223,
    "start_time": "2024-04-15T15:25:33.548Z"
   },
   {
    "duration": 3,
    "start_time": "2024-04-15T15:25:56.309Z"
   },
   {
    "duration": 182,
    "start_time": "2024-04-15T15:25:56.467Z"
   },
   {
    "duration": 104,
    "start_time": "2024-04-15T15:25:56.651Z"
   },
   {
    "duration": 4,
    "start_time": "2024-04-15T15:25:57.354Z"
   },
   {
    "duration": 62,
    "start_time": "2024-04-15T15:25:57.905Z"
   },
   {
    "duration": 58,
    "start_time": "2024-04-15T15:25:58.083Z"
   },
   {
    "duration": 116,
    "start_time": "2024-04-15T15:25:58.608Z"
   },
   {
    "duration": 10,
    "start_time": "2024-04-15T15:25:58.791Z"
   },
   {
    "duration": 22,
    "start_time": "2024-04-15T15:25:58.973Z"
   },
   {
    "duration": 4,
    "start_time": "2024-04-15T15:25:59.669Z"
   },
   {
    "duration": 27,
    "start_time": "2024-04-15T15:26:01.169Z"
   },
   {
    "duration": 10,
    "start_time": "2024-04-15T15:26:12.914Z"
   },
   {
    "duration": 17,
    "start_time": "2024-04-15T15:31:11.000Z"
   },
   {
    "duration": 26,
    "start_time": "2024-04-15T15:31:18.010Z"
   },
   {
    "duration": 26,
    "start_time": "2024-04-15T15:31:34.836Z"
   },
   {
    "duration": 28,
    "start_time": "2024-04-15T15:31:50.212Z"
   },
   {
    "duration": 55,
    "start_time": "2024-04-15T15:32:53.860Z"
   },
   {
    "duration": 6,
    "start_time": "2024-04-15T15:39:03.755Z"
   },
   {
    "duration": 5,
    "start_time": "2024-04-15T15:39:24.889Z"
   },
   {
    "duration": 10,
    "start_time": "2024-04-15T15:52:21.824Z"
   },
   {
    "duration": 37,
    "start_time": "2024-04-15T15:52:27.870Z"
   },
   {
    "duration": 8,
    "start_time": "2024-04-15T15:53:38.735Z"
   },
   {
    "duration": 59,
    "start_time": "2024-04-15T15:53:55.801Z"
   },
   {
    "duration": 3161,
    "start_time": "2024-04-15T15:54:00.175Z"
   },
   {
    "duration": 3099,
    "start_time": "2024-04-15T15:54:15.077Z"
   },
   {
    "duration": 6453,
    "start_time": "2024-04-15T15:54:33.972Z"
   },
   {
    "duration": 9,
    "start_time": "2024-04-15T15:55:28.260Z"
   },
   {
    "duration": 9,
    "start_time": "2024-04-15T15:55:32.805Z"
   },
   {
    "duration": 15,
    "start_time": "2024-04-15T15:55:41.070Z"
   },
   {
    "duration": 19,
    "start_time": "2024-04-15T15:55:50.382Z"
   },
   {
    "duration": 9,
    "start_time": "2024-04-15T15:55:57.681Z"
   },
   {
    "duration": 18,
    "start_time": "2024-04-15T15:56:01.131Z"
   },
   {
    "duration": 24,
    "start_time": "2024-04-15T15:56:46.721Z"
   },
   {
    "duration": 24,
    "start_time": "2024-04-15T15:57:05.027Z"
   },
   {
    "duration": 167,
    "start_time": "2024-04-15T15:57:16.782Z"
   },
   {
    "duration": 189,
    "start_time": "2024-04-15T15:57:31.477Z"
   },
   {
    "duration": 162,
    "start_time": "2024-04-15T15:57:40.530Z"
   },
   {
    "duration": 53,
    "start_time": "2024-04-16T10:58:32.270Z"
   },
   {
    "duration": 1469,
    "start_time": "2024-04-16T10:58:37.858Z"
   },
   {
    "duration": 862,
    "start_time": "2024-04-16T10:58:39.330Z"
   },
   {
    "duration": 115,
    "start_time": "2024-04-16T10:58:40.193Z"
   },
   {
    "duration": 5,
    "start_time": "2024-04-16T10:58:40.310Z"
   },
   {
    "duration": 99,
    "start_time": "2024-04-16T10:58:40.316Z"
   },
   {
    "duration": 68,
    "start_time": "2024-04-16T10:58:40.418Z"
   },
   {
    "duration": 18,
    "start_time": "2024-04-16T10:58:43.882Z"
   },
   {
    "duration": 1401,
    "start_time": "2024-04-16T11:06:15.550Z"
   },
   {
    "duration": 2021,
    "start_time": "2024-04-16T11:06:52.057Z"
   },
   {
    "duration": 139,
    "start_time": "2024-04-16T11:06:59.652Z"
   },
   {
    "duration": 10,
    "start_time": "2024-04-16T11:07:00.672Z"
   },
   {
    "duration": 24,
    "start_time": "2024-04-16T11:07:01.396Z"
   },
   {
    "duration": 4,
    "start_time": "2024-04-16T11:07:03.833Z"
   },
   {
    "duration": 32,
    "start_time": "2024-04-16T11:07:04.293Z"
   },
   {
    "duration": 11,
    "start_time": "2024-04-16T11:07:05.292Z"
   },
   {
    "duration": 30,
    "start_time": "2024-04-16T11:07:06.545Z"
   },
   {
    "duration": 6,
    "start_time": "2024-04-16T11:07:10.412Z"
   },
   {
    "duration": 406,
    "start_time": "2024-04-16T11:07:12.807Z"
   },
   {
    "duration": 309,
    "start_time": "2024-04-16T11:07:22.758Z"
   },
   {
    "duration": 312,
    "start_time": "2024-04-16T11:07:32.877Z"
   },
   {
    "duration": 335,
    "start_time": "2024-04-16T11:07:42.745Z"
   },
   {
    "duration": 324,
    "start_time": "2024-04-16T11:07:52.675Z"
   },
   {
    "duration": 324,
    "start_time": "2024-04-16T11:08:01.330Z"
   },
   {
    "duration": 375,
    "start_time": "2024-04-16T11:08:09.146Z"
   },
   {
    "duration": 302,
    "start_time": "2024-04-16T11:08:33.009Z"
   },
   {
    "duration": 301,
    "start_time": "2024-04-16T11:08:40.873Z"
   },
   {
    "duration": 325,
    "start_time": "2024-04-16T11:08:52.630Z"
   },
   {
    "duration": 302,
    "start_time": "2024-04-16T11:08:59.529Z"
   },
   {
    "duration": 24,
    "start_time": "2024-04-16T11:09:22.771Z"
   },
   {
    "duration": 23,
    "start_time": "2024-04-16T11:09:27.910Z"
   },
   {
    "duration": 352,
    "start_time": "2024-04-16T11:09:30.697Z"
   },
   {
    "duration": 13,
    "start_time": "2024-04-16T11:09:39.293Z"
   },
   {
    "duration": 312,
    "start_time": "2024-04-16T11:09:50.726Z"
   },
   {
    "duration": 291,
    "start_time": "2024-04-16T11:09:58.209Z"
   },
   {
    "duration": 331,
    "start_time": "2024-04-16T11:10:04.371Z"
   },
   {
    "duration": 329,
    "start_time": "2024-04-16T11:10:13.720Z"
   },
   {
    "duration": 317,
    "start_time": "2024-04-16T11:10:29.605Z"
   },
   {
    "duration": 388,
    "start_time": "2024-04-16T11:10:34.741Z"
   },
   {
    "duration": 301,
    "start_time": "2024-04-16T11:11:06.872Z"
   },
   {
    "duration": 375,
    "start_time": "2024-04-16T11:11:17.266Z"
   },
   {
    "duration": 300,
    "start_time": "2024-04-16T11:11:30.931Z"
   },
   {
    "duration": 306,
    "start_time": "2024-04-16T11:12:14.074Z"
   },
   {
    "duration": 407,
    "start_time": "2024-04-16T11:12:19.393Z"
   },
   {
    "duration": 324,
    "start_time": "2024-04-16T11:12:31.956Z"
   },
   {
    "duration": 11,
    "start_time": "2024-04-16T11:37:50.482Z"
   },
   {
    "duration": 333,
    "start_time": "2024-04-16T11:38:46.376Z"
   },
   {
    "duration": 332,
    "start_time": "2024-04-16T11:39:01.361Z"
   },
   {
    "duration": 82,
    "start_time": "2024-04-16T11:45:45.454Z"
   },
   {
    "duration": 23,
    "start_time": "2024-04-16T11:45:52.848Z"
   },
   {
    "duration": 54,
    "start_time": "2024-04-16T11:46:04.046Z"
   },
   {
    "duration": 14,
    "start_time": "2024-04-16T11:46:32.883Z"
   },
   {
    "duration": 83,
    "start_time": "2024-04-16T11:47:06.697Z"
   },
   {
    "duration": 5,
    "start_time": "2024-04-16T11:47:11.933Z"
   },
   {
    "duration": 6,
    "start_time": "2024-04-16T11:47:17.438Z"
   },
   {
    "duration": 15,
    "start_time": "2024-04-16T11:47:35.066Z"
   },
   {
    "duration": 12,
    "start_time": "2024-04-16T11:48:11.380Z"
   },
   {
    "duration": 10,
    "start_time": "2024-04-16T11:48:15.824Z"
   },
   {
    "duration": 5,
    "start_time": "2024-04-16T11:48:50.871Z"
   },
   {
    "duration": 6,
    "start_time": "2024-04-16T11:50:22.553Z"
   },
   {
    "duration": 14,
    "start_time": "2024-04-16T11:50:39.892Z"
   },
   {
    "duration": 11,
    "start_time": "2024-04-16T11:50:51.609Z"
   },
   {
    "duration": 14,
    "start_time": "2024-04-16T11:51:07.748Z"
   },
   {
    "duration": 15,
    "start_time": "2024-04-16T11:51:17.978Z"
   },
   {
    "duration": 15,
    "start_time": "2024-04-16T11:51:29.091Z"
   },
   {
    "duration": 4,
    "start_time": "2024-04-16T11:56:56.082Z"
   },
   {
    "duration": 30,
    "start_time": "2024-04-16T11:56:56.655Z"
   },
   {
    "duration": 4,
    "start_time": "2024-04-16T11:56:57.234Z"
   },
   {
    "duration": 123,
    "start_time": "2024-04-16T11:57:15.409Z"
   },
   {
    "duration": 3,
    "start_time": "2024-04-16T11:59:56.932Z"
   },
   {
    "duration": 29,
    "start_time": "2024-04-16T11:59:57.522Z"
   },
   {
    "duration": 5,
    "start_time": "2024-04-16T11:59:58.081Z"
   },
   {
    "duration": 4,
    "start_time": "2024-04-16T12:00:14.434Z"
   },
   {
    "duration": 28,
    "start_time": "2024-04-16T12:01:31.032Z"
   },
   {
    "duration": 397,
    "start_time": "2024-04-16T12:02:24.651Z"
   },
   {
    "duration": 4,
    "start_time": "2024-04-16T12:02:41.345Z"
   },
   {
    "duration": 301,
    "start_time": "2024-04-16T12:02:41.517Z"
   },
   {
    "duration": 114,
    "start_time": "2024-04-16T12:02:42.412Z"
   },
   {
    "duration": 5,
    "start_time": "2024-04-16T12:02:42.529Z"
   },
   {
    "duration": 68,
    "start_time": "2024-04-16T12:02:42.949Z"
   },
   {
    "duration": 53,
    "start_time": "2024-04-16T12:02:43.125Z"
   },
   {
    "duration": 18,
    "start_time": "2024-04-16T12:02:43.311Z"
   },
   {
    "duration": 149,
    "start_time": "2024-04-16T12:02:43.891Z"
   },
   {
    "duration": 10,
    "start_time": "2024-04-16T12:02:44.132Z"
   },
   {
    "duration": 24,
    "start_time": "2024-04-16T12:02:44.298Z"
   },
   {
    "duration": 5,
    "start_time": "2024-04-16T12:02:48.357Z"
   },
   {
    "duration": 27,
    "start_time": "2024-04-16T12:02:49.448Z"
   },
   {
    "duration": 11,
    "start_time": "2024-04-16T12:02:50.626Z"
   },
   {
    "duration": 34,
    "start_time": "2024-04-16T12:02:52.065Z"
   },
   {
    "duration": 8,
    "start_time": "2024-04-16T12:02:53.317Z"
   },
   {
    "duration": 314,
    "start_time": "2024-04-16T12:02:54.887Z"
   },
   {
    "duration": 19,
    "start_time": "2024-04-16T12:03:04.159Z"
   },
   {
    "duration": 10,
    "start_time": "2024-04-16T12:03:32.974Z"
   },
   {
    "duration": 1878,
    "start_time": "2024-04-16T12:04:59.511Z"
   },
   {
    "duration": 56,
    "start_time": "2024-04-16T12:10:02.070Z"
   },
   {
    "duration": 7,
    "start_time": "2024-04-16T12:10:06.386Z"
   },
   {
    "duration": 1348,
    "start_time": "2024-04-16T12:10:12.818Z"
   },
   {
    "duration": 838,
    "start_time": "2024-04-16T12:10:14.169Z"
   },
   {
    "duration": 123,
    "start_time": "2024-04-16T12:10:15.008Z"
   },
   {
    "duration": 5,
    "start_time": "2024-04-16T12:10:15.133Z"
   },
   {
    "duration": 157,
    "start_time": "2024-04-16T12:10:15.139Z"
   },
   {
    "duration": 72,
    "start_time": "2024-04-16T12:10:15.298Z"
   },
   {
    "duration": 29,
    "start_time": "2024-04-16T12:10:15.380Z"
   },
   {
    "duration": 141,
    "start_time": "2024-04-16T12:10:15.509Z"
   },
   {
    "duration": 9,
    "start_time": "2024-04-16T12:10:15.700Z"
   },
   {
    "duration": 24,
    "start_time": "2024-04-16T12:10:15.930Z"
   },
   {
    "duration": 4,
    "start_time": "2024-04-16T12:10:17.005Z"
   },
   {
    "duration": 40,
    "start_time": "2024-04-16T12:10:17.395Z"
   },
   {
    "duration": 11,
    "start_time": "2024-04-16T12:10:18.003Z"
   },
   {
    "duration": 51,
    "start_time": "2024-04-16T12:10:18.632Z"
   },
   {
    "duration": 9,
    "start_time": "2024-04-16T12:10:19.796Z"
   },
   {
    "duration": 445,
    "start_time": "2024-04-16T12:10:20.243Z"
   },
   {
    "duration": 23,
    "start_time": "2024-04-16T12:10:20.960Z"
   },
   {
    "duration": 4,
    "start_time": "2024-04-16T12:10:23.888Z"
   },
   {
    "duration": 25,
    "start_time": "2024-04-16T12:10:24.073Z"
   },
   {
    "duration": 4,
    "start_time": "2024-04-16T12:10:24.285Z"
   },
   {
    "duration": 7,
    "start_time": "2024-04-16T12:10:24.993Z"
   },
   {
    "duration": 55,
    "start_time": "2024-04-16T12:13:46.817Z"
   },
   {
    "duration": 1314,
    "start_time": "2024-04-16T12:13:50.534Z"
   },
   {
    "duration": 848,
    "start_time": "2024-04-16T12:13:51.850Z"
   },
   {
    "duration": 127,
    "start_time": "2024-04-16T12:13:52.700Z"
   },
   {
    "duration": 6,
    "start_time": "2024-04-16T12:13:52.829Z"
   },
   {
    "duration": 114,
    "start_time": "2024-04-16T12:13:52.838Z"
   },
   {
    "duration": 84,
    "start_time": "2024-04-16T12:13:52.954Z"
   },
   {
    "duration": 23,
    "start_time": "2024-04-16T12:13:53.041Z"
   },
   {
    "duration": 151,
    "start_time": "2024-04-16T12:13:53.066Z"
   },
   {
    "duration": 9,
    "start_time": "2024-04-16T12:13:53.219Z"
   },
   {
    "duration": 53,
    "start_time": "2024-04-16T12:13:53.229Z"
   },
   {
    "duration": 25,
    "start_time": "2024-04-16T12:13:53.284Z"
   },
   {
    "duration": 31,
    "start_time": "2024-04-16T12:13:53.311Z"
   },
   {
    "duration": 20,
    "start_time": "2024-04-16T12:13:53.344Z"
   },
   {
    "duration": 32,
    "start_time": "2024-04-16T12:13:53.368Z"
   },
   {
    "duration": 7,
    "start_time": "2024-04-16T12:13:53.402Z"
   },
   {
    "duration": 424,
    "start_time": "2024-04-16T12:13:53.411Z"
   },
   {
    "duration": 24,
    "start_time": "2024-04-16T12:13:53.836Z"
   },
   {
    "duration": 18,
    "start_time": "2024-04-16T12:13:53.862Z"
   },
   {
    "duration": 24,
    "start_time": "2024-04-16T12:13:53.882Z"
   },
   {
    "duration": 4,
    "start_time": "2024-04-16T12:13:53.908Z"
   },
   {
    "duration": 9,
    "start_time": "2024-04-16T12:13:53.914Z"
   },
   {
    "duration": 22,
    "start_time": "2024-04-16T12:13:53.925Z"
   },
   {
    "duration": 11,
    "start_time": "2024-04-16T12:14:02.491Z"
   },
   {
    "duration": 8,
    "start_time": "2024-04-16T12:14:21.103Z"
   },
   {
    "duration": 9,
    "start_time": "2024-04-16T12:14:29.497Z"
   },
   {
    "duration": 12,
    "start_time": "2024-04-16T12:14:32.128Z"
   },
   {
    "duration": 7,
    "start_time": "2024-04-16T12:14:55.186Z"
   },
   {
    "duration": 9,
    "start_time": "2024-04-16T12:15:12.159Z"
   },
   {
    "duration": 8,
    "start_time": "2024-04-16T12:15:21.566Z"
   },
   {
    "duration": 6,
    "start_time": "2024-04-16T12:15:28.886Z"
   },
   {
    "duration": 7,
    "start_time": "2024-04-16T12:15:49.825Z"
   },
   {
    "duration": 3,
    "start_time": "2024-04-16T12:16:27.410Z"
   },
   {
    "duration": 24,
    "start_time": "2024-04-16T12:16:27.856Z"
   },
   {
    "duration": 4,
    "start_time": "2024-04-16T12:16:28.212Z"
   },
   {
    "duration": 44,
    "start_time": "2024-04-16T12:19:16.101Z"
   },
   {
    "duration": 48,
    "start_time": "2024-04-16T12:19:33.897Z"
   },
   {
    "duration": 30,
    "start_time": "2024-04-16T12:21:01.473Z"
   },
   {
    "duration": 3,
    "start_time": "2024-04-16T12:23:30.358Z"
   },
   {
    "duration": 86,
    "start_time": "2024-04-16T12:24:07.258Z"
   },
   {
    "duration": 29,
    "start_time": "2024-04-16T12:24:34.905Z"
   },
   {
    "duration": 42,
    "start_time": "2024-04-16T12:35:08.551Z"
   },
   {
    "duration": 31,
    "start_time": "2024-04-16T12:35:59.650Z"
   },
   {
    "duration": 28,
    "start_time": "2024-04-16T12:36:10.413Z"
   },
   {
    "duration": 4,
    "start_time": "2024-04-16T12:36:48.273Z"
   },
   {
    "duration": 97,
    "start_time": "2024-04-16T12:36:53.239Z"
   },
   {
    "duration": 29,
    "start_time": "2024-04-16T12:36:57.432Z"
   },
   {
    "duration": 28,
    "start_time": "2024-04-16T12:38:44.071Z"
   },
   {
    "duration": 31,
    "start_time": "2024-04-16T12:38:50.989Z"
   },
   {
    "duration": 103,
    "start_time": "2024-04-16T12:41:37.436Z"
   },
   {
    "duration": 31,
    "start_time": "2024-04-16T12:41:44.117Z"
   },
   {
    "duration": 33,
    "start_time": "2024-04-16T12:41:59.665Z"
   },
   {
    "duration": 66,
    "start_time": "2024-04-16T12:43:21.800Z"
   },
   {
    "duration": 61,
    "start_time": "2024-04-16T12:43:32.407Z"
   },
   {
    "duration": 76,
    "start_time": "2024-04-16T12:43:56.951Z"
   },
   {
    "duration": 81,
    "start_time": "2024-04-16T12:44:44.755Z"
   },
   {
    "duration": 423,
    "start_time": "2024-04-16T12:45:14.489Z"
   },
   {
    "duration": 1549,
    "start_time": "2024-04-16T12:45:37.015Z"
   },
   {
    "duration": 71,
    "start_time": "2024-04-16T12:45:51.274Z"
   },
   {
    "duration": 90,
    "start_time": "2024-04-16T12:46:57.648Z"
   },
   {
    "duration": 73,
    "start_time": "2024-04-16T12:47:11.288Z"
   },
   {
    "duration": 77,
    "start_time": "2024-04-16T12:47:20.363Z"
   },
   {
    "duration": 89,
    "start_time": "2024-04-16T12:47:46.216Z"
   },
   {
    "duration": 73,
    "start_time": "2024-04-16T12:47:50.192Z"
   },
   {
    "duration": 4,
    "start_time": "2024-04-16T12:47:57.424Z"
   },
   {
    "duration": 74,
    "start_time": "2024-04-16T12:48:01.138Z"
   },
   {
    "duration": 439,
    "start_time": "2024-04-16T12:49:35.332Z"
   },
   {
    "duration": 100,
    "start_time": "2024-04-16T12:49:48.596Z"
   },
   {
    "duration": 74,
    "start_time": "2024-04-16T12:50:00.952Z"
   },
   {
    "duration": 75,
    "start_time": "2024-04-16T12:50:06.261Z"
   },
   {
    "duration": 43,
    "start_time": "2024-04-16T12:55:20.476Z"
   },
   {
    "duration": 77,
    "start_time": "2024-04-16T13:03:41.352Z"
   },
   {
    "duration": 73,
    "start_time": "2024-04-16T13:03:49.803Z"
   },
   {
    "duration": 1388,
    "start_time": "2024-04-16T13:03:57.931Z"
   },
   {
    "duration": 69,
    "start_time": "2024-04-16T13:04:14.645Z"
   },
   {
    "duration": 77,
    "start_time": "2024-04-16T13:04:22.996Z"
   },
   {
    "duration": 118,
    "start_time": "2024-04-16T13:04:28.473Z"
   },
   {
    "duration": 8,
    "start_time": "2024-04-16T13:08:03.853Z"
   },
   {
    "duration": 17,
    "start_time": "2024-04-16T13:08:08.979Z"
   },
   {
    "duration": 8,
    "start_time": "2024-04-16T13:08:15.872Z"
   },
   {
    "duration": 8,
    "start_time": "2024-04-16T13:11:02.228Z"
   },
   {
    "duration": 3,
    "start_time": "2024-04-16T13:11:02.973Z"
   },
   {
    "duration": 8,
    "start_time": "2024-04-16T13:11:09.166Z"
   },
   {
    "duration": 7,
    "start_time": "2024-04-16T13:12:19.104Z"
   },
   {
    "duration": 83,
    "start_time": "2024-04-16T13:12:19.784Z"
   },
   {
    "duration": 13,
    "start_time": "2024-04-16T13:14:12.325Z"
   },
   {
    "duration": 20,
    "start_time": "2024-04-16T13:14:26.530Z"
   },
   {
    "duration": 4,
    "start_time": "2024-04-16T13:14:32.446Z"
   },
   {
    "duration": 192,
    "start_time": "2024-04-16T13:14:32.619Z"
   },
   {
    "duration": 111,
    "start_time": "2024-04-16T13:14:32.813Z"
   },
   {
    "duration": 5,
    "start_time": "2024-04-16T13:14:33.507Z"
   },
   {
    "duration": 58,
    "start_time": "2024-04-16T13:14:34.050Z"
   },
   {
    "duration": 55,
    "start_time": "2024-04-16T13:14:34.229Z"
   },
   {
    "duration": 18,
    "start_time": "2024-04-16T13:14:34.384Z"
   },
   {
    "duration": 130,
    "start_time": "2024-04-16T13:14:34.923Z"
   },
   {
    "duration": 10,
    "start_time": "2024-04-16T13:14:35.095Z"
   },
   {
    "duration": 23,
    "start_time": "2024-04-16T13:14:35.274Z"
   },
   {
    "duration": 4,
    "start_time": "2024-04-16T13:14:36.201Z"
   },
   {
    "duration": 28,
    "start_time": "2024-04-16T13:14:36.551Z"
   },
   {
    "duration": 11,
    "start_time": "2024-04-16T13:14:37.661Z"
   },
   {
    "duration": 30,
    "start_time": "2024-04-16T13:14:38.618Z"
   },
   {
    "duration": 8,
    "start_time": "2024-04-16T13:14:39.594Z"
   },
   {
    "duration": 316,
    "start_time": "2024-04-16T13:14:40.099Z"
   },
   {
    "duration": 24,
    "start_time": "2024-04-16T13:14:40.560Z"
   },
   {
    "duration": 3,
    "start_time": "2024-04-16T13:14:40.972Z"
   },
   {
    "duration": 20,
    "start_time": "2024-04-16T13:14:41.414Z"
   },
   {
    "duration": 5,
    "start_time": "2024-04-16T13:14:41.676Z"
   },
   {
    "duration": 7,
    "start_time": "2024-04-16T13:14:42.297Z"
   },
   {
    "duration": 38,
    "start_time": "2024-04-16T13:14:42.704Z"
   },
   {
    "duration": 28,
    "start_time": "2024-04-16T13:14:44.323Z"
   },
   {
    "duration": 72,
    "start_time": "2024-04-16T13:14:45.983Z"
   },
   {
    "duration": 9,
    "start_time": "2024-04-16T13:14:50.471Z"
   },
   {
    "duration": 14,
    "start_time": "2024-04-16T13:14:52.661Z"
   },
   {
    "duration": 10,
    "start_time": "2024-04-16T13:15:03.293Z"
   },
   {
    "duration": 4,
    "start_time": "2024-04-16T13:15:12.310Z"
   },
   {
    "duration": 188,
    "start_time": "2024-04-16T13:15:12.340Z"
   },
   {
    "duration": 113,
    "start_time": "2024-04-16T13:15:12.531Z"
   },
   {
    "duration": 5,
    "start_time": "2024-04-16T13:15:12.646Z"
   },
   {
    "duration": 60,
    "start_time": "2024-04-16T13:15:12.674Z"
   },
   {
    "duration": 54,
    "start_time": "2024-04-16T13:15:12.749Z"
   },
   {
    "duration": 18,
    "start_time": "2024-04-16T13:15:12.805Z"
   },
   {
    "duration": 125,
    "start_time": "2024-04-16T13:15:12.954Z"
   },
   {
    "duration": 10,
    "start_time": "2024-04-16T13:15:13.081Z"
   },
   {
    "duration": 24,
    "start_time": "2024-04-16T13:15:13.092Z"
   },
   {
    "duration": 4,
    "start_time": "2024-04-16T13:15:13.386Z"
   },
   {
    "duration": 28,
    "start_time": "2024-04-16T13:15:13.513Z"
   },
   {
    "duration": 8,
    "start_time": "2024-04-16T13:15:13.693Z"
   },
   {
    "duration": 31,
    "start_time": "2024-04-16T13:15:13.816Z"
   },
   {
    "duration": 8,
    "start_time": "2024-04-16T13:15:13.946Z"
   },
   {
    "duration": 340,
    "start_time": "2024-04-16T13:15:14.070Z"
   },
   {
    "duration": 18,
    "start_time": "2024-04-16T13:15:14.412Z"
   },
   {
    "duration": 3,
    "start_time": "2024-04-16T13:15:14.432Z"
   },
   {
    "duration": 20,
    "start_time": "2024-04-16T13:15:14.800Z"
   },
   {
    "duration": 4,
    "start_time": "2024-04-16T13:15:15.320Z"
   },
   {
    "duration": 7,
    "start_time": "2024-04-16T13:15:15.414Z"
   },
   {
    "duration": 36,
    "start_time": "2024-04-16T13:15:15.531Z"
   },
   {
    "duration": 29,
    "start_time": "2024-04-16T13:15:17.315Z"
   },
   {
    "duration": 76,
    "start_time": "2024-04-16T13:15:18.443Z"
   },
   {
    "duration": 9,
    "start_time": "2024-04-16T13:15:20.128Z"
   },
   {
    "duration": 14,
    "start_time": "2024-04-16T13:15:20.636Z"
   },
   {
    "duration": 105,
    "start_time": "2024-04-16T13:15:24.096Z"
   },
   {
    "duration": 9,
    "start_time": "2024-04-16T13:15:38.678Z"
   },
   {
    "duration": 8,
    "start_time": "2024-04-16T13:16:06.324Z"
   },
   {
    "duration": 4,
    "start_time": "2024-04-16T13:16:24.691Z"
   },
   {
    "duration": 12,
    "start_time": "2024-04-16T13:16:30.659Z"
   },
   {
    "duration": 12,
    "start_time": "2024-04-16T13:16:38.217Z"
   },
   {
    "duration": 9,
    "start_time": "2024-04-16T13:16:45.863Z"
   },
   {
    "duration": 10,
    "start_time": "2024-04-16T13:16:53.812Z"
   },
   {
    "duration": 4,
    "start_time": "2024-04-16T13:16:58.366Z"
   },
   {
    "duration": 9,
    "start_time": "2024-04-16T13:17:08.250Z"
   },
   {
    "duration": 4,
    "start_time": "2024-04-16T13:17:35.325Z"
   },
   {
    "duration": 198,
    "start_time": "2024-04-16T13:17:35.827Z"
   },
   {
    "duration": 112,
    "start_time": "2024-04-16T13:17:36.027Z"
   },
   {
    "duration": 4,
    "start_time": "2024-04-16T13:17:36.395Z"
   },
   {
    "duration": 81,
    "start_time": "2024-04-16T13:17:36.401Z"
   },
   {
    "duration": 56,
    "start_time": "2024-04-16T13:17:36.484Z"
   },
   {
    "duration": 18,
    "start_time": "2024-04-16T13:17:36.541Z"
   },
   {
    "duration": 135,
    "start_time": "2024-04-16T13:17:36.581Z"
   },
   {
    "duration": 9,
    "start_time": "2024-04-16T13:17:36.718Z"
   },
   {
    "duration": 23,
    "start_time": "2024-04-16T13:17:36.729Z"
   },
   {
    "duration": 4,
    "start_time": "2024-04-16T13:17:36.879Z"
   },
   {
    "duration": 28,
    "start_time": "2024-04-16T13:17:37.000Z"
   },
   {
    "duration": 8,
    "start_time": "2024-04-16T13:17:37.219Z"
   },
   {
    "duration": 38,
    "start_time": "2024-04-16T13:17:37.405Z"
   },
   {
    "duration": 8,
    "start_time": "2024-04-16T13:17:37.554Z"
   },
   {
    "duration": 338,
    "start_time": "2024-04-16T13:17:37.649Z"
   },
   {
    "duration": 18,
    "start_time": "2024-04-16T13:17:37.989Z"
   },
   {
    "duration": 3,
    "start_time": "2024-04-16T13:17:38.009Z"
   },
   {
    "duration": 28,
    "start_time": "2024-04-16T13:17:38.014Z"
   },
   {
    "duration": 16,
    "start_time": "2024-04-16T13:17:38.044Z"
   },
   {
    "duration": 7,
    "start_time": "2024-04-16T13:17:38.141Z"
   },
   {
    "duration": 36,
    "start_time": "2024-04-16T13:17:38.275Z"
   },
   {
    "duration": 27,
    "start_time": "2024-04-16T13:17:38.477Z"
   },
   {
    "duration": 78,
    "start_time": "2024-04-16T13:17:38.600Z"
   },
   {
    "duration": 7,
    "start_time": "2024-04-16T13:17:43.872Z"
   },
   {
    "duration": 4,
    "start_time": "2024-04-16T13:17:44.966Z"
   },
   {
    "duration": 8,
    "start_time": "2024-04-16T13:17:45.419Z"
   },
   {
    "duration": 9,
    "start_time": "2024-04-16T13:17:52.589Z"
   },
   {
    "duration": 83,
    "start_time": "2024-04-16T13:18:48.343Z"
   },
   {
    "duration": 9,
    "start_time": "2024-04-16T13:18:52.639Z"
   },
   {
    "duration": 705,
    "start_time": "2024-04-16T13:19:17.528Z"
   },
   {
    "duration": 1381,
    "start_time": "2024-04-16T13:19:29.244Z"
   },
   {
    "duration": 1365,
    "start_time": "2024-04-16T13:19:35.462Z"
   },
   {
    "duration": 4,
    "start_time": "2024-04-16T13:19:44.859Z"
   },
   {
    "duration": 184,
    "start_time": "2024-04-16T13:19:45.372Z"
   },
   {
    "duration": 107,
    "start_time": "2024-04-16T13:19:45.558Z"
   },
   {
    "duration": 17,
    "start_time": "2024-04-16T13:19:45.667Z"
   },
   {
    "duration": 61,
    "start_time": "2024-04-16T13:19:45.706Z"
   },
   {
    "duration": 54,
    "start_time": "2024-04-16T13:19:45.771Z"
   },
   {
    "duration": 18,
    "start_time": "2024-04-16T13:19:45.858Z"
   },
   {
    "duration": 125,
    "start_time": "2024-04-16T13:19:46.006Z"
   },
   {
    "duration": 9,
    "start_time": "2024-04-16T13:19:46.133Z"
   },
   {
    "duration": 36,
    "start_time": "2024-04-16T13:19:46.144Z"
   },
   {
    "duration": 4,
    "start_time": "2024-04-16T13:19:46.417Z"
   },
   {
    "duration": 33,
    "start_time": "2024-04-16T13:19:46.549Z"
   },
   {
    "duration": 9,
    "start_time": "2024-04-16T13:19:46.666Z"
   },
   {
    "duration": 29,
    "start_time": "2024-04-16T13:19:46.819Z"
   },
   {
    "duration": 7,
    "start_time": "2024-04-16T13:19:46.989Z"
   },
   {
    "duration": 323,
    "start_time": "2024-04-16T13:19:47.098Z"
   },
   {
    "duration": 18,
    "start_time": "2024-04-16T13:19:47.423Z"
   },
   {
    "duration": 3,
    "start_time": "2024-04-16T13:19:47.443Z"
   },
   {
    "duration": 39,
    "start_time": "2024-04-16T13:19:47.447Z"
   },
   {
    "duration": 4,
    "start_time": "2024-04-16T13:19:47.488Z"
   },
   {
    "duration": 7,
    "start_time": "2024-04-16T13:19:47.594Z"
   },
   {
    "duration": 37,
    "start_time": "2024-04-16T13:19:47.713Z"
   },
   {
    "duration": 28,
    "start_time": "2024-04-16T13:19:47.914Z"
   },
   {
    "duration": 74,
    "start_time": "2024-04-16T13:19:48.054Z"
   },
   {
    "duration": 7,
    "start_time": "2024-04-16T13:19:48.184Z"
   },
   {
    "duration": 5,
    "start_time": "2024-04-16T13:19:48.239Z"
   },
   {
    "duration": 11,
    "start_time": "2024-04-16T13:19:48.302Z"
   },
   {
    "duration": 1387,
    "start_time": "2024-04-16T13:20:04.845Z"
   },
   {
    "duration": 4,
    "start_time": "2024-04-16T13:20:15.233Z"
   },
   {
    "duration": 190,
    "start_time": "2024-04-16T13:20:15.752Z"
   },
   {
    "duration": 120,
    "start_time": "2024-04-16T13:20:15.944Z"
   },
   {
    "duration": 15,
    "start_time": "2024-04-16T13:20:16.066Z"
   },
   {
    "duration": 67,
    "start_time": "2024-04-16T13:20:16.083Z"
   },
   {
    "duration": 66,
    "start_time": "2024-04-16T13:20:16.152Z"
   },
   {
    "duration": 18,
    "start_time": "2024-04-16T13:20:16.219Z"
   },
   {
    "duration": 126,
    "start_time": "2024-04-16T13:20:16.300Z"
   },
   {
    "duration": 9,
    "start_time": "2024-04-16T13:20:16.428Z"
   },
   {
    "duration": 41,
    "start_time": "2024-04-16T13:20:16.439Z"
   },
   {
    "duration": 4,
    "start_time": "2024-04-16T13:20:16.668Z"
   },
   {
    "duration": 33,
    "start_time": "2024-04-16T13:20:16.767Z"
   },
   {
    "duration": 10,
    "start_time": "2024-04-16T13:20:16.981Z"
   },
   {
    "duration": 31,
    "start_time": "2024-04-16T13:20:17.139Z"
   },
   {
    "duration": 7,
    "start_time": "2024-04-16T13:20:17.294Z"
   },
   {
    "duration": 315,
    "start_time": "2024-04-16T13:20:17.414Z"
   },
   {
    "duration": 17,
    "start_time": "2024-04-16T13:20:17.730Z"
   },
   {
    "duration": 3,
    "start_time": "2024-04-16T13:20:17.749Z"
   },
   {
    "duration": 43,
    "start_time": "2024-04-16T13:20:17.754Z"
   },
   {
    "duration": 4,
    "start_time": "2024-04-16T13:20:17.799Z"
   },
   {
    "duration": 15,
    "start_time": "2024-04-16T13:20:17.805Z"
   },
   {
    "duration": 36,
    "start_time": "2024-04-16T13:20:17.844Z"
   },
   {
    "duration": 28,
    "start_time": "2024-04-16T13:20:18.063Z"
   },
   {
    "duration": 83,
    "start_time": "2024-04-16T13:20:18.249Z"
   },
   {
    "duration": 7,
    "start_time": "2024-04-16T13:20:18.430Z"
   },
   {
    "duration": 4,
    "start_time": "2024-04-16T13:20:18.490Z"
   },
   {
    "duration": 665,
    "start_time": "2024-04-16T13:20:18.522Z"
   },
   {
    "duration": 1314,
    "start_time": "2024-04-16T13:20:26.750Z"
   },
   {
    "duration": 1337,
    "start_time": "2024-04-16T13:20:39.748Z"
   },
   {
    "duration": 9,
    "start_time": "2024-04-16T13:20:47.638Z"
   },
   {
    "duration": 1451,
    "start_time": "2024-04-16T13:21:06.768Z"
   },
   {
    "duration": 11,
    "start_time": "2024-04-16T13:21:15.965Z"
   },
   {
    "duration": 3,
    "start_time": "2024-04-16T13:21:24.891Z"
   },
   {
    "duration": 200,
    "start_time": "2024-04-16T13:21:24.916Z"
   },
   {
    "duration": 97,
    "start_time": "2024-04-16T13:21:25.159Z"
   },
   {
    "duration": 5,
    "start_time": "2024-04-16T13:21:25.258Z"
   },
   {
    "duration": 60,
    "start_time": "2024-04-16T13:21:25.290Z"
   },
   {
    "duration": 61,
    "start_time": "2024-04-16T13:21:25.353Z"
   },
   {
    "duration": 19,
    "start_time": "2024-04-16T13:21:25.416Z"
   },
   {
    "duration": 129,
    "start_time": "2024-04-16T13:21:25.595Z"
   },
   {
    "duration": 9,
    "start_time": "2024-04-16T13:21:25.727Z"
   },
   {
    "duration": 45,
    "start_time": "2024-04-16T13:21:25.738Z"
   },
   {
    "duration": 4,
    "start_time": "2024-04-16T13:21:25.992Z"
   },
   {
    "duration": 28,
    "start_time": "2024-04-16T13:21:26.120Z"
   },
   {
    "duration": 9,
    "start_time": "2024-04-16T13:21:26.336Z"
   },
   {
    "duration": 30,
    "start_time": "2024-04-16T13:21:26.519Z"
   },
   {
    "duration": 8,
    "start_time": "2024-04-16T13:21:26.710Z"
   },
   {
    "duration": 327,
    "start_time": "2024-04-16T13:21:26.834Z"
   },
   {
    "duration": 26,
    "start_time": "2024-04-16T13:21:27.163Z"
   },
   {
    "duration": 4,
    "start_time": "2024-04-16T13:21:27.190Z"
   },
   {
    "duration": 21,
    "start_time": "2024-04-16T13:21:27.196Z"
   },
   {
    "duration": 4,
    "start_time": "2024-04-16T13:21:27.219Z"
   },
   {
    "duration": 8,
    "start_time": "2024-04-16T13:21:27.321Z"
   },
   {
    "duration": 38,
    "start_time": "2024-04-16T13:21:27.414Z"
   },
   {
    "duration": 33,
    "start_time": "2024-04-16T13:21:27.565Z"
   },
   {
    "duration": 98,
    "start_time": "2024-04-16T13:21:27.973Z"
   },
   {
    "duration": 8,
    "start_time": "2024-04-16T13:21:29.364Z"
   },
   {
    "duration": 3,
    "start_time": "2024-04-16T13:21:29.884Z"
   },
   {
    "duration": 10,
    "start_time": "2024-04-16T13:21:30.107Z"
   },
   {
    "duration": 11,
    "start_time": "2024-04-16T13:21:35.915Z"
   },
   {
    "duration": 10,
    "start_time": "2024-04-16T13:22:06.470Z"
   },
   {
    "duration": 1347,
    "start_time": "2024-04-16T13:24:40.836Z"
   },
   {
    "duration": 3,
    "start_time": "2024-04-16T13:24:52.573Z"
   },
   {
    "duration": 186,
    "start_time": "2024-04-16T13:24:53.089Z"
   },
   {
    "duration": 185,
    "start_time": "2024-04-16T13:24:53.279Z"
   },
   {
    "duration": 16,
    "start_time": "2024-04-16T13:24:53.466Z"
   },
   {
    "duration": 63,
    "start_time": "2024-04-16T13:24:53.520Z"
   },
   {
    "duration": 54,
    "start_time": "2024-04-16T13:24:53.585Z"
   },
   {
    "duration": 33,
    "start_time": "2024-04-16T13:24:53.648Z"
   },
   {
    "duration": 132,
    "start_time": "2024-04-16T13:24:53.738Z"
   },
   {
    "duration": 15,
    "start_time": "2024-04-16T13:24:53.872Z"
   },
   {
    "duration": 39,
    "start_time": "2024-04-16T13:24:53.889Z"
   },
   {
    "duration": 5,
    "start_time": "2024-04-16T13:24:54.168Z"
   },
   {
    "duration": 28,
    "start_time": "2024-04-16T13:24:54.297Z"
   },
   {
    "duration": 11,
    "start_time": "2024-04-16T13:24:54.478Z"
   },
   {
    "duration": 29,
    "start_time": "2024-04-16T13:24:54.637Z"
   },
   {
    "duration": 8,
    "start_time": "2024-04-16T13:24:54.794Z"
   },
   {
    "duration": 329,
    "start_time": "2024-04-16T13:24:54.917Z"
   },
   {
    "duration": 19,
    "start_time": "2024-04-16T13:24:55.248Z"
   },
   {
    "duration": 5,
    "start_time": "2024-04-16T13:24:55.284Z"
   },
   {
    "duration": 42,
    "start_time": "2024-04-16T13:24:55.292Z"
   },
   {
    "duration": 21,
    "start_time": "2024-04-16T13:24:55.335Z"
   },
   {
    "duration": 32,
    "start_time": "2024-04-16T13:24:55.358Z"
   },
   {
    "duration": 37,
    "start_time": "2024-04-16T13:24:55.438Z"
   },
   {
    "duration": 35,
    "start_time": "2024-04-16T13:24:55.682Z"
   },
   {
    "duration": 72,
    "start_time": "2024-04-16T13:24:55.836Z"
   },
   {
    "duration": 7,
    "start_time": "2024-04-16T13:24:56.571Z"
   },
   {
    "duration": 4,
    "start_time": "2024-04-16T13:24:56.761Z"
   },
   {
    "duration": 9,
    "start_time": "2024-04-16T13:24:57.246Z"
   },
   {
    "duration": 10,
    "start_time": "2024-04-16T13:24:58.527Z"
   },
   {
    "duration": 1389,
    "start_time": "2024-04-16T13:25:04.950Z"
   },
   {
    "duration": 1388,
    "start_time": "2024-04-16T13:25:12.235Z"
   },
   {
    "duration": 3,
    "start_time": "2024-04-16T13:25:19.639Z"
   },
   {
    "duration": 188,
    "start_time": "2024-04-16T13:25:20.147Z"
   },
   {
    "duration": 105,
    "start_time": "2024-04-16T13:25:20.337Z"
   },
   {
    "duration": 5,
    "start_time": "2024-04-16T13:25:20.447Z"
   },
   {
    "duration": 63,
    "start_time": "2024-04-16T13:25:20.636Z"
   },
   {
    "duration": 53,
    "start_time": "2024-04-16T13:25:20.701Z"
   },
   {
    "duration": 25,
    "start_time": "2024-04-16T13:25:20.757Z"
   },
   {
    "duration": 138,
    "start_time": "2024-04-16T13:25:20.884Z"
   },
   {
    "duration": 9,
    "start_time": "2024-04-16T13:25:21.024Z"
   },
   {
    "duration": 62,
    "start_time": "2024-04-16T13:25:21.035Z"
   },
   {
    "duration": 4,
    "start_time": "2024-04-16T13:25:21.218Z"
   },
   {
    "duration": 29,
    "start_time": "2024-04-16T13:25:21.340Z"
   },
   {
    "duration": 7,
    "start_time": "2024-04-16T13:25:21.589Z"
   },
   {
    "duration": 31,
    "start_time": "2024-04-16T13:25:21.774Z"
   },
   {
    "duration": 7,
    "start_time": "2024-04-16T13:25:21.896Z"
   },
   {
    "duration": 349,
    "start_time": "2024-04-16T13:25:21.962Z"
   },
   {
    "duration": 16,
    "start_time": "2024-04-16T13:25:22.313Z"
   },
   {
    "duration": 3,
    "start_time": "2024-04-16T13:25:22.331Z"
   },
   {
    "duration": 23,
    "start_time": "2024-04-16T13:25:22.336Z"
   },
   {
    "duration": 4,
    "start_time": "2024-04-16T13:25:22.380Z"
   },
   {
    "duration": 6,
    "start_time": "2024-04-16T13:25:22.423Z"
   },
   {
    "duration": 37,
    "start_time": "2024-04-16T13:25:22.546Z"
   },
   {
    "duration": 27,
    "start_time": "2024-04-16T13:25:22.798Z"
   },
   {
    "duration": 74,
    "start_time": "2024-04-16T13:25:23.651Z"
   },
   {
    "duration": 10,
    "start_time": "2024-04-16T13:25:24.469Z"
   },
   {
    "duration": 5,
    "start_time": "2024-04-16T13:25:24.760Z"
   },
   {
    "duration": 8,
    "start_time": "2024-04-16T13:25:25.132Z"
   },
   {
    "duration": 1465,
    "start_time": "2024-04-16T13:28:07.446Z"
   },
   {
    "duration": 4,
    "start_time": "2024-04-16T13:28:20.440Z"
   },
   {
    "duration": 3,
    "start_time": "2024-04-16T13:28:37.942Z"
   },
   {
    "duration": 6,
    "start_time": "2024-04-16T13:28:45.097Z"
   },
   {
    "duration": 11,
    "start_time": "2024-04-16T13:30:49.417Z"
   },
   {
    "duration": 11,
    "start_time": "2024-04-16T13:31:47.487Z"
   },
   {
    "duration": 11,
    "start_time": "2024-04-16T13:31:51.518Z"
   },
   {
    "duration": 4,
    "start_time": "2024-04-16T13:31:58.358Z"
   },
   {
    "duration": 6,
    "start_time": "2024-04-16T13:32:01.387Z"
   },
   {
    "duration": 10,
    "start_time": "2024-04-16T13:32:32.198Z"
   },
   {
    "duration": 10,
    "start_time": "2024-04-16T13:32:39.570Z"
   },
   {
    "duration": 11,
    "start_time": "2024-04-16T13:33:23.277Z"
   },
   {
    "duration": 12,
    "start_time": "2024-04-16T13:33:34.189Z"
   },
   {
    "duration": 5,
    "start_time": "2024-04-16T13:34:03.789Z"
   },
   {
    "duration": 11,
    "start_time": "2024-04-16T13:36:54.434Z"
   },
   {
    "duration": 16,
    "start_time": "2024-04-16T13:37:30.152Z"
   },
   {
    "duration": 120,
    "start_time": "2024-04-16T13:37:52.975Z"
   },
   {
    "duration": 80,
    "start_time": "2024-04-16T13:43:13.809Z"
   },
   {
    "duration": 69,
    "start_time": "2024-04-16T13:44:07.699Z"
   },
   {
    "duration": 70,
    "start_time": "2024-04-16T13:44:33.650Z"
   },
   {
    "duration": 66,
    "start_time": "2024-04-16T13:44:43.640Z"
   },
   {
    "duration": 100,
    "start_time": "2024-04-16T13:45:20.290Z"
   },
   {
    "duration": 68,
    "start_time": "2024-04-16T13:45:26.837Z"
   },
   {
    "duration": 71,
    "start_time": "2024-04-16T13:50:04.196Z"
   },
   {
    "duration": 65,
    "start_time": "2024-04-16T13:50:29.044Z"
   },
   {
    "duration": 73,
    "start_time": "2024-04-16T13:51:32.047Z"
   },
   {
    "duration": 68,
    "start_time": "2024-04-16T13:51:43.373Z"
   },
   {
    "duration": 67,
    "start_time": "2024-04-16T13:51:54.956Z"
   },
   {
    "duration": 68,
    "start_time": "2024-04-16T13:52:13.413Z"
   },
   {
    "duration": 72,
    "start_time": "2024-04-16T13:54:10.227Z"
   },
   {
    "duration": 1389,
    "start_time": "2024-04-16T13:54:28.310Z"
   },
   {
    "duration": 66,
    "start_time": "2024-04-16T13:54:37.013Z"
   },
   {
    "duration": 1370,
    "start_time": "2024-04-16T13:55:04.858Z"
   },
   {
    "duration": 73,
    "start_time": "2024-04-16T13:55:11.690Z"
   },
   {
    "duration": 10,
    "start_time": "2024-04-16T13:55:12.422Z"
   },
   {
    "duration": 10,
    "start_time": "2024-04-16T13:55:28.717Z"
   },
   {
    "duration": 8,
    "start_time": "2024-04-16T13:55:37.035Z"
   },
   {
    "duration": 9,
    "start_time": "2024-04-16T13:56:02.642Z"
   },
   {
    "duration": 10,
    "start_time": "2024-04-16T13:56:29.832Z"
   },
   {
    "duration": 9,
    "start_time": "2024-04-16T13:56:32.013Z"
   },
   {
    "duration": 4,
    "start_time": "2024-04-16T13:56:36.880Z"
   },
   {
    "duration": 8,
    "start_time": "2024-04-16T13:56:38.112Z"
   },
   {
    "duration": 4,
    "start_time": "2024-04-16T13:56:44.149Z"
   },
   {
    "duration": 9,
    "start_time": "2024-04-16T13:56:47.099Z"
   },
   {
    "duration": 69,
    "start_time": "2024-04-16T13:56:54.887Z"
   },
   {
    "duration": 16,
    "start_time": "2024-04-16T13:56:55.753Z"
   },
   {
    "duration": 13,
    "start_time": "2024-04-16T13:57:56.721Z"
   },
   {
    "duration": 11,
    "start_time": "2024-04-16T13:58:30.521Z"
   },
   {
    "duration": 14,
    "start_time": "2024-04-16T14:03:21.949Z"
   },
   {
    "duration": 172,
    "start_time": "2024-04-16T14:03:51.159Z"
   },
   {
    "duration": 4,
    "start_time": "2024-04-16T14:04:15.965Z"
   },
   {
    "duration": 4,
    "start_time": "2024-04-16T14:04:32.467Z"
   },
   {
    "duration": 10,
    "start_time": "2024-04-16T14:04:39.310Z"
   },
   {
    "duration": 5,
    "start_time": "2024-04-16T14:05:24.430Z"
   },
   {
    "duration": 4,
    "start_time": "2024-04-16T14:05:53.710Z"
   },
   {
    "duration": 80,
    "start_time": "2024-04-16T14:06:36.791Z"
   },
   {
    "duration": 1291,
    "start_time": "2024-04-16T14:07:38.898Z"
   },
   {
    "duration": 4,
    "start_time": "2024-04-16T14:07:44.979Z"
   },
   {
    "duration": 168,
    "start_time": "2024-04-16T14:07:50.341Z"
   },
   {
    "duration": 191,
    "start_time": "2024-04-16T14:09:52.061Z"
   },
   {
    "duration": 4,
    "start_time": "2024-04-16T14:11:06.729Z"
   },
   {
    "duration": 4,
    "start_time": "2024-04-16T14:11:09.585Z"
   },
   {
    "duration": 184,
    "start_time": "2024-04-16T14:11:09.734Z"
   },
   {
    "duration": 4,
    "start_time": "2024-04-16T14:11:09.995Z"
   },
   {
    "duration": 184,
    "start_time": "2024-04-16T14:11:25.767Z"
   },
   {
    "duration": 209,
    "start_time": "2024-04-16T14:11:36.705Z"
   },
   {
    "duration": 190,
    "start_time": "2024-04-16T14:13:43.817Z"
   },
   {
    "duration": 304,
    "start_time": "2024-04-16T14:14:01.300Z"
   },
   {
    "duration": 188,
    "start_time": "2024-04-16T14:14:59.109Z"
   },
   {
    "duration": 183,
    "start_time": "2024-04-16T14:15:19.952Z"
   },
   {
    "duration": 183,
    "start_time": "2024-04-16T14:15:27.532Z"
   },
   {
    "duration": 190,
    "start_time": "2024-04-16T14:15:32.604Z"
   },
   {
    "duration": 189,
    "start_time": "2024-04-16T14:15:42.087Z"
   },
   {
    "duration": 181,
    "start_time": "2024-04-16T14:15:49.668Z"
   },
   {
    "duration": 203,
    "start_time": "2024-04-16T14:15:59.678Z"
   },
   {
    "duration": 9,
    "start_time": "2024-04-16T14:18:48.437Z"
   },
   {
    "duration": 1282,
    "start_time": "2024-04-16T14:18:55.547Z"
   },
   {
    "duration": 1351,
    "start_time": "2024-04-16T14:19:10.833Z"
   },
   {
    "duration": 1294,
    "start_time": "2024-04-16T14:19:36.729Z"
   },
   {
    "duration": 6,
    "start_time": "2024-04-16T14:20:01.831Z"
   },
   {
    "duration": 5,
    "start_time": "2024-04-16T14:20:08.112Z"
   },
   {
    "duration": 6,
    "start_time": "2024-04-16T14:20:19.597Z"
   },
   {
    "duration": 3,
    "start_time": "2024-04-16T14:24:38.055Z"
   },
   {
    "duration": 5,
    "start_time": "2024-04-16T14:24:48.658Z"
   },
   {
    "duration": 3,
    "start_time": "2024-04-16T14:24:57.125Z"
   },
   {
    "duration": 3,
    "start_time": "2024-04-16T14:25:03.068Z"
   },
   {
    "duration": 5,
    "start_time": "2024-04-16T14:25:03.938Z"
   },
   {
    "duration": 82,
    "start_time": "2024-04-16T14:25:11.758Z"
   },
   {
    "duration": 4,
    "start_time": "2024-04-16T14:25:12.075Z"
   },
   {
    "duration": 4,
    "start_time": "2024-04-16T14:25:18.063Z"
   },
   {
    "duration": 4,
    "start_time": "2024-04-16T14:25:20.848Z"
   },
   {
    "duration": 4,
    "start_time": "2024-04-16T14:25:45.207Z"
   },
   {
    "duration": 4,
    "start_time": "2024-04-16T14:25:45.852Z"
   },
   {
    "duration": 112,
    "start_time": "2024-04-16T14:26:17.113Z"
   },
   {
    "duration": 104,
    "start_time": "2024-04-16T14:26:23.564Z"
   },
   {
    "duration": 330,
    "start_time": "2024-04-16T14:26:26.919Z"
   },
   {
    "duration": 0,
    "start_time": "2024-04-16T14:26:27.252Z"
   },
   {
    "duration": 0,
    "start_time": "2024-04-16T14:26:27.253Z"
   },
   {
    "duration": 0,
    "start_time": "2024-04-16T14:26:27.255Z"
   },
   {
    "duration": 133,
    "start_time": "2024-04-16T14:26:27.361Z"
   },
   {
    "duration": 9,
    "start_time": "2024-04-16T14:26:27.496Z"
   },
   {
    "duration": 29,
    "start_time": "2024-04-16T14:26:27.507Z"
   },
   {
    "duration": 4,
    "start_time": "2024-04-16T14:26:27.779Z"
   },
   {
    "duration": 26,
    "start_time": "2024-04-16T14:26:27.907Z"
   },
   {
    "duration": 8,
    "start_time": "2024-04-16T14:26:28.147Z"
   },
   {
    "duration": 29,
    "start_time": "2024-04-16T14:26:28.310Z"
   },
   {
    "duration": 7,
    "start_time": "2024-04-16T14:26:28.467Z"
   },
   {
    "duration": 377,
    "start_time": "2024-04-16T14:26:28.556Z"
   },
   {
    "duration": 19,
    "start_time": "2024-04-16T14:26:28.935Z"
   },
   {
    "duration": 3,
    "start_time": "2024-04-16T14:26:28.956Z"
   },
   {
    "duration": 39,
    "start_time": "2024-04-16T14:26:28.961Z"
   },
   {
    "duration": 4,
    "start_time": "2024-04-16T14:26:29.002Z"
   },
   {
    "duration": 7,
    "start_time": "2024-04-16T14:26:29.043Z"
   },
   {
    "duration": 36,
    "start_time": "2024-04-16T14:26:29.172Z"
   },
   {
    "duration": 27,
    "start_time": "2024-04-16T14:26:29.351Z"
   },
   {
    "duration": 82,
    "start_time": "2024-04-16T14:26:29.504Z"
   },
   {
    "duration": 9,
    "start_time": "2024-04-16T14:26:29.588Z"
   },
   {
    "duration": 10,
    "start_time": "2024-04-16T14:26:29.788Z"
   },
   {
    "duration": 4,
    "start_time": "2024-04-16T14:26:30.135Z"
   },
   {
    "duration": 56,
    "start_time": "2024-04-16T14:26:30.140Z"
   },
   {
    "duration": 265,
    "start_time": "2024-04-16T14:26:30.197Z"
   },
   {
    "duration": 38,
    "start_time": "2024-04-16T14:26:30.464Z"
   },
   {
    "duration": 164,
    "start_time": "2024-04-16T14:26:30.504Z"
   },
   {
    "duration": 6,
    "start_time": "2024-04-16T14:26:36.863Z"
   },
   {
    "duration": 325,
    "start_time": "2024-04-16T14:26:52.274Z"
   },
   {
    "duration": 4,
    "start_time": "2024-04-16T14:27:27.286Z"
   },
   {
    "duration": 185,
    "start_time": "2024-04-16T14:27:27.644Z"
   },
   {
    "duration": 90,
    "start_time": "2024-04-16T14:27:28.017Z"
   },
   {
    "duration": 5,
    "start_time": "2024-04-16T14:27:31.046Z"
   },
   {
    "duration": 70,
    "start_time": "2024-04-16T14:27:32.740Z"
   },
   {
    "duration": 54,
    "start_time": "2024-04-16T14:27:33.373Z"
   },
   {
    "duration": 18,
    "start_time": "2024-04-16T14:27:33.687Z"
   },
   {
    "duration": 125,
    "start_time": "2024-04-16T14:27:34.647Z"
   },
   {
    "duration": 10,
    "start_time": "2024-04-16T14:27:34.903Z"
   },
   {
    "duration": 23,
    "start_time": "2024-04-16T14:27:35.209Z"
   },
   {
    "duration": 3,
    "start_time": "2024-04-16T14:27:37.076Z"
   },
   {
    "duration": 27,
    "start_time": "2024-04-16T14:27:37.676Z"
   },
   {
    "duration": 10,
    "start_time": "2024-04-16T14:27:39.983Z"
   },
   {
    "duration": 27,
    "start_time": "2024-04-16T14:27:41.584Z"
   },
   {
    "duration": 8,
    "start_time": "2024-04-16T14:27:42.535Z"
   },
   {
    "duration": 370,
    "start_time": "2024-04-16T14:27:43.003Z"
   },
   {
    "duration": 16,
    "start_time": "2024-04-16T14:27:43.761Z"
   },
   {
    "duration": 3,
    "start_time": "2024-04-16T14:27:44.619Z"
   },
   {
    "duration": 22,
    "start_time": "2024-04-16T14:27:44.934Z"
   },
   {
    "duration": 4,
    "start_time": "2024-04-16T14:27:45.623Z"
   },
   {
    "duration": 7,
    "start_time": "2024-04-16T14:27:46.125Z"
   },
   {
    "duration": 35,
    "start_time": "2024-04-16T14:27:46.928Z"
   },
   {
    "duration": 37,
    "start_time": "2024-04-16T14:27:52.861Z"
   },
   {
    "duration": 27,
    "start_time": "2024-04-16T14:27:53.589Z"
   },
   {
    "duration": 89,
    "start_time": "2024-04-16T14:27:55.383Z"
   },
   {
    "duration": 10,
    "start_time": "2024-04-16T14:27:55.508Z"
   },
   {
    "duration": 10,
    "start_time": "2024-04-16T14:27:58.008Z"
   },
   {
    "duration": 4,
    "start_time": "2024-04-16T14:28:00.493Z"
   },
   {
    "duration": 5,
    "start_time": "2024-04-16T14:28:01.592Z"
   },
   {
    "duration": 4,
    "start_time": "2024-04-16T14:28:05.905Z"
   },
   {
    "duration": 221,
    "start_time": "2024-04-16T14:28:06.382Z"
   },
   {
    "duration": 4,
    "start_time": "2024-04-16T14:28:12.344Z"
   },
   {
    "duration": 4,
    "start_time": "2024-04-16T14:28:12.794Z"
   },
   {
    "duration": 2,
    "start_time": "2024-04-16T14:29:30.454Z"
   },
   {
    "duration": 9,
    "start_time": "2024-04-16T14:32:27.588Z"
   },
   {
    "duration": 13,
    "start_time": "2024-04-16T14:32:30.355Z"
   },
   {
    "duration": 8,
    "start_time": "2024-04-16T14:32:54.434Z"
   },
   {
    "duration": 38,
    "start_time": "2024-04-16T14:33:15.319Z"
   },
   {
    "duration": 36,
    "start_time": "2024-04-16T14:33:49.631Z"
   },
   {
    "duration": 216,
    "start_time": "2024-04-16T14:36:50.452Z"
   },
   {
    "duration": 3,
    "start_time": "2024-04-16T14:36:53.932Z"
   },
   {
    "duration": 4,
    "start_time": "2024-04-16T14:36:54.904Z"
   },
   {
    "duration": 40,
    "start_time": "2024-04-16T14:42:53.267Z"
   },
   {
    "duration": 20,
    "start_time": "2024-04-16T14:45:03.315Z"
   },
   {
    "duration": 32,
    "start_time": "2024-04-16T14:45:17.865Z"
   },
   {
    "duration": 7,
    "start_time": "2024-04-16T14:45:24.244Z"
   },
   {
    "duration": 7,
    "start_time": "2024-04-16T14:45:37.904Z"
   },
   {
    "duration": 17,
    "start_time": "2024-04-16T14:45:40.055Z"
   },
   {
    "duration": 4,
    "start_time": "2024-04-16T14:45:57.116Z"
   },
   {
    "duration": 196,
    "start_time": "2024-04-16T14:45:57.171Z"
   },
   {
    "duration": 105,
    "start_time": "2024-04-16T14:45:57.589Z"
   },
   {
    "duration": 6,
    "start_time": "2024-04-16T14:45:57.696Z"
   },
   {
    "duration": 91,
    "start_time": "2024-04-16T14:45:57.705Z"
   },
   {
    "duration": 47,
    "start_time": "2024-04-16T14:45:57.798Z"
   },
   {
    "duration": 34,
    "start_time": "2024-04-16T14:45:57.847Z"
   },
   {
    "duration": 118,
    "start_time": "2024-04-16T14:45:57.970Z"
   },
   {
    "duration": 10,
    "start_time": "2024-04-16T14:45:58.090Z"
   },
   {
    "duration": 26,
    "start_time": "2024-04-16T14:45:58.102Z"
   },
   {
    "duration": 4,
    "start_time": "2024-04-16T14:45:58.406Z"
   },
   {
    "duration": 27,
    "start_time": "2024-04-16T14:45:58.531Z"
   },
   {
    "duration": 9,
    "start_time": "2024-04-16T14:45:58.739Z"
   },
   {
    "duration": 27,
    "start_time": "2024-04-16T14:45:58.924Z"
   },
   {
    "duration": 8,
    "start_time": "2024-04-16T14:45:59.115Z"
   },
   {
    "duration": 312,
    "start_time": "2024-04-16T14:45:59.245Z"
   },
   {
    "duration": 25,
    "start_time": "2024-04-16T14:45:59.559Z"
   },
   {
    "duration": 3,
    "start_time": "2024-04-16T14:45:59.865Z"
   },
   {
    "duration": 21,
    "start_time": "2024-04-16T14:46:00.081Z"
   },
   {
    "duration": 5,
    "start_time": "2024-04-16T14:46:00.517Z"
   },
   {
    "duration": 7,
    "start_time": "2024-04-16T14:46:01.278Z"
   },
   {
    "duration": 39,
    "start_time": "2024-04-16T14:46:01.740Z"
   },
   {
    "duration": 39,
    "start_time": "2024-04-16T14:46:02.461Z"
   },
   {
    "duration": 92,
    "start_time": "2024-04-16T14:46:03.354Z"
   },
   {
    "duration": 12,
    "start_time": "2024-04-16T14:46:03.971Z"
   },
   {
    "duration": 9,
    "start_time": "2024-04-16T14:46:05.843Z"
   },
   {
    "duration": 4,
    "start_time": "2024-04-16T14:46:07.830Z"
   },
   {
    "duration": 4,
    "start_time": "2024-04-16T14:46:10.847Z"
   },
   {
    "duration": 187,
    "start_time": "2024-04-16T14:46:12.203Z"
   },
   {
    "duration": 3,
    "start_time": "2024-04-16T14:46:14.833Z"
   },
   {
    "duration": 3,
    "start_time": "2024-04-16T14:46:15.045Z"
   },
   {
    "duration": 50,
    "start_time": "2024-04-16T14:46:16.395Z"
   },
   {
    "duration": 25,
    "start_time": "2024-04-16T14:46:18.502Z"
   },
   {
    "duration": 17,
    "start_time": "2024-04-16T14:47:23.508Z"
   },
   {
    "duration": 40,
    "start_time": "2024-04-16T14:48:01.268Z"
   },
   {
    "duration": 17,
    "start_time": "2024-04-16T14:48:08.146Z"
   },
   {
    "duration": 3,
    "start_time": "2024-04-16T14:50:48.363Z"
   },
   {
    "duration": 91,
    "start_time": "2024-04-16T14:51:20.497Z"
   },
   {
    "duration": 8,
    "start_time": "2024-04-16T14:51:26.491Z"
   },
   {
    "duration": 16,
    "start_time": "2024-04-16T14:51:27.346Z"
   },
   {
    "duration": 17,
    "start_time": "2024-04-16T14:51:49.740Z"
   },
   {
    "duration": 12,
    "start_time": "2024-04-16T14:52:08.080Z"
   },
   {
    "duration": 3,
    "start_time": "2024-04-16T14:52:26.410Z"
   },
   {
    "duration": 0,
    "start_time": "2024-04-16T14:52:42.329Z"
   },
   {
    "duration": 9646,
    "start_time": "2024-04-16T14:53:07.134Z"
   },
   {
    "duration": 0,
    "start_time": "2024-04-16T14:53:16.782Z"
   },
   {
    "duration": 0,
    "start_time": "2024-04-16T14:53:16.783Z"
   },
   {
    "duration": 0,
    "start_time": "2024-04-16T14:53:16.784Z"
   },
   {
    "duration": 0,
    "start_time": "2024-04-16T14:53:16.785Z"
   },
   {
    "duration": 0,
    "start_time": "2024-04-16T14:53:16.786Z"
   },
   {
    "duration": 0,
    "start_time": "2024-04-16T14:53:16.787Z"
   },
   {
    "duration": 0,
    "start_time": "2024-04-16T14:53:16.789Z"
   },
   {
    "duration": 0,
    "start_time": "2024-04-16T14:53:16.790Z"
   },
   {
    "duration": 0,
    "start_time": "2024-04-16T14:53:16.791Z"
   },
   {
    "duration": 0,
    "start_time": "2024-04-16T14:53:16.792Z"
   },
   {
    "duration": 0,
    "start_time": "2024-04-16T14:53:16.793Z"
   },
   {
    "duration": 0,
    "start_time": "2024-04-16T14:53:16.794Z"
   },
   {
    "duration": 9,
    "start_time": "2024-04-16T14:53:16.796Z"
   },
   {
    "duration": 31,
    "start_time": "2024-04-16T14:53:16.913Z"
   },
   {
    "duration": 8,
    "start_time": "2024-04-16T14:53:17.070Z"
   },
   {
    "duration": 338,
    "start_time": "2024-04-16T14:53:17.206Z"
   },
   {
    "duration": 14,
    "start_time": "2024-04-16T14:53:17.545Z"
   },
   {
    "duration": 3,
    "start_time": "2024-04-16T14:53:17.561Z"
   },
   {
    "duration": 20,
    "start_time": "2024-04-16T14:53:17.581Z"
   },
   {
    "duration": 4,
    "start_time": "2024-04-16T14:53:17.602Z"
   },
   {
    "duration": 7,
    "start_time": "2024-04-16T14:53:17.687Z"
   },
   {
    "duration": 37,
    "start_time": "2024-04-16T14:53:17.814Z"
   },
   {
    "duration": 27,
    "start_time": "2024-04-16T14:53:18.057Z"
   },
   {
    "duration": 78,
    "start_time": "2024-04-16T14:53:18.187Z"
   },
   {
    "duration": 13,
    "start_time": "2024-04-16T14:53:18.267Z"
   },
   {
    "duration": 10,
    "start_time": "2024-04-16T14:53:18.461Z"
   },
   {
    "duration": 4,
    "start_time": "2024-04-16T14:53:19.568Z"
   },
   {
    "duration": 4,
    "start_time": "2024-04-16T14:53:19.758Z"
   },
   {
    "duration": 192,
    "start_time": "2024-04-16T14:53:19.979Z"
   },
   {
    "duration": 4,
    "start_time": "2024-04-16T14:53:21.096Z"
   },
   {
    "duration": 8,
    "start_time": "2024-04-16T14:53:21.290Z"
   },
   {
    "duration": 36,
    "start_time": "2024-04-16T14:53:21.899Z"
   },
   {
    "duration": 18,
    "start_time": "2024-04-16T14:53:23.007Z"
   },
   {
    "duration": 9380,
    "start_time": "2024-04-16T14:53:24.042Z"
   },
   {
    "duration": 9246,
    "start_time": "2024-04-16T14:53:38.904Z"
   },
   {
    "duration": 16,
    "start_time": "2024-04-16T14:54:05.324Z"
   },
   {
    "duration": 16,
    "start_time": "2024-04-16T14:54:28.816Z"
   },
   {
    "duration": 5,
    "start_time": "2024-04-16T14:54:29.295Z"
   },
   {
    "duration": 16,
    "start_time": "2024-04-16T14:54:35.749Z"
   },
   {
    "duration": 6,
    "start_time": "2024-04-16T14:54:36.236Z"
   },
   {
    "duration": 8,
    "start_time": "2024-04-16T14:54:39.157Z"
   },
   {
    "duration": 8,
    "start_time": "2024-04-16T14:55:01.135Z"
   },
   {
    "duration": 6,
    "start_time": "2024-04-16T14:55:06.883Z"
   },
   {
    "duration": 6,
    "start_time": "2024-04-16T14:55:19.780Z"
   },
   {
    "duration": 16,
    "start_time": "2024-04-16T14:55:24.182Z"
   },
   {
    "duration": 13,
    "start_time": "2024-04-16T14:55:25.709Z"
   },
   {
    "duration": 18,
    "start_time": "2024-04-16T14:55:37.907Z"
   },
   {
    "duration": 0,
    "start_time": "2024-04-16T14:55:47.911Z"
   },
   {
    "duration": 16,
    "start_time": "2024-04-16T14:56:44.442Z"
   },
   {
    "duration": 16,
    "start_time": "2024-04-16T14:56:48.492Z"
   },
   {
    "duration": 17,
    "start_time": "2024-04-16T14:57:01.627Z"
   },
   {
    "duration": 6,
    "start_time": "2024-04-16T14:57:04.730Z"
   },
   {
    "duration": 5,
    "start_time": "2024-04-16T14:58:21.066Z"
   },
   {
    "duration": 4,
    "start_time": "2024-04-16T14:58:34.772Z"
   },
   {
    "duration": 5,
    "start_time": "2024-04-16T14:58:47.747Z"
   },
   {
    "duration": 5,
    "start_time": "2024-04-16T14:59:00.513Z"
   },
   {
    "duration": 6,
    "start_time": "2024-04-16T14:59:33.969Z"
   },
   {
    "duration": 16,
    "start_time": "2024-04-16T14:59:36.385Z"
   },
   {
    "duration": 14,
    "start_time": "2024-04-16T14:59:36.614Z"
   },
   {
    "duration": 42,
    "start_time": "2024-04-16T15:00:35.251Z"
   },
   {
    "duration": 5,
    "start_time": "2024-04-16T15:00:35.725Z"
   },
   {
    "duration": 1396,
    "start_time": "2024-04-16T15:01:09.035Z"
   },
   {
    "duration": 33,
    "start_time": "2024-04-16T15:01:51.521Z"
   },
   {
    "duration": 5,
    "start_time": "2024-04-16T15:01:53.493Z"
   },
   {
    "duration": 5,
    "start_time": "2024-04-16T15:01:58.473Z"
   },
   {
    "duration": 4,
    "start_time": "2024-04-16T15:01:59.416Z"
   },
   {
    "duration": 5,
    "start_time": "2024-04-16T15:02:07.807Z"
   },
   {
    "duration": 33,
    "start_time": "2024-04-16T15:02:45.490Z"
   },
   {
    "duration": 6,
    "start_time": "2024-04-16T15:02:46.137Z"
   },
   {
    "duration": 4,
    "start_time": "2024-04-16T15:02:51.019Z"
   },
   {
    "duration": 4,
    "start_time": "2024-04-16T15:02:51.764Z"
   },
   {
    "duration": 4,
    "start_time": "2024-04-16T15:05:02.840Z"
   },
   {
    "duration": 4,
    "start_time": "2024-04-16T15:05:13.481Z"
   },
   {
    "duration": 4,
    "start_time": "2024-04-16T15:05:18.924Z"
   },
   {
    "duration": 4,
    "start_time": "2024-04-16T15:05:27.384Z"
   },
   {
    "duration": 4,
    "start_time": "2024-04-16T15:05:51.397Z"
   },
   {
    "duration": 4,
    "start_time": "2024-04-16T15:06:08.298Z"
   },
   {
    "duration": 4,
    "start_time": "2024-04-16T15:06:09.529Z"
   },
   {
    "duration": 88,
    "start_time": "2024-04-16T15:06:50.931Z"
   },
   {
    "duration": 4,
    "start_time": "2024-04-16T15:06:57.830Z"
   },
   {
    "duration": 5,
    "start_time": "2024-04-16T15:07:19.126Z"
   },
   {
    "duration": 4,
    "start_time": "2024-04-16T15:08:15.638Z"
   },
   {
    "duration": 83,
    "start_time": "2024-04-16T15:08:30.264Z"
   },
   {
    "duration": 4,
    "start_time": "2024-04-16T15:08:41.156Z"
   },
   {
    "duration": 5,
    "start_time": "2024-04-16T15:08:48.981Z"
   },
   {
    "duration": 4,
    "start_time": "2024-04-16T15:08:54.180Z"
   },
   {
    "duration": 4,
    "start_time": "2024-04-16T15:09:06.604Z"
   },
   {
    "duration": 5,
    "start_time": "2024-04-16T15:10:57.564Z"
   },
   {
    "duration": 4,
    "start_time": "2024-04-16T19:08:10.063Z"
   },
   {
    "duration": 184,
    "start_time": "2024-04-16T19:08:10.556Z"
   },
   {
    "duration": 86,
    "start_time": "2024-04-16T19:08:11.213Z"
   },
   {
    "duration": 78,
    "start_time": "2024-04-16T19:13:49.845Z"
   },
   {
    "duration": 11,
    "start_time": "2024-04-16T19:13:54.644Z"
   },
   {
    "duration": 3,
    "start_time": "2024-04-16T19:13:59.795Z"
   },
   {
    "duration": 174,
    "start_time": "2024-04-16T19:14:00.210Z"
   },
   {
    "duration": 98,
    "start_time": "2024-04-16T19:14:00.618Z"
   },
   {
    "duration": 9,
    "start_time": "2024-04-16T19:14:02.650Z"
   },
   {
    "duration": 4,
    "start_time": "2024-04-16T19:14:30.075Z"
   },
   {
    "duration": 165,
    "start_time": "2024-04-16T19:14:30.867Z"
   },
   {
    "duration": 89,
    "start_time": "2024-04-16T19:14:31.081Z"
   },
   {
    "duration": 4,
    "start_time": "2024-04-16T19:14:44.530Z"
   },
   {
    "duration": 169,
    "start_time": "2024-04-16T19:14:44.697Z"
   },
   {
    "duration": 82,
    "start_time": "2024-04-16T19:14:44.889Z"
   },
   {
    "duration": 6,
    "start_time": "2024-04-16T19:14:45.589Z"
   },
   {
    "duration": 8,
    "start_time": "2024-04-16T19:16:06.607Z"
   },
   {
    "duration": 8,
    "start_time": "2024-04-16T19:16:07.347Z"
   },
   {
    "duration": 83,
    "start_time": "2024-04-16T19:16:48.853Z"
   },
   {
    "duration": 125,
    "start_time": "2024-04-16T19:16:56.857Z"
   },
   {
    "duration": 8,
    "start_time": "2024-04-16T19:16:59.398Z"
   },
   {
    "duration": 4,
    "start_time": "2024-04-16T19:17:13.463Z"
   },
   {
    "duration": 178,
    "start_time": "2024-04-16T19:17:13.494Z"
   },
   {
    "duration": 106,
    "start_time": "2024-04-16T19:17:13.674Z"
   },
   {
    "duration": 4,
    "start_time": "2024-04-16T19:17:13.782Z"
   },
   {
    "duration": 71,
    "start_time": "2024-04-16T19:17:13.836Z"
   },
   {
    "duration": 51,
    "start_time": "2024-04-16T19:17:13.909Z"
   },
   {
    "duration": 24,
    "start_time": "2024-04-16T19:17:13.961Z"
   },
   {
    "duration": 125,
    "start_time": "2024-04-16T19:17:14.051Z"
   },
   {
    "duration": 9,
    "start_time": "2024-04-16T19:17:14.180Z"
   },
   {
    "duration": 23,
    "start_time": "2024-04-16T19:17:14.191Z"
   },
   {
    "duration": 4,
    "start_time": "2024-04-16T19:17:14.389Z"
   },
   {
    "duration": 27,
    "start_time": "2024-04-16T19:17:14.508Z"
   },
   {
    "duration": 10,
    "start_time": "2024-04-16T19:17:14.633Z"
   },
   {
    "duration": 28,
    "start_time": "2024-04-16T19:17:14.758Z"
   },
   {
    "duration": 8,
    "start_time": "2024-04-16T19:17:14.883Z"
   },
   {
    "duration": 292,
    "start_time": "2024-04-16T19:17:14.944Z"
   },
   {
    "duration": 17,
    "start_time": "2024-04-16T19:17:15.238Z"
   },
   {
    "duration": 37,
    "start_time": "2024-04-16T19:17:15.257Z"
   },
   {
    "duration": 91,
    "start_time": "2024-04-16T19:17:15.295Z"
   },
   {
    "duration": 49,
    "start_time": "2024-04-16T19:17:15.388Z"
   },
   {
    "duration": 57,
    "start_time": "2024-04-16T19:17:15.439Z"
   },
   {
    "duration": 61,
    "start_time": "2024-04-16T19:17:15.498Z"
   },
   {
    "duration": 44,
    "start_time": "2024-04-16T19:17:15.561Z"
   },
   {
    "duration": 90,
    "start_time": "2024-04-16T19:17:15.625Z"
   },
   {
    "duration": 9,
    "start_time": "2024-04-16T19:17:15.717Z"
   },
   {
    "duration": 9,
    "start_time": "2024-04-16T19:17:15.910Z"
   },
   {
    "duration": 4,
    "start_time": "2024-04-16T19:17:16.030Z"
   },
   {
    "duration": 4,
    "start_time": "2024-04-16T19:17:16.063Z"
   },
   {
    "duration": 192,
    "start_time": "2024-04-16T19:17:16.114Z"
   },
   {
    "duration": 4,
    "start_time": "2024-04-16T19:17:16.308Z"
   },
   {
    "duration": 28,
    "start_time": "2024-04-16T19:17:16.313Z"
   },
   {
    "duration": 35,
    "start_time": "2024-04-16T19:17:16.389Z"
   },
   {
    "duration": 37,
    "start_time": "2024-04-16T19:17:16.523Z"
   },
   {
    "duration": 3,
    "start_time": "2024-04-16T19:17:16.611Z"
   },
   {
    "duration": 5,
    "start_time": "2024-04-16T19:17:16.638Z"
   },
   {
    "duration": 6,
    "start_time": "2024-04-16T20:08:33.230Z"
   },
   {
    "duration": 180,
    "start_time": "2024-04-16T20:08:34.171Z"
   },
   {
    "duration": 108,
    "start_time": "2024-04-16T20:08:34.691Z"
   },
   {
    "duration": 5,
    "start_time": "2024-04-16T20:08:34.936Z"
   },
   {
    "duration": 52,
    "start_time": "2024-04-16T20:08:35.114Z"
   },
   {
    "duration": 46,
    "start_time": "2024-04-16T20:08:35.172Z"
   },
   {
    "duration": 15,
    "start_time": "2024-04-16T20:08:35.278Z"
   },
   {
    "duration": 111,
    "start_time": "2024-04-16T20:08:35.394Z"
   },
   {
    "duration": 8,
    "start_time": "2024-04-16T20:08:35.507Z"
   },
   {
    "duration": 29,
    "start_time": "2024-04-16T20:08:35.518Z"
   },
   {
    "duration": 4,
    "start_time": "2024-04-16T20:08:35.850Z"
   },
   {
    "duration": 46,
    "start_time": "2024-04-16T20:08:35.945Z"
   },
   {
    "duration": 8,
    "start_time": "2024-04-16T20:08:36.110Z"
   },
   {
    "duration": 29,
    "start_time": "2024-04-16T20:08:36.255Z"
   },
   {
    "duration": 7,
    "start_time": "2024-04-16T20:08:36.439Z"
   },
   {
    "duration": 289,
    "start_time": "2024-04-16T20:08:36.568Z"
   },
   {
    "duration": 27,
    "start_time": "2024-04-16T20:08:36.859Z"
   },
   {
    "duration": 3,
    "start_time": "2024-04-16T20:08:36.887Z"
   },
   {
    "duration": 47,
    "start_time": "2024-04-16T20:08:36.891Z"
   },
   {
    "duration": 3,
    "start_time": "2024-04-16T20:08:36.940Z"
   },
   {
    "duration": 6,
    "start_time": "2024-04-16T20:08:37.061Z"
   },
   {
    "duration": 35,
    "start_time": "2024-04-16T20:08:37.181Z"
   },
   {
    "duration": 43,
    "start_time": "2024-04-16T20:08:37.398Z"
   },
   {
    "duration": 78,
    "start_time": "2024-04-16T20:08:37.591Z"
   },
   {
    "duration": 8,
    "start_time": "2024-04-16T20:08:37.671Z"
   },
   {
    "duration": 10,
    "start_time": "2024-04-16T20:08:37.814Z"
   },
   {
    "duration": 4,
    "start_time": "2024-04-16T20:08:37.957Z"
   },
   {
    "duration": 4,
    "start_time": "2024-04-16T20:08:38.016Z"
   },
   {
    "duration": 175,
    "start_time": "2024-04-16T20:08:38.087Z"
   },
   {
    "duration": 4,
    "start_time": "2024-04-16T20:08:39.121Z"
   },
   {
    "duration": 3,
    "start_time": "2024-04-16T20:08:39.572Z"
   },
   {
    "duration": 34,
    "start_time": "2024-04-16T20:08:41.108Z"
   },
   {
    "duration": 38,
    "start_time": "2024-04-16T20:08:42.606Z"
   },
   {
    "duration": 4,
    "start_time": "2024-04-16T20:08:43.325Z"
   },
   {
    "duration": 123,
    "start_time": "2024-04-16T20:08:43.822Z"
   },
   {
    "duration": 109,
    "start_time": "2024-04-16T20:09:04.151Z"
   },
   {
    "duration": 108,
    "start_time": "2024-04-16T20:09:15.255Z"
   },
   {
    "duration": 7,
    "start_time": "2024-04-16T20:12:28.634Z"
   },
   {
    "duration": 86,
    "start_time": "2024-04-16T20:14:47.503Z"
   },
   {
    "duration": 82,
    "start_time": "2024-04-16T20:16:04.769Z"
   },
   {
    "duration": 12,
    "start_time": "2024-04-16T20:16:15.119Z"
   },
   {
    "duration": 12,
    "start_time": "2024-04-16T20:16:26.483Z"
   },
   {
    "duration": 117,
    "start_time": "2024-04-16T20:16:49.620Z"
   },
   {
    "duration": 7,
    "start_time": "2024-04-16T20:16:50.098Z"
   },
   {
    "duration": 9,
    "start_time": "2024-04-16T20:16:53.781Z"
   },
   {
    "duration": 3,
    "start_time": "2024-04-16T20:17:58.118Z"
   },
   {
    "duration": 182,
    "start_time": "2024-04-16T20:17:58.629Z"
   },
   {
    "duration": 97,
    "start_time": "2024-04-16T20:17:58.813Z"
   },
   {
    "duration": 4,
    "start_time": "2024-04-16T20:17:58.937Z"
   },
   {
    "duration": 57,
    "start_time": "2024-04-16T20:17:59.118Z"
   },
   {
    "duration": 45,
    "start_time": "2024-04-16T20:17:59.180Z"
   },
   {
    "duration": 16,
    "start_time": "2024-04-16T20:17:59.240Z"
   },
   {
    "duration": 108,
    "start_time": "2024-04-16T20:17:59.400Z"
   },
   {
    "duration": 8,
    "start_time": "2024-04-16T20:17:59.510Z"
   },
   {
    "duration": 21,
    "start_time": "2024-04-16T20:17:59.523Z"
   },
   {
    "duration": 4,
    "start_time": "2024-04-16T20:17:59.833Z"
   },
   {
    "duration": 25,
    "start_time": "2024-04-16T20:17:59.966Z"
   },
   {
    "duration": 8,
    "start_time": "2024-04-16T20:18:00.199Z"
   },
   {
    "duration": 127,
    "start_time": "2024-04-16T20:18:00.387Z"
   },
   {
    "duration": 8,
    "start_time": "2024-04-16T20:18:00.594Z"
   },
   {
    "duration": 304,
    "start_time": "2024-04-16T20:18:00.702Z"
   },
   {
    "duration": 17,
    "start_time": "2024-04-16T20:18:01.008Z"
   },
   {
    "duration": 113,
    "start_time": "2024-04-16T20:18:01.027Z"
   },
   {
    "duration": 149,
    "start_time": "2024-04-16T20:18:01.142Z"
   },
   {
    "duration": 70,
    "start_time": "2024-04-16T20:18:01.294Z"
   },
   {
    "duration": 89,
    "start_time": "2024-04-16T20:18:01.366Z"
   },
   {
    "duration": 77,
    "start_time": "2024-04-16T20:18:01.457Z"
   },
   {
    "duration": 44,
    "start_time": "2024-04-16T20:18:01.536Z"
   },
   {
    "duration": 81,
    "start_time": "2024-04-16T20:18:01.713Z"
   },
   {
    "duration": 10,
    "start_time": "2024-04-16T20:18:01.795Z"
   },
   {
    "duration": 10,
    "start_time": "2024-04-16T20:18:01.989Z"
   },
   {
    "duration": 4,
    "start_time": "2024-04-16T20:18:02.184Z"
   },
   {
    "duration": 4,
    "start_time": "2024-04-16T20:18:02.268Z"
   },
   {
    "duration": 209,
    "start_time": "2024-04-16T20:18:02.330Z"
   },
   {
    "duration": 3,
    "start_time": "2024-04-16T20:18:02.883Z"
   },
   {
    "duration": 10,
    "start_time": "2024-04-16T20:18:02.888Z"
   },
   {
    "duration": 45,
    "start_time": "2024-04-16T20:18:02.900Z"
   },
   {
    "duration": 33,
    "start_time": "2024-04-16T20:18:03.071Z"
   },
   {
    "duration": 3,
    "start_time": "2024-04-16T20:18:03.194Z"
   },
   {
    "duration": 108,
    "start_time": "2024-04-16T20:18:03.875Z"
   },
   {
    "duration": 8,
    "start_time": "2024-04-16T20:18:04.354Z"
   },
   {
    "duration": 11,
    "start_time": "2024-04-16T20:18:04.850Z"
   },
   {
    "duration": 711,
    "start_time": "2024-04-17T08:42:38.434Z"
   },
   {
    "duration": 7,
    "start_time": "2024-04-17T08:43:01.329Z"
   },
   {
    "duration": 650,
    "start_time": "2024-04-17T08:43:08.788Z"
   },
   {
    "duration": 854,
    "start_time": "2024-04-17T08:43:09.439Z"
   },
   {
    "duration": 100,
    "start_time": "2024-04-17T08:43:10.295Z"
   },
   {
    "duration": 4,
    "start_time": "2024-04-17T08:43:10.397Z"
   },
   {
    "duration": 100,
    "start_time": "2024-04-17T08:43:10.403Z"
   },
   {
    "duration": 55,
    "start_time": "2024-04-17T08:43:10.505Z"
   },
   {
    "duration": 20,
    "start_time": "2024-04-17T08:43:10.561Z"
   },
   {
    "duration": 129,
    "start_time": "2024-04-17T08:43:10.583Z"
   },
   {
    "duration": 9,
    "start_time": "2024-04-17T08:43:10.713Z"
   },
   {
    "duration": 37,
    "start_time": "2024-04-17T08:43:10.724Z"
   },
   {
    "duration": 4,
    "start_time": "2024-04-17T08:43:10.762Z"
   },
   {
    "duration": 38,
    "start_time": "2024-04-17T08:43:10.767Z"
   },
   {
    "duration": 14,
    "start_time": "2024-04-17T08:43:10.806Z"
   },
   {
    "duration": 29,
    "start_time": "2024-04-17T08:43:10.821Z"
   },
   {
    "duration": 5,
    "start_time": "2024-04-17T08:43:10.852Z"
   },
   {
    "duration": 387,
    "start_time": "2024-04-17T08:43:10.875Z"
   },
   {
    "duration": 26,
    "start_time": "2024-04-17T08:43:11.263Z"
   },
   {
    "duration": 3,
    "start_time": "2024-04-17T08:43:11.290Z"
   },
   {
    "duration": 21,
    "start_time": "2024-04-17T08:43:11.296Z"
   },
   {
    "duration": 4,
    "start_time": "2024-04-17T08:43:11.319Z"
   },
   {
    "duration": 10,
    "start_time": "2024-04-17T08:43:11.326Z"
   },
   {
    "duration": 31,
    "start_time": "2024-04-17T08:43:11.435Z"
   },
   {
    "duration": 28,
    "start_time": "2024-04-17T08:43:11.712Z"
   },
   {
    "duration": 88,
    "start_time": "2024-04-17T08:43:11.872Z"
   },
   {
    "duration": 14,
    "start_time": "2024-04-17T08:43:11.961Z"
   },
   {
    "duration": 9,
    "start_time": "2024-04-17T08:43:12.176Z"
   },
   {
    "duration": 5,
    "start_time": "2024-04-17T08:43:12.376Z"
   },
   {
    "duration": 4,
    "start_time": "2024-04-17T08:43:12.421Z"
   },
   {
    "duration": 186,
    "start_time": "2024-04-17T08:43:12.522Z"
   },
   {
    "duration": 3,
    "start_time": "2024-04-17T08:43:12.795Z"
   },
   {
    "duration": 3,
    "start_time": "2024-04-17T08:43:12.851Z"
   },
   {
    "duration": 34,
    "start_time": "2024-04-17T08:43:13.004Z"
   },
   {
    "duration": 28,
    "start_time": "2024-04-17T08:43:13.250Z"
   },
   {
    "duration": 3,
    "start_time": "2024-04-17T08:43:17.021Z"
   },
   {
    "duration": 0,
    "start_time": "2024-04-17T08:43:28.192Z"
   },
   {
    "duration": 3,
    "start_time": "2024-04-17T08:44:04.543Z"
   },
   {
    "duration": 10404,
    "start_time": "2024-04-17T08:44:05.415Z"
   },
   {
    "duration": 10543,
    "start_time": "2024-04-17T08:45:26.155Z"
   },
   {
    "duration": 15,
    "start_time": "2024-04-17T08:45:48.135Z"
   },
   {
    "duration": 32,
    "start_time": "2024-04-17T08:46:13.374Z"
   },
   {
    "duration": 4,
    "start_time": "2024-04-17T08:46:14.342Z"
   },
   {
    "duration": 31,
    "start_time": "2024-04-17T08:54:00.833Z"
   },
   {
    "duration": 27,
    "start_time": "2024-04-17T08:54:23.440Z"
   },
   {
    "duration": 29,
    "start_time": "2024-04-17T08:54:38.988Z"
   },
   {
    "duration": 1396,
    "start_time": "2024-04-17T08:54:49.116Z"
   },
   {
    "duration": 32,
    "start_time": "2024-04-17T08:54:57.941Z"
   },
   {
    "duration": 6,
    "start_time": "2024-04-17T08:55:07.194Z"
   },
   {
    "duration": 3,
    "start_time": "2024-04-17T08:56:06.560Z"
   },
   {
    "duration": 9,
    "start_time": "2024-04-17T08:56:19.219Z"
   },
   {
    "duration": 36,
    "start_time": "2024-04-17T08:56:44.439Z"
   },
   {
    "duration": 10,
    "start_time": "2024-04-17T08:56:55.808Z"
   },
   {
    "duration": 10,
    "start_time": "2024-04-17T08:56:59.196Z"
   },
   {
    "duration": 8,
    "start_time": "2024-04-17T08:58:03.058Z"
   },
   {
    "duration": 10,
    "start_time": "2024-04-17T08:58:33.584Z"
   },
   {
    "duration": 7,
    "start_time": "2024-04-17T08:58:41.032Z"
   },
   {
    "duration": 8,
    "start_time": "2024-04-17T08:58:43.867Z"
   },
   {
    "duration": 7,
    "start_time": "2024-04-17T08:58:45.655Z"
   },
   {
    "duration": 8,
    "start_time": "2024-04-17T08:58:54.834Z"
   },
   {
    "duration": 8,
    "start_time": "2024-04-17T08:59:57.757Z"
   },
   {
    "duration": 8,
    "start_time": "2024-04-17T09:00:21.732Z"
   },
   {
    "duration": 9,
    "start_time": "2024-04-17T09:00:28.018Z"
   },
   {
    "duration": 7,
    "start_time": "2024-04-17T09:00:50.344Z"
   },
   {
    "duration": 3,
    "start_time": "2024-04-17T09:06:42.650Z"
   },
   {
    "duration": 5,
    "start_time": "2024-04-17T09:07:56.193Z"
   },
   {
    "duration": 4,
    "start_time": "2024-04-17T09:08:09.692Z"
   },
   {
    "duration": 5,
    "start_time": "2024-04-17T09:08:28.791Z"
   },
   {
    "duration": 4,
    "start_time": "2024-04-17T09:08:34.935Z"
   },
   {
    "duration": 4,
    "start_time": "2024-04-17T09:08:39.669Z"
   },
   {
    "duration": 36,
    "start_time": "2024-04-17T09:08:45.846Z"
   },
   {
    "duration": 4,
    "start_time": "2024-04-17T09:08:46.692Z"
   },
   {
    "duration": 4,
    "start_time": "2024-04-17T09:10:02.715Z"
   },
   {
    "duration": 5,
    "start_time": "2024-04-17T09:10:11.173Z"
   },
   {
    "duration": 3,
    "start_time": "2024-04-17T09:10:23.499Z"
   },
   {
    "duration": 14,
    "start_time": "2024-04-17T09:50:53.152Z"
   },
   {
    "duration": 9,
    "start_time": "2024-04-17T09:51:55.451Z"
   },
   {
    "duration": 7,
    "start_time": "2024-04-17T09:52:18.844Z"
   },
   {
    "duration": 38,
    "start_time": "2024-04-17T09:52:23.887Z"
   },
   {
    "duration": 37,
    "start_time": "2024-04-17T09:52:33.620Z"
   },
   {
    "duration": 47,
    "start_time": "2024-04-17T09:53:19.176Z"
   },
   {
    "duration": 21,
    "start_time": "2024-04-17T09:55:28.159Z"
   },
   {
    "duration": 20,
    "start_time": "2024-04-17T09:55:34.501Z"
   },
   {
    "duration": 27,
    "start_time": "2024-04-17T09:56:23.783Z"
   },
   {
    "duration": 9,
    "start_time": "2024-04-17T09:56:50.452Z"
   },
   {
    "duration": 33,
    "start_time": "2024-04-17T09:57:12.240Z"
   },
   {
    "duration": 56,
    "start_time": "2024-04-17T09:57:46.978Z"
   },
   {
    "duration": 53,
    "start_time": "2024-04-17T09:59:29.165Z"
   },
   {
    "duration": 52,
    "start_time": "2024-04-17T09:59:39.039Z"
   },
   {
    "duration": 14,
    "start_time": "2024-04-17T10:00:01.856Z"
   },
   {
    "duration": 38,
    "start_time": "2024-04-17T10:00:29.418Z"
   },
   {
    "duration": 44,
    "start_time": "2024-04-17T10:01:04.244Z"
   },
   {
    "duration": 40,
    "start_time": "2024-04-17T10:01:08.922Z"
   },
   {
    "duration": 42,
    "start_time": "2024-04-17T10:01:27.208Z"
   },
   {
    "duration": 42,
    "start_time": "2024-04-17T10:07:35.077Z"
   },
   {
    "duration": 22,
    "start_time": "2024-04-17T10:07:42.739Z"
   },
   {
    "duration": 26,
    "start_time": "2024-04-17T10:07:47.915Z"
   },
   {
    "duration": 1044,
    "start_time": "2024-04-17T10:09:28.350Z"
   },
   {
    "duration": 1050,
    "start_time": "2024-04-17T10:10:39.690Z"
   },
   {
    "duration": 15,
    "start_time": "2024-04-17T10:11:01.682Z"
   },
   {
    "duration": 9,
    "start_time": "2024-04-17T10:11:24.529Z"
   },
   {
    "duration": 3,
    "start_time": "2024-04-17T10:11:30.154Z"
   },
   {
    "duration": 1044,
    "start_time": "2024-04-17T10:12:59.310Z"
   },
   {
    "duration": 5,
    "start_time": "2024-04-17T10:13:21.326Z"
   },
   {
    "duration": 1102,
    "start_time": "2024-04-17T10:14:13.216Z"
   },
   {
    "duration": 16,
    "start_time": "2024-04-17T10:14:28.064Z"
   },
   {
    "duration": 1030,
    "start_time": "2024-04-17T10:15:32.122Z"
   },
   {
    "duration": 20,
    "start_time": "2024-04-17T10:28:17.763Z"
   },
   {
    "duration": 9,
    "start_time": "2024-04-17T10:28:18.252Z"
   },
   {
    "duration": 5,
    "start_time": "2024-04-17T10:28:23.829Z"
   },
   {
    "duration": 11,
    "start_time": "2024-04-17T10:28:24.338Z"
   },
   {
    "duration": 9,
    "start_time": "2024-04-17T10:28:24.814Z"
   },
   {
    "duration": 11,
    "start_time": "2024-04-17T10:28:52.055Z"
   },
   {
    "duration": 5,
    "start_time": "2024-04-17T10:29:16.146Z"
   },
   {
    "duration": 12,
    "start_time": "2024-04-17T10:29:16.911Z"
   },
   {
    "duration": 17,
    "start_time": "2024-04-17T10:29:17.167Z"
   },
   {
    "duration": 5,
    "start_time": "2024-04-17T10:29:52.124Z"
   },
   {
    "duration": 11,
    "start_time": "2024-04-17T10:29:53.738Z"
   },
   {
    "duration": 1433,
    "start_time": "2024-04-17T10:29:54.012Z"
   },
   {
    "duration": 1522,
    "start_time": "2024-04-17T10:30:13.770Z"
   },
   {
    "duration": 13,
    "start_time": "2024-04-17T10:31:11.229Z"
   },
   {
    "duration": 1435,
    "start_time": "2024-04-17T10:31:11.691Z"
   },
   {
    "duration": 1591,
    "start_time": "2024-04-17T10:32:18.007Z"
   },
   {
    "duration": 4,
    "start_time": "2024-04-17T10:57:40.646Z"
   },
   {
    "duration": 26,
    "start_time": "2024-04-17T10:59:17.791Z"
   },
   {
    "duration": 24,
    "start_time": "2024-04-17T10:59:27.117Z"
   },
   {
    "duration": 1414,
    "start_time": "2024-04-17T11:00:43.055Z"
   },
   {
    "duration": 1528,
    "start_time": "2024-04-17T11:00:57.359Z"
   },
   {
    "duration": 1322,
    "start_time": "2024-04-17T11:01:27.599Z"
   },
   {
    "duration": 48,
    "start_time": "2024-04-17T11:01:53.407Z"
   },
   {
    "duration": 60,
    "start_time": "2024-04-17T11:02:48.659Z"
   },
   {
    "duration": 50,
    "start_time": "2024-04-17T11:02:55.585Z"
   },
   {
    "duration": 13,
    "start_time": "2024-04-17T11:08:15.955Z"
   },
   {
    "duration": 1583,
    "start_time": "2024-04-17T11:08:33.902Z"
   },
   {
    "duration": 4,
    "start_time": "2024-04-17T11:08:35.759Z"
   },
   {
    "duration": 1496,
    "start_time": "2024-04-17T11:08:46.375Z"
   },
   {
    "duration": 0,
    "start_time": "2024-04-17T11:08:47.873Z"
   },
   {
    "duration": 38,
    "start_time": "2024-04-17T11:08:59.206Z"
   },
   {
    "duration": 44,
    "start_time": "2024-04-17T11:09:22.165Z"
   },
   {
    "duration": 3,
    "start_time": "2024-04-17T11:09:23.147Z"
   },
   {
    "duration": 3,
    "start_time": "2024-04-17T11:09:27.152Z"
   },
   {
    "duration": 36,
    "start_time": "2024-04-17T11:09:35.218Z"
   },
   {
    "duration": 38,
    "start_time": "2024-04-17T11:09:56.223Z"
   },
   {
    "duration": 8,
    "start_time": "2024-04-17T11:10:11.559Z"
   },
   {
    "duration": 4,
    "start_time": "2024-04-17T11:10:15.328Z"
   },
   {
    "duration": 35,
    "start_time": "2024-04-17T11:10:29.816Z"
   },
   {
    "duration": 3,
    "start_time": "2024-04-17T11:10:30.933Z"
   },
   {
    "duration": 37,
    "start_time": "2024-04-17T11:10:35.717Z"
   },
   {
    "duration": 4,
    "start_time": "2024-04-17T11:10:36.637Z"
   },
   {
    "duration": 63,
    "start_time": "2024-04-17T11:18:25.831Z"
   },
   {
    "duration": 70,
    "start_time": "2024-04-17T11:18:29.550Z"
   },
   {
    "duration": 62,
    "start_time": "2024-04-17T11:19:22.926Z"
   },
   {
    "duration": 5,
    "start_time": "2024-04-17T11:19:23.566Z"
   },
   {
    "duration": 11,
    "start_time": "2024-04-17T11:19:24.448Z"
   },
   {
    "duration": 5,
    "start_time": "2024-04-17T11:19:52.568Z"
   },
   {
    "duration": 10,
    "start_time": "2024-04-17T11:19:54.545Z"
   },
   {
    "duration": 5,
    "start_time": "2024-04-17T11:21:45.627Z"
   },
   {
    "duration": 3,
    "start_time": "2024-04-17T11:21:54.427Z"
   },
   {
    "duration": 4,
    "start_time": "2024-04-17T11:21:55.336Z"
   },
   {
    "duration": 70,
    "start_time": "2024-04-17T11:22:26.843Z"
   },
   {
    "duration": 75,
    "start_time": "2024-04-17T11:22:34.360Z"
   },
   {
    "duration": 74,
    "start_time": "2024-04-17T11:24:32.906Z"
   },
   {
    "duration": 108,
    "start_time": "2024-04-17T11:24:40.536Z"
   },
   {
    "duration": 6,
    "start_time": "2024-04-17T11:24:55.007Z"
   },
   {
    "duration": 29,
    "start_time": "2024-04-17T11:24:56.485Z"
   },
   {
    "duration": 103,
    "start_time": "2024-04-17T11:25:38.990Z"
   },
   {
    "duration": 8,
    "start_time": "2024-04-17T11:25:43.190Z"
   },
   {
    "duration": 24,
    "start_time": "2024-04-17T11:25:43.564Z"
   },
   {
    "duration": 101,
    "start_time": "2024-04-17T11:26:21.132Z"
   },
   {
    "duration": 104,
    "start_time": "2024-04-17T11:26:25.744Z"
   },
   {
    "duration": 5,
    "start_time": "2024-04-17T11:26:26.225Z"
   },
   {
    "duration": 18,
    "start_time": "2024-04-17T11:26:26.812Z"
   },
   {
    "duration": 129,
    "start_time": "2024-04-17T11:26:54.126Z"
   },
   {
    "duration": 110,
    "start_time": "2024-04-17T11:28:36.627Z"
   },
   {
    "duration": 114,
    "start_time": "2024-04-17T11:29:23.221Z"
   },
   {
    "duration": 125,
    "start_time": "2024-04-17T11:29:32.425Z"
   },
   {
    "duration": 115,
    "start_time": "2024-04-17T11:30:13.940Z"
   },
   {
    "duration": 108,
    "start_time": "2024-04-17T11:30:23.617Z"
   },
   {
    "duration": 109,
    "start_time": "2024-04-17T11:30:34.230Z"
   },
   {
    "duration": 113,
    "start_time": "2024-04-17T11:30:59.787Z"
   },
   {
    "duration": 101,
    "start_time": "2024-04-17T11:31:13.159Z"
   },
   {
    "duration": 121,
    "start_time": "2024-04-17T11:32:20.099Z"
   },
   {
    "duration": 95,
    "start_time": "2024-04-17T11:32:51.398Z"
   },
   {
    "duration": 111,
    "start_time": "2024-04-17T11:32:58.415Z"
   },
   {
    "duration": 100,
    "start_time": "2024-04-17T11:33:34.890Z"
   },
   {
    "duration": 100,
    "start_time": "2024-04-17T11:33:55.768Z"
   },
   {
    "duration": 6,
    "start_time": "2024-04-17T11:35:52.692Z"
   },
   {
    "duration": 8,
    "start_time": "2024-04-17T11:36:56.290Z"
   },
   {
    "duration": 1339,
    "start_time": "2024-04-17T11:37:18.467Z"
   },
   {
    "duration": 5,
    "start_time": "2024-04-17T11:37:27.966Z"
   },
   {
    "duration": 5,
    "start_time": "2024-04-17T11:37:30.666Z"
   },
   {
    "duration": 1581,
    "start_time": "2024-04-17T11:37:31.398Z"
   },
   {
    "duration": 15,
    "start_time": "2024-04-17T12:00:58.287Z"
   },
   {
    "duration": 11,
    "start_time": "2024-04-17T12:01:18.513Z"
   },
   {
    "duration": 17,
    "start_time": "2024-04-17T12:01:27.282Z"
   },
   {
    "duration": 10,
    "start_time": "2024-04-17T12:01:34.412Z"
   },
   {
    "duration": 10,
    "start_time": "2024-04-17T12:02:05.995Z"
   },
   {
    "duration": 6,
    "start_time": "2024-04-17T12:02:20.207Z"
   },
   {
    "duration": 5,
    "start_time": "2024-04-17T12:02:24.848Z"
   },
   {
    "duration": 10,
    "start_time": "2024-04-17T12:02:55.680Z"
   },
   {
    "duration": 1367,
    "start_time": "2024-04-17T12:02:57.663Z"
   },
   {
    "duration": 8,
    "start_time": "2024-04-17T12:10:45.713Z"
   },
   {
    "duration": 11,
    "start_time": "2024-04-17T12:10:46.358Z"
   },
   {
    "duration": 6,
    "start_time": "2024-04-17T12:15:55.811Z"
   },
   {
    "duration": 103,
    "start_time": "2024-04-17T12:16:11.521Z"
   },
   {
    "duration": 101,
    "start_time": "2024-04-17T12:16:18.790Z"
   },
   {
    "duration": 5,
    "start_time": "2024-04-17T12:16:47.894Z"
   },
   {
    "duration": 23,
    "start_time": "2024-04-17T12:16:48.574Z"
   },
   {
    "duration": 77,
    "start_time": "2024-04-17T12:18:02.391Z"
   },
   {
    "duration": 14,
    "start_time": "2024-04-17T12:18:32.907Z"
   },
   {
    "duration": 6,
    "start_time": "2024-04-17T12:20:36.739Z"
   },
   {
    "duration": 86,
    "start_time": "2024-04-17T12:22:32.577Z"
   },
   {
    "duration": 85,
    "start_time": "2024-04-17T12:23:28.030Z"
   },
   {
    "duration": 83,
    "start_time": "2024-04-17T12:23:40.447Z"
   },
   {
    "duration": 88,
    "start_time": "2024-04-17T12:24:17.004Z"
   },
   {
    "duration": 81,
    "start_time": "2024-04-17T12:25:39.314Z"
   },
   {
    "duration": 26,
    "start_time": "2024-04-17T12:26:10.401Z"
   },
   {
    "duration": 1463,
    "start_time": "2024-04-19T08:38:56.126Z"
   },
   {
    "duration": 850,
    "start_time": "2024-04-19T08:38:57.591Z"
   },
   {
    "duration": 114,
    "start_time": "2024-04-19T08:38:58.442Z"
   },
   {
    "duration": 4,
    "start_time": "2024-04-19T08:38:58.558Z"
   },
   {
    "duration": 93,
    "start_time": "2024-04-19T08:38:58.563Z"
   },
   {
    "duration": 65,
    "start_time": "2024-04-19T08:38:58.657Z"
   },
   {
    "duration": 38,
    "start_time": "2024-04-19T08:38:58.723Z"
   },
   {
    "duration": 144,
    "start_time": "2024-04-19T08:38:58.762Z"
   },
   {
    "duration": 9,
    "start_time": "2024-04-19T08:38:58.907Z"
   },
   {
    "duration": 42,
    "start_time": "2024-04-19T08:38:58.919Z"
   },
   {
    "duration": 10,
    "start_time": "2024-04-19T08:38:58.963Z"
   },
   {
    "duration": 70,
    "start_time": "2024-04-19T08:38:58.975Z"
   },
   {
    "duration": 64,
    "start_time": "2024-04-19T08:38:59.047Z"
   },
   {
    "duration": 73,
    "start_time": "2024-04-19T08:38:59.113Z"
   },
   {
    "duration": 7,
    "start_time": "2024-04-19T08:38:59.187Z"
   },
   {
    "duration": 422,
    "start_time": "2024-04-19T08:38:59.195Z"
   },
   {
    "duration": 21,
    "start_time": "2024-04-19T08:38:59.619Z"
   },
   {
    "duration": 27,
    "start_time": "2024-04-19T08:38:59.642Z"
   },
   {
    "duration": 39,
    "start_time": "2024-04-19T08:38:59.671Z"
   },
   {
    "duration": 4,
    "start_time": "2024-04-19T08:38:59.711Z"
   },
   {
    "duration": 11,
    "start_time": "2024-04-19T08:38:59.717Z"
   },
   {
    "duration": 43,
    "start_time": "2024-04-19T08:38:59.729Z"
   },
   {
    "duration": 27,
    "start_time": "2024-04-19T08:38:59.774Z"
   },
   {
    "duration": 100,
    "start_time": "2024-04-19T08:38:59.803Z"
   },
   {
    "duration": 8,
    "start_time": "2024-04-19T08:38:59.905Z"
   },
   {
    "duration": 13,
    "start_time": "2024-04-19T08:39:00.060Z"
   },
   {
    "duration": 5,
    "start_time": "2024-04-19T08:39:00.234Z"
   },
   {
    "duration": 4,
    "start_time": "2024-04-19T08:39:00.298Z"
   },
   {
    "duration": 181,
    "start_time": "2024-04-19T08:39:00.354Z"
   },
   {
    "duration": 3,
    "start_time": "2024-04-19T08:39:00.675Z"
   },
   {
    "duration": 73,
    "start_time": "2024-04-19T08:39:00.735Z"
   },
   {
    "duration": 36,
    "start_time": "2024-04-19T08:39:00.918Z"
   },
   {
    "duration": 168,
    "start_time": "2024-04-19T08:39:01.118Z"
   },
   {
    "duration": 29,
    "start_time": "2024-04-19T08:39:01.288Z"
   },
   {
    "duration": 102,
    "start_time": "2024-04-19T08:39:01.319Z"
   },
   {
    "duration": 71,
    "start_time": "2024-04-19T08:39:01.422Z"
   },
   {
    "duration": 26,
    "start_time": "2024-04-19T08:39:01.556Z"
   },
   {
    "duration": 126,
    "start_time": "2024-04-19T08:39:01.605Z"
   },
   {
    "duration": 89,
    "start_time": "2024-04-19T08:39:01.734Z"
   },
   {
    "duration": 40,
    "start_time": "2024-04-19T08:39:01.825Z"
   },
   {
    "duration": 44,
    "start_time": "2024-04-19T08:39:01.868Z"
   },
   {
    "duration": 243,
    "start_time": "2024-04-19T08:39:01.914Z"
   },
   {
    "duration": 80,
    "start_time": "2024-04-19T08:39:02.234Z"
   },
   {
    "duration": 108,
    "start_time": "2024-04-19T08:39:02.327Z"
   },
   {
    "duration": 4,
    "start_time": "2024-04-19T08:42:38.487Z"
   },
   {
    "duration": 216,
    "start_time": "2024-04-19T08:42:38.669Z"
   },
   {
    "duration": 124,
    "start_time": "2024-04-19T08:42:38.887Z"
   },
   {
    "duration": 5,
    "start_time": "2024-04-19T08:42:39.013Z"
   },
   {
    "duration": 71,
    "start_time": "2024-04-19T08:42:39.181Z"
   },
   {
    "duration": 56,
    "start_time": "2024-04-19T08:42:39.254Z"
   },
   {
    "duration": 19,
    "start_time": "2024-04-19T08:42:39.312Z"
   },
   {
    "duration": 151,
    "start_time": "2024-04-19T08:42:39.503Z"
   },
   {
    "duration": 9,
    "start_time": "2024-04-19T08:42:39.655Z"
   },
   {
    "duration": 44,
    "start_time": "2024-04-19T08:42:39.666Z"
   },
   {
    "duration": 4,
    "start_time": "2024-04-19T08:42:39.905Z"
   },
   {
    "duration": 27,
    "start_time": "2024-04-19T08:42:39.984Z"
   },
   {
    "duration": 10,
    "start_time": "2024-04-19T08:42:40.139Z"
   },
   {
    "duration": 31,
    "start_time": "2024-04-19T08:42:40.604Z"
   },
   {
    "duration": 9,
    "start_time": "2024-04-19T08:42:40.637Z"
   },
   {
    "duration": 322,
    "start_time": "2024-04-19T08:42:40.647Z"
   },
   {
    "duration": 20,
    "start_time": "2024-04-19T08:42:40.971Z"
   },
   {
    "duration": 9,
    "start_time": "2024-04-19T08:42:40.992Z"
   },
   {
    "duration": 31,
    "start_time": "2024-04-19T08:42:41.004Z"
   },
   {
    "duration": 5,
    "start_time": "2024-04-19T08:42:41.036Z"
   },
   {
    "duration": 7,
    "start_time": "2024-04-19T08:42:41.056Z"
   },
   {
    "duration": 37,
    "start_time": "2024-04-19T08:42:41.125Z"
   },
   {
    "duration": 28,
    "start_time": "2024-04-19T08:42:41.280Z"
   },
   {
    "duration": 82,
    "start_time": "2024-04-19T08:42:41.465Z"
   },
   {
    "duration": 10,
    "start_time": "2024-04-19T08:42:41.549Z"
   },
   {
    "duration": 10,
    "start_time": "2024-04-19T08:42:42.166Z"
   },
   {
    "duration": 4,
    "start_time": "2024-04-19T08:42:42.277Z"
   },
   {
    "duration": 4,
    "start_time": "2024-04-19T08:42:43.161Z"
   },
   {
    "duration": 236,
    "start_time": "2024-04-19T08:42:43.654Z"
   },
   {
    "duration": 4,
    "start_time": "2024-04-19T08:42:45.025Z"
   },
   {
    "duration": 11,
    "start_time": "2024-04-19T08:42:45.292Z"
   },
   {
    "duration": 40,
    "start_time": "2024-04-19T08:42:47.327Z"
   },
   {
    "duration": 41,
    "start_time": "2024-04-19T08:42:59.492Z"
   },
   {
    "duration": 5,
    "start_time": "2024-04-19T08:43:00.483Z"
   },
   {
    "duration": 5,
    "start_time": "2024-04-19T08:43:01.342Z"
   },
   {
    "duration": 12,
    "start_time": "2024-04-19T08:43:02.157Z"
   },
   {
    "duration": 116,
    "start_time": "2024-04-19T08:43:47.915Z"
   },
   {
    "duration": 105,
    "start_time": "2024-04-19T08:44:05.815Z"
   },
   {
    "duration": 99,
    "start_time": "2024-04-19T08:44:23.734Z"
   },
   {
    "duration": 113,
    "start_time": "2024-04-19T08:45:21.481Z"
   },
   {
    "duration": 111,
    "start_time": "2024-04-19T08:47:16.904Z"
   },
   {
    "duration": 90,
    "start_time": "2024-04-19T08:49:34.084Z"
   },
   {
    "duration": 93,
    "start_time": "2024-04-19T08:50:27.863Z"
   },
   {
    "duration": 105,
    "start_time": "2024-04-19T08:51:43.280Z"
   },
   {
    "duration": 88,
    "start_time": "2024-04-19T08:51:49.218Z"
   },
   {
    "duration": 82,
    "start_time": "2024-04-19T08:51:53.887Z"
   },
   {
    "duration": 95,
    "start_time": "2024-04-19T08:53:29.593Z"
   },
   {
    "duration": 777,
    "start_time": "2024-04-19T08:54:44.732Z"
   },
   {
    "duration": 798,
    "start_time": "2024-04-19T08:58:07.697Z"
   },
   {
    "duration": 85,
    "start_time": "2024-04-19T08:58:15.673Z"
   },
   {
    "duration": 42,
    "start_time": "2024-04-19T09:03:23.496Z"
   },
   {
    "duration": 78,
    "start_time": "2024-04-19T09:05:02.914Z"
   },
   {
    "duration": 38,
    "start_time": "2024-04-19T09:09:31.806Z"
   },
   {
    "duration": 708,
    "start_time": "2024-04-19T09:11:49.109Z"
   },
   {
    "duration": 38,
    "start_time": "2024-04-19T09:11:58.042Z"
   },
   {
    "duration": 42,
    "start_time": "2024-04-19T09:12:30.081Z"
   },
   {
    "duration": 44,
    "start_time": "2024-04-19T09:12:40.306Z"
   },
   {
    "duration": 5,
    "start_time": "2024-04-19T09:14:01.083Z"
   },
   {
    "duration": 39,
    "start_time": "2024-04-19T09:14:10.886Z"
   },
   {
    "duration": 39,
    "start_time": "2024-04-19T09:14:23.703Z"
   },
   {
    "duration": 40,
    "start_time": "2024-04-19T09:14:40.713Z"
   },
   {
    "duration": 39,
    "start_time": "2024-04-19T09:14:49.418Z"
   },
   {
    "duration": 39,
    "start_time": "2024-04-19T09:14:54.017Z"
   },
   {
    "duration": 1416,
    "start_time": "2024-04-19T09:17:15.683Z"
   },
   {
    "duration": 37,
    "start_time": "2024-04-19T09:17:43.113Z"
   },
   {
    "duration": 77,
    "start_time": "2024-04-19T09:18:13.010Z"
   },
   {
    "duration": 39,
    "start_time": "2024-04-19T09:18:15.413Z"
   },
   {
    "duration": 43,
    "start_time": "2024-04-19T09:18:21.418Z"
   },
   {
    "duration": 40,
    "start_time": "2024-04-19T09:18:43.441Z"
   },
   {
    "duration": 40,
    "start_time": "2024-04-19T09:18:52.768Z"
   },
   {
    "duration": 5,
    "start_time": "2024-04-19T09:20:18.158Z"
   },
   {
    "duration": 5,
    "start_time": "2024-04-19T09:20:21.110Z"
   },
   {
    "duration": 5,
    "start_time": "2024-04-19T09:22:06.146Z"
   },
   {
    "duration": 18,
    "start_time": "2024-04-19T09:22:06.464Z"
   },
   {
    "duration": 5,
    "start_time": "2024-04-19T09:22:20.275Z"
   },
   {
    "duration": 1380,
    "start_time": "2024-04-19T09:22:20.842Z"
   },
   {
    "duration": 1154,
    "start_time": "2024-04-19T09:23:17.362Z"
   },
   {
    "duration": 1474,
    "start_time": "2024-04-19T09:25:51.392Z"
   },
   {
    "duration": 40,
    "start_time": "2024-04-19T09:26:02.278Z"
   },
   {
    "duration": 5,
    "start_time": "2024-04-19T09:26:04.859Z"
   },
   {
    "duration": 1469,
    "start_time": "2024-04-19T09:26:05.154Z"
   },
   {
    "duration": 1435,
    "start_time": "2024-04-19T09:27:56.052Z"
   },
   {
    "duration": 87,
    "start_time": "2024-04-19T09:28:05.355Z"
   },
   {
    "duration": 48,
    "start_time": "2024-04-19T09:28:14.363Z"
   },
   {
    "duration": 39,
    "start_time": "2024-04-19T09:28:17.335Z"
   },
   {
    "duration": 49,
    "start_time": "2024-04-19T09:28:29.203Z"
   },
   {
    "duration": 6,
    "start_time": "2024-04-19T09:28:32.960Z"
   },
   {
    "duration": 2133,
    "start_time": "2024-04-19T09:28:33.381Z"
   },
   {
    "duration": 81,
    "start_time": "2024-04-19T09:29:21.222Z"
   },
   {
    "duration": 37,
    "start_time": "2024-04-19T09:29:55.892Z"
   },
   {
    "duration": 87,
    "start_time": "2024-04-19T09:30:02.161Z"
   },
   {
    "duration": 41,
    "start_time": "2024-04-19T09:30:07.524Z"
   },
   {
    "duration": 6,
    "start_time": "2024-04-19T09:30:09.431Z"
   },
   {
    "duration": 1078,
    "start_time": "2024-04-19T09:30:10.954Z"
   },
   {
    "duration": 39,
    "start_time": "2024-04-19T09:30:48.944Z"
   },
   {
    "duration": 38,
    "start_time": "2024-04-19T09:31:00.728Z"
   },
   {
    "duration": 42,
    "start_time": "2024-04-19T09:31:05.162Z"
   },
   {
    "duration": 38,
    "start_time": "2024-04-19T09:31:18.631Z"
   },
   {
    "duration": 81,
    "start_time": "2024-04-19T09:31:24.467Z"
   },
   {
    "duration": 6,
    "start_time": "2024-04-19T09:31:28.776Z"
   },
   {
    "duration": 9,
    "start_time": "2024-04-19T09:31:29.164Z"
   },
   {
    "duration": 81,
    "start_time": "2024-04-19T09:34:16.464Z"
   },
   {
    "duration": 6,
    "start_time": "2024-04-19T09:36:17.820Z"
   },
   {
    "duration": 14,
    "start_time": "2024-04-19T09:36:19.364Z"
   },
   {
    "duration": 6,
    "start_time": "2024-04-19T09:36:46.740Z"
   },
   {
    "duration": 10,
    "start_time": "2024-04-19T09:36:49.026Z"
   },
   {
    "duration": 5,
    "start_time": "2024-04-19T09:38:16.975Z"
   },
   {
    "duration": 9,
    "start_time": "2024-04-19T09:38:17.552Z"
   },
   {
    "duration": 5,
    "start_time": "2024-04-19T09:39:36.747Z"
   },
   {
    "duration": 9,
    "start_time": "2024-04-19T09:39:36.904Z"
   },
   {
    "duration": 8,
    "start_time": "2024-04-19T09:48:06.533Z"
   },
   {
    "duration": 10,
    "start_time": "2024-04-19T09:48:14.855Z"
   },
   {
    "duration": 9,
    "start_time": "2024-04-19T09:48:44.505Z"
   },
   {
    "duration": 5,
    "start_time": "2024-04-19T09:50:48.988Z"
   },
   {
    "duration": 8,
    "start_time": "2024-04-19T09:50:49.305Z"
   },
   {
    "duration": 10,
    "start_time": "2024-04-19T09:50:51.961Z"
   },
   {
    "duration": 11,
    "start_time": "2024-04-19T09:50:55.285Z"
   },
   {
    "duration": 8,
    "start_time": "2024-04-19T09:52:36.535Z"
   },
   {
    "duration": 12,
    "start_time": "2024-04-19T09:52:44.882Z"
   },
   {
    "duration": 9,
    "start_time": "2024-04-19T09:52:50.939Z"
   },
   {
    "duration": 8,
    "start_time": "2024-04-19T09:55:29.022Z"
   },
   {
    "duration": 8,
    "start_time": "2024-04-19T09:55:35.375Z"
   },
   {
    "duration": 9,
    "start_time": "2024-04-19T09:55:45.524Z"
   },
   {
    "duration": 12,
    "start_time": "2024-04-19T09:55:53.885Z"
   },
   {
    "duration": 9,
    "start_time": "2024-04-19T09:56:00.038Z"
   },
   {
    "duration": 8,
    "start_time": "2024-04-19T09:56:04.726Z"
   },
   {
    "duration": 10,
    "start_time": "2024-04-19T09:56:09.206Z"
   },
   {
    "duration": 8,
    "start_time": "2024-04-19T09:56:18.735Z"
   },
   {
    "duration": 11,
    "start_time": "2024-04-19T09:56:22.117Z"
   },
   {
    "duration": 9,
    "start_time": "2024-04-19T09:56:25.253Z"
   },
   {
    "duration": 11,
    "start_time": "2024-04-19T09:59:56.207Z"
   },
   {
    "duration": 2795,
    "start_time": "2024-04-19T10:00:05.099Z"
   },
   {
    "duration": 1405,
    "start_time": "2024-04-19T10:00:08.627Z"
   },
   {
    "duration": 8,
    "start_time": "2024-04-19T10:00:18.430Z"
   },
   {
    "duration": 17,
    "start_time": "2024-04-19T10:04:20.192Z"
   },
   {
    "duration": 16,
    "start_time": "2024-04-19T10:04:35.787Z"
   },
   {
    "duration": 22,
    "start_time": "2024-04-19T10:04:55.229Z"
   },
   {
    "duration": 5,
    "start_time": "2024-04-19T10:07:18.930Z"
   },
   {
    "duration": 4,
    "start_time": "2024-04-19T10:07:32.778Z"
   },
   {
    "duration": 12,
    "start_time": "2024-04-19T10:08:31.752Z"
   },
   {
    "duration": 4,
    "start_time": "2024-04-19T10:10:28.341Z"
   },
   {
    "duration": 225,
    "start_time": "2024-04-19T10:10:29.132Z"
   },
   {
    "duration": 94,
    "start_time": "2024-04-19T10:10:29.688Z"
   },
   {
    "duration": 5,
    "start_time": "2024-04-19T10:10:40.848Z"
   },
   {
    "duration": 62,
    "start_time": "2024-04-19T10:10:42.515Z"
   },
   {
    "duration": 63,
    "start_time": "2024-04-19T10:10:43.243Z"
   },
   {
    "duration": 18,
    "start_time": "2024-04-19T10:10:43.526Z"
   },
   {
    "duration": 133,
    "start_time": "2024-04-19T10:10:44.884Z"
   },
   {
    "duration": 9,
    "start_time": "2024-04-19T10:10:45.368Z"
   },
   {
    "duration": 23,
    "start_time": "2024-04-19T10:10:45.945Z"
   },
   {
    "duration": 4,
    "start_time": "2024-04-19T10:10:49.135Z"
   },
   {
    "duration": 85,
    "start_time": "2024-04-19T10:42:29.345Z"
   },
   {
    "duration": 10,
    "start_time": "2024-04-19T10:43:27.331Z"
   },
   {
    "duration": 9,
    "start_time": "2024-04-19T10:43:32.706Z"
   },
   {
    "duration": 47,
    "start_time": "2024-04-19T10:44:04.678Z"
   },
   {
    "duration": 1123,
    "start_time": "2024-04-19T12:52:04.106Z"
   },
   {
    "duration": 170,
    "start_time": "2024-04-19T12:52:05.231Z"
   },
   {
    "duration": 106,
    "start_time": "2024-04-19T12:52:05.403Z"
   },
   {
    "duration": 5,
    "start_time": "2024-04-19T12:52:05.511Z"
   },
   {
    "duration": 98,
    "start_time": "2024-04-19T12:52:05.518Z"
   },
   {
    "duration": 54,
    "start_time": "2024-04-19T12:52:05.617Z"
   },
   {
    "duration": 15,
    "start_time": "2024-04-19T12:52:05.672Z"
   },
   {
    "duration": 136,
    "start_time": "2024-04-19T12:52:05.688Z"
   },
   {
    "duration": 9,
    "start_time": "2024-04-19T12:52:05.825Z"
   },
   {
    "duration": 46,
    "start_time": "2024-04-19T12:52:05.837Z"
   },
   {
    "duration": 22,
    "start_time": "2024-04-19T12:52:05.884Z"
   },
   {
    "duration": 38,
    "start_time": "2024-04-19T12:52:05.908Z"
   },
   {
    "duration": 26,
    "start_time": "2024-04-19T12:52:05.948Z"
   },
   {
    "duration": 29,
    "start_time": "2024-04-19T12:52:05.976Z"
   },
   {
    "duration": 9,
    "start_time": "2024-04-19T12:52:06.007Z"
   },
   {
    "duration": 367,
    "start_time": "2024-04-19T12:52:06.017Z"
   },
   {
    "duration": 21,
    "start_time": "2024-04-19T12:52:06.386Z"
   },
   {
    "duration": 3,
    "start_time": "2024-04-19T12:52:06.409Z"
   },
   {
    "duration": 41,
    "start_time": "2024-04-19T12:52:06.414Z"
   },
   {
    "duration": 5,
    "start_time": "2024-04-19T12:52:06.457Z"
   },
   {
    "duration": 12,
    "start_time": "2024-04-19T12:52:06.463Z"
   },
   {
    "duration": 37,
    "start_time": "2024-04-19T12:52:06.476Z"
   },
   {
    "duration": 40,
    "start_time": "2024-04-19T12:52:06.514Z"
   },
   {
    "duration": 77,
    "start_time": "2024-04-19T12:52:06.556Z"
   },
   {
    "duration": 16,
    "start_time": "2024-04-19T12:52:06.634Z"
   },
   {
    "duration": 30,
    "start_time": "2024-04-19T12:52:06.651Z"
   },
   {
    "duration": 11,
    "start_time": "2024-04-19T12:52:06.682Z"
   },
   {
    "duration": 7,
    "start_time": "2024-04-19T12:52:06.696Z"
   },
   {
    "duration": 174,
    "start_time": "2024-04-19T12:52:06.705Z"
   },
   {
    "duration": 3,
    "start_time": "2024-04-19T12:52:06.880Z"
   },
   {
    "duration": 31,
    "start_time": "2024-04-19T12:52:06.884Z"
   },
   {
    "duration": 52,
    "start_time": "2024-04-19T12:52:06.916Z"
   },
   {
    "duration": 39,
    "start_time": "2024-04-19T12:52:06.969Z"
   },
   {
    "duration": 3,
    "start_time": "2024-04-19T12:52:07.010Z"
   },
   {
    "duration": 39,
    "start_time": "2024-04-19T12:52:07.016Z"
   },
   {
    "duration": 28,
    "start_time": "2024-04-19T12:52:07.057Z"
   },
   {
    "duration": 21,
    "start_time": "2024-04-19T12:52:07.086Z"
   },
   {
    "duration": 16,
    "start_time": "2024-04-19T12:52:07.108Z"
   },
   {
    "duration": 21,
    "start_time": "2024-04-19T12:52:07.126Z"
   },
   {
    "duration": 21,
    "start_time": "2024-04-19T12:52:07.149Z"
   },
   {
    "duration": 36,
    "start_time": "2024-04-19T12:52:07.172Z"
   },
   {
    "duration": 24,
    "start_time": "2024-04-19T12:52:07.209Z"
   },
   {
    "duration": 82,
    "start_time": "2024-04-19T12:52:07.235Z"
   },
   {
    "duration": 37,
    "start_time": "2024-04-19T12:52:07.319Z"
   },
   {
    "duration": 5,
    "start_time": "2024-04-19T12:52:07.357Z"
   },
   {
    "duration": 32,
    "start_time": "2024-04-19T12:52:07.363Z"
   },
   {
    "duration": 23,
    "start_time": "2024-04-19T12:52:07.396Z"
   },
   {
    "duration": 26,
    "start_time": "2024-04-19T12:52:07.420Z"
   },
   {
    "duration": 37,
    "start_time": "2024-04-19T12:52:07.448Z"
   },
   {
    "duration": 4,
    "start_time": "2024-04-19T13:13:28.592Z"
   },
   {
    "duration": 193,
    "start_time": "2024-04-19T13:39:48.421Z"
   },
   {
    "duration": 3,
    "start_time": "2024-04-19T13:40:02.827Z"
   },
   {
    "duration": 186,
    "start_time": "2024-04-19T13:40:03.467Z"
   },
   {
    "duration": 1952,
    "start_time": "2024-04-19T13:40:04.665Z"
   },
   {
    "duration": 6,
    "start_time": "2024-04-19T13:40:46.189Z"
   },
   {
    "duration": 1694,
    "start_time": "2024-04-19T13:40:57.065Z"
   },
   {
    "duration": 3,
    "start_time": "2024-04-19T13:41:15.613Z"
   },
   {
    "duration": 4,
    "start_time": "2024-04-19T13:41:27.527Z"
   },
   {
    "duration": 9,
    "start_time": "2024-04-19T13:41:40.053Z"
   },
   {
    "duration": 73,
    "start_time": "2024-04-19T13:41:49.167Z"
   },
   {
    "duration": 1531,
    "start_time": "2024-04-19T13:42:02.505Z"
   },
   {
    "duration": 149,
    "start_time": "2024-04-19T13:42:50.737Z"
   },
   {
    "duration": 148,
    "start_time": "2024-04-19T13:43:16.034Z"
   },
   {
    "duration": 150,
    "start_time": "2024-04-19T13:43:23.509Z"
   },
   {
    "duration": 80,
    "start_time": "2024-04-19T13:43:52.585Z"
   },
   {
    "duration": 82,
    "start_time": "2024-04-19T13:44:07.046Z"
   },
   {
    "duration": 147,
    "start_time": "2024-04-19T13:44:21.436Z"
   },
   {
    "duration": 84,
    "start_time": "2024-04-19T13:44:45.905Z"
   },
   {
    "duration": 78,
    "start_time": "2024-04-19T13:45:04.132Z"
   },
   {
    "duration": 106,
    "start_time": "2024-04-19T13:45:16.087Z"
   },
   {
    "duration": 157,
    "start_time": "2024-04-19T13:45:25.103Z"
   },
   {
    "duration": 113,
    "start_time": "2024-04-19T13:45:44.583Z"
   },
   {
    "duration": 102,
    "start_time": "2024-04-19T13:45:57.453Z"
   },
   {
    "duration": 64,
    "start_time": "2024-04-19T13:45:59.902Z"
   },
   {
    "duration": 58,
    "start_time": "2024-04-19T13:46:05.052Z"
   },
   {
    "duration": 59,
    "start_time": "2024-04-19T13:46:08.820Z"
   },
   {
    "duration": 160,
    "start_time": "2024-04-19T13:46:18.782Z"
   },
   {
    "duration": 59,
    "start_time": "2024-04-19T13:46:30.832Z"
   },
   {
    "duration": 156,
    "start_time": "2024-04-19T13:46:50.357Z"
   },
   {
    "duration": 161,
    "start_time": "2024-04-19T13:47:02.625Z"
   },
   {
    "duration": 152,
    "start_time": "2024-04-19T13:47:32.180Z"
   },
   {
    "duration": 1424,
    "start_time": "2024-04-19T13:55:07.584Z"
   },
   {
    "duration": 10,
    "start_time": "2024-04-19T13:55:33.691Z"
   },
   {
    "duration": 161,
    "start_time": "2024-04-19T13:55:49.375Z"
   },
   {
    "duration": 4,
    "start_time": "2024-04-19T13:55:51.134Z"
   },
   {
    "duration": 71,
    "start_time": "2024-04-19T13:55:51.733Z"
   },
   {
    "duration": 59,
    "start_time": "2024-04-19T13:55:51.927Z"
   },
   {
    "duration": 17,
    "start_time": "2024-04-19T13:55:52.120Z"
   },
   {
    "duration": 119,
    "start_time": "2024-04-19T13:55:52.673Z"
   },
   {
    "duration": 9,
    "start_time": "2024-04-19T13:55:52.847Z"
   },
   {
    "duration": 35,
    "start_time": "2024-04-19T13:55:53.039Z"
   },
   {
    "duration": 4,
    "start_time": "2024-04-19T13:55:55.908Z"
   },
   {
    "duration": 28,
    "start_time": "2024-04-19T13:55:57.030Z"
   },
   {
    "duration": 8,
    "start_time": "2024-04-19T13:56:08.618Z"
   },
   {
    "duration": 43,
    "start_time": "2024-04-19T13:56:09.256Z"
   },
   {
    "duration": 7,
    "start_time": "2024-04-19T13:56:10.747Z"
   },
   {
    "duration": 328,
    "start_time": "2024-04-19T13:56:13.804Z"
   },
   {
    "duration": 15,
    "start_time": "2024-04-19T13:56:19.036Z"
   },
   {
    "duration": 597,
    "start_time": "2024-04-19T13:57:00.024Z"
   },
   {
    "duration": 547,
    "start_time": "2024-04-19T13:57:02.304Z"
   },
   {
    "duration": 558,
    "start_time": "2024-04-19T13:58:23.007Z"
   },
   {
    "duration": 397,
    "start_time": "2024-04-19T13:59:19.719Z"
   },
   {
    "duration": 412,
    "start_time": "2024-04-19T13:59:28.420Z"
   },
   {
    "duration": 698,
    "start_time": "2024-04-19T14:00:14.220Z"
   },
   {
    "duration": 585,
    "start_time": "2024-04-19T14:00:23.917Z"
   },
   {
    "duration": 17,
    "start_time": "2024-04-19T14:03:19.744Z"
   },
   {
    "duration": 9,
    "start_time": "2024-04-19T14:04:01.081Z"
   },
   {
    "duration": 25,
    "start_time": "2024-04-19T14:05:07.326Z"
   },
   {
    "duration": 30,
    "start_time": "2024-04-19T14:05:58.691Z"
   },
   {
    "duration": 87,
    "start_time": "2024-04-19T14:06:04.676Z"
   },
   {
    "duration": 23,
    "start_time": "2024-04-19T14:06:05.964Z"
   },
   {
    "duration": 653,
    "start_time": "2024-04-19T14:12:37.062Z"
   },
   {
    "duration": 6,
    "start_time": "2024-04-19T14:12:52.383Z"
   },
   {
    "duration": 6,
    "start_time": "2024-04-19T14:12:57.131Z"
   },
   {
    "duration": 41,
    "start_time": "2024-04-19T14:13:10.309Z"
   },
   {
    "duration": 38,
    "start_time": "2024-04-19T14:13:20.443Z"
   },
   {
    "duration": 42,
    "start_time": "2024-04-19T14:14:09.167Z"
   },
   {
    "duration": 39,
    "start_time": "2024-04-19T14:14:33.491Z"
   },
   {
    "duration": 38,
    "start_time": "2024-04-19T14:14:47.107Z"
   },
   {
    "duration": 39,
    "start_time": "2024-04-19T14:15:03.624Z"
   },
   {
    "duration": 40,
    "start_time": "2024-04-19T14:15:13.876Z"
   },
   {
    "duration": 40,
    "start_time": "2024-04-19T14:15:29.962Z"
   },
   {
    "duration": 39,
    "start_time": "2024-04-19T14:15:35.514Z"
   },
   {
    "duration": 6,
    "start_time": "2024-04-19T14:15:36.316Z"
   },
   {
    "duration": 6,
    "start_time": "2024-04-19T14:15:41.227Z"
   },
   {
    "duration": 5,
    "start_time": "2024-04-19T14:26:04.845Z"
   },
   {
    "duration": 6,
    "start_time": "2024-04-19T14:26:09.150Z"
   },
   {
    "duration": 9,
    "start_time": "2024-04-19T14:26:11.505Z"
   },
   {
    "duration": 3,
    "start_time": "2024-04-19T14:26:25.973Z"
   },
   {
    "duration": 190,
    "start_time": "2024-04-19T14:26:26.402Z"
   },
   {
    "duration": 167,
    "start_time": "2024-04-19T14:26:26.755Z"
   },
   {
    "duration": 4,
    "start_time": "2024-04-19T14:26:28.717Z"
   },
   {
    "duration": 69,
    "start_time": "2024-04-19T14:26:29.434Z"
   },
   {
    "duration": 48,
    "start_time": "2024-04-19T14:26:29.666Z"
   },
   {
    "duration": 28,
    "start_time": "2024-04-19T14:26:29.948Z"
   },
   {
    "duration": 115,
    "start_time": "2024-04-19T14:26:30.868Z"
   },
   {
    "duration": 10,
    "start_time": "2024-04-19T14:26:31.266Z"
   },
   {
    "duration": 24,
    "start_time": "2024-04-19T14:26:31.473Z"
   },
   {
    "duration": 4,
    "start_time": "2024-04-19T14:26:33.229Z"
   },
   {
    "duration": 28,
    "start_time": "2024-04-19T14:26:33.788Z"
   },
   {
    "duration": 10,
    "start_time": "2024-04-19T14:26:34.873Z"
   },
   {
    "duration": 29,
    "start_time": "2024-04-19T14:26:35.803Z"
   },
   {
    "duration": 7,
    "start_time": "2024-04-19T14:26:36.869Z"
   },
   {
    "duration": 564,
    "start_time": "2024-04-19T14:26:38.000Z"
   },
   {
    "duration": 17,
    "start_time": "2024-04-19T14:26:48.128Z"
   },
   {
    "duration": 4,
    "start_time": "2024-04-19T14:26:55.492Z"
   },
   {
    "duration": 18,
    "start_time": "2024-04-19T14:26:56.109Z"
   },
   {
    "duration": 4,
    "start_time": "2024-04-19T14:26:56.464Z"
   },
   {
    "duration": 7,
    "start_time": "2024-04-19T14:26:58.996Z"
   },
   {
    "duration": 37,
    "start_time": "2024-04-19T14:27:00.518Z"
   },
   {
    "duration": 28,
    "start_time": "2024-04-19T14:27:04.900Z"
   },
   {
    "duration": 76,
    "start_time": "2024-04-19T14:27:09.326Z"
   },
   {
    "duration": 26,
    "start_time": "2024-04-19T14:27:10.808Z"
   },
   {
    "duration": 9,
    "start_time": "2024-04-19T14:27:17.832Z"
   },
   {
    "duration": 4,
    "start_time": "2024-04-19T14:27:19.446Z"
   },
   {
    "duration": 4,
    "start_time": "2024-04-19T14:27:20.209Z"
   },
   {
    "duration": 188,
    "start_time": "2024-04-19T14:27:20.635Z"
   },
   {
    "duration": 4,
    "start_time": "2024-04-19T14:27:28.117Z"
   },
   {
    "duration": 3,
    "start_time": "2024-04-19T14:27:28.467Z"
   },
   {
    "duration": 43,
    "start_time": "2024-04-19T14:27:30.232Z"
   },
   {
    "duration": 45,
    "start_time": "2024-04-19T14:27:31.697Z"
   },
   {
    "duration": 4,
    "start_time": "2024-04-19T14:27:32.453Z"
   },
   {
    "duration": 15,
    "start_time": "2024-04-19T14:27:32.838Z"
   },
   {
    "duration": 15,
    "start_time": "2024-04-19T14:27:33.621Z"
   },
   {
    "duration": 14,
    "start_time": "2024-04-19T14:27:33.837Z"
   },
   {
    "duration": 4,
    "start_time": "2024-04-19T14:27:35.211Z"
   },
   {
    "duration": 3,
    "start_time": "2024-04-19T14:27:35.635Z"
   },
   {
    "duration": 4,
    "start_time": "2024-04-19T14:27:36.065Z"
   },
   {
    "duration": 8,
    "start_time": "2024-04-19T14:27:37.470Z"
   },
   {
    "duration": 9,
    "start_time": "2024-04-19T14:27:38.391Z"
   },
   {
    "duration": 76,
    "start_time": "2024-04-19T14:27:49.003Z"
   },
   {
    "duration": 39,
    "start_time": "2024-04-19T14:27:50.519Z"
   },
   {
    "duration": 41,
    "start_time": "2024-04-19T14:27:54.579Z"
   },
   {
    "duration": 6,
    "start_time": "2024-04-19T14:27:54.805Z"
   },
   {
    "duration": 5,
    "start_time": "2024-04-19T14:27:56.627Z"
   },
   {
    "duration": 8,
    "start_time": "2024-04-19T14:28:02.299Z"
   },
   {
    "duration": 9,
    "start_time": "2024-04-19T14:28:05.016Z"
   },
   {
    "duration": 9,
    "start_time": "2024-04-19T14:28:08.022Z"
   },
   {
    "duration": 10,
    "start_time": "2024-04-19T14:28:09.854Z"
   },
   {
    "duration": 4,
    "start_time": "2024-04-19T14:30:22.298Z"
   },
   {
    "duration": 184,
    "start_time": "2024-04-19T14:30:23.608Z"
   },
   {
    "duration": 168,
    "start_time": "2024-04-19T14:30:24.245Z"
   },
   {
    "duration": 4,
    "start_time": "2024-04-19T14:31:01.665Z"
   },
   {
    "duration": 57,
    "start_time": "2024-04-19T14:31:03.432Z"
   },
   {
    "duration": 56,
    "start_time": "2024-04-19T14:31:03.777Z"
   },
   {
    "duration": 18,
    "start_time": "2024-04-19T14:31:03.961Z"
   },
   {
    "duration": 131,
    "start_time": "2024-04-19T14:31:04.924Z"
   },
   {
    "duration": 9,
    "start_time": "2024-04-19T14:31:05.110Z"
   },
   {
    "duration": 22,
    "start_time": "2024-04-19T14:31:05.521Z"
   },
   {
    "duration": 3,
    "start_time": "2024-04-19T14:31:07.699Z"
   },
   {
    "duration": 28,
    "start_time": "2024-04-19T14:31:08.582Z"
   },
   {
    "duration": 12,
    "start_time": "2024-04-19T14:31:10.099Z"
   },
   {
    "duration": 29,
    "start_time": "2024-04-19T14:31:10.781Z"
   },
   {
    "duration": 7,
    "start_time": "2024-04-19T14:31:12.079Z"
   },
   {
    "duration": 536,
    "start_time": "2024-04-19T14:31:13.271Z"
   },
   {
    "duration": 14,
    "start_time": "2024-04-19T14:31:26.508Z"
   },
   {
    "duration": 3,
    "start_time": "2024-04-19T14:31:27.342Z"
   },
   {
    "duration": 19,
    "start_time": "2024-04-19T14:31:27.916Z"
   },
   {
    "duration": 4,
    "start_time": "2024-04-19T14:31:28.397Z"
   },
   {
    "duration": 7,
    "start_time": "2024-04-19T14:31:29.569Z"
   },
   {
    "duration": 34,
    "start_time": "2024-04-19T14:31:30.097Z"
   },
   {
    "duration": 28,
    "start_time": "2024-04-19T14:31:31.562Z"
   },
   {
    "duration": 73,
    "start_time": "2024-04-19T14:31:32.375Z"
   },
   {
    "duration": 27,
    "start_time": "2024-04-19T14:31:32.634Z"
   },
   {
    "duration": 12,
    "start_time": "2024-04-19T14:31:58.364Z"
   },
   {
    "duration": 5,
    "start_time": "2024-04-19T14:32:05.134Z"
   },
   {
    "duration": 5,
    "start_time": "2024-04-19T14:32:05.384Z"
   },
   {
    "duration": 194,
    "start_time": "2024-04-19T14:32:05.884Z"
   },
   {
    "duration": 3,
    "start_time": "2024-04-19T14:32:21.594Z"
   },
   {
    "duration": 3,
    "start_time": "2024-04-19T14:32:21.949Z"
   },
   {
    "duration": 36,
    "start_time": "2024-04-19T14:32:22.974Z"
   },
   {
    "duration": 43,
    "start_time": "2024-04-19T14:32:23.619Z"
   },
   {
    "duration": 3,
    "start_time": "2024-04-19T14:32:24.020Z"
   },
   {
    "duration": 15,
    "start_time": "2024-04-19T14:32:24.228Z"
   },
   {
    "duration": 15,
    "start_time": "2024-04-19T14:32:24.395Z"
   },
   {
    "duration": 15,
    "start_time": "2024-04-19T14:32:24.606Z"
   },
   {
    "duration": 5,
    "start_time": "2024-04-19T14:32:25.215Z"
   },
   {
    "duration": 5,
    "start_time": "2024-04-19T14:32:25.449Z"
   },
   {
    "duration": 4,
    "start_time": "2024-04-19T14:32:25.624Z"
   },
   {
    "duration": 11,
    "start_time": "2024-04-19T14:32:26.929Z"
   },
   {
    "duration": 8,
    "start_time": "2024-04-19T14:32:27.791Z"
   },
   {
    "duration": 74,
    "start_time": "2024-04-19T14:32:29.880Z"
   },
   {
    "duration": 40,
    "start_time": "2024-04-19T14:32:30.523Z"
   },
   {
    "duration": 6,
    "start_time": "2024-04-19T14:32:31.399Z"
   },
   {
    "duration": 6,
    "start_time": "2024-04-19T14:32:33.632Z"
   },
   {
    "duration": 9,
    "start_time": "2024-04-19T14:32:35.511Z"
   },
   {
    "duration": 9,
    "start_time": "2024-04-19T14:32:37.816Z"
   },
   {
    "duration": 9,
    "start_time": "2024-04-19T14:32:41.071Z"
   },
   {
    "duration": 8,
    "start_time": "2024-04-19T14:33:15.854Z"
   },
   {
    "duration": 1098,
    "start_time": "2024-04-19T16:55:33.132Z"
   },
   {
    "duration": 166,
    "start_time": "2024-04-19T16:55:34.232Z"
   },
   {
    "duration": 166,
    "start_time": "2024-04-19T16:55:34.399Z"
   },
   {
    "duration": 4,
    "start_time": "2024-04-19T16:55:34.566Z"
   },
   {
    "duration": 94,
    "start_time": "2024-04-19T16:55:34.572Z"
   },
   {
    "duration": 52,
    "start_time": "2024-04-19T16:55:34.667Z"
   },
   {
    "duration": 14,
    "start_time": "2024-04-19T16:55:34.720Z"
   },
   {
    "duration": 108,
    "start_time": "2024-04-19T16:55:34.745Z"
   },
   {
    "duration": 8,
    "start_time": "2024-04-19T16:55:34.855Z"
   },
   {
    "duration": 26,
    "start_time": "2024-04-19T16:55:34.865Z"
   },
   {
    "duration": 3,
    "start_time": "2024-04-19T16:55:34.892Z"
   },
   {
    "duration": 25,
    "start_time": "2024-04-19T16:55:34.897Z"
   },
   {
    "duration": 24,
    "start_time": "2024-04-19T16:55:34.923Z"
   },
   {
    "duration": 24,
    "start_time": "2024-04-19T16:55:34.949Z"
   },
   {
    "duration": 28,
    "start_time": "2024-04-19T16:55:34.974Z"
   },
   {
    "duration": 507,
    "start_time": "2024-04-19T16:55:35.003Z"
   },
   {
    "duration": 17,
    "start_time": "2024-04-19T16:55:35.512Z"
   },
   {
    "duration": 15,
    "start_time": "2024-04-19T16:55:35.531Z"
   },
   {
    "duration": 32,
    "start_time": "2024-04-19T16:55:35.547Z"
   },
   {
    "duration": 30,
    "start_time": "2024-04-19T16:55:35.581Z"
   },
   {
    "duration": 36,
    "start_time": "2024-04-19T16:55:35.613Z"
   },
   {
    "duration": 51,
    "start_time": "2024-04-19T16:55:35.650Z"
   },
   {
    "duration": 23,
    "start_time": "2024-04-19T16:55:35.702Z"
   },
   {
    "duration": 110,
    "start_time": "2024-04-19T16:55:35.726Z"
   },
   {
    "duration": 22,
    "start_time": "2024-04-19T16:55:35.838Z"
   },
   {
    "duration": 15,
    "start_time": "2024-04-19T16:55:35.861Z"
   },
   {
    "duration": 31,
    "start_time": "2024-04-19T16:55:35.877Z"
   },
   {
    "duration": 19,
    "start_time": "2024-04-19T16:55:35.911Z"
   },
   {
    "duration": 165,
    "start_time": "2024-04-19T16:55:35.932Z"
   },
   {
    "duration": 3,
    "start_time": "2024-04-19T16:55:36.099Z"
   },
   {
    "duration": 20,
    "start_time": "2024-04-19T16:55:36.103Z"
   },
   {
    "duration": 48,
    "start_time": "2024-04-19T16:55:36.124Z"
   },
   {
    "duration": 36,
    "start_time": "2024-04-19T16:55:36.173Z"
   },
   {
    "duration": 4,
    "start_time": "2024-04-19T16:55:36.210Z"
   },
   {
    "duration": 30,
    "start_time": "2024-04-19T16:55:36.215Z"
   },
   {
    "duration": 20,
    "start_time": "2024-04-19T16:55:36.246Z"
   },
   {
    "duration": 28,
    "start_time": "2024-04-19T16:55:36.268Z"
   },
   {
    "duration": 11,
    "start_time": "2024-04-19T16:55:36.297Z"
   },
   {
    "duration": 22,
    "start_time": "2024-04-19T16:55:36.309Z"
   },
   {
    "duration": 29,
    "start_time": "2024-04-19T16:55:36.333Z"
   },
   {
    "duration": 21,
    "start_time": "2024-04-19T16:55:36.363Z"
   },
   {
    "duration": 41,
    "start_time": "2024-04-19T16:55:36.385Z"
   },
   {
    "duration": 93,
    "start_time": "2024-04-19T16:55:36.427Z"
   },
   {
    "duration": 36,
    "start_time": "2024-04-19T16:55:36.521Z"
   },
   {
    "duration": 22,
    "start_time": "2024-04-19T16:55:36.558Z"
   },
   {
    "duration": 12,
    "start_time": "2024-04-19T16:55:36.582Z"
   },
   {
    "duration": 38,
    "start_time": "2024-04-19T16:55:36.596Z"
   },
   {
    "duration": 29,
    "start_time": "2024-04-19T16:55:36.635Z"
   },
   {
    "duration": 21,
    "start_time": "2024-04-19T16:55:36.666Z"
   },
   {
    "duration": 45,
    "start_time": "2024-04-19T16:55:36.688Z"
   }
  ],
  "kernelspec": {
   "display_name": "Python 3 (ipykernel)",
   "language": "python",
   "name": "python3"
  },
  "language_info": {
   "codemirror_mode": {
    "name": "ipython",
    "version": 3
   },
   "file_extension": ".py",
   "mimetype": "text/x-python",
   "name": "python",
   "nbconvert_exporter": "python",
   "pygments_lexer": "ipython3",
   "version": "3.9.19"
  },
  "toc": {
   "base_numbering": 1,
   "nav_menu": {
    "height": "331.4px",
    "width": "275px"
   },
   "number_sections": true,
   "sideBar": true,
   "skip_h1_title": true,
   "title_cell": "Table of Contents",
   "title_sidebar": "Contents",
   "toc_cell": false,
   "toc_position": {},
   "toc_section_display": true,
   "toc_window_display": false
  }
 },
 "nbformat": 4,
 "nbformat_minor": 2
}
